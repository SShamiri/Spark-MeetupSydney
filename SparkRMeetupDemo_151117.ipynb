{
 "cells": [
  {
   "cell_type": "markdown",
   "metadata": {},
   "source": [
    "#Data Wrangling/Machine learning with SparkR\n",
    "\n",
    "SparkR allows data scientists to do seamless manipulation and analysis of very large data in R, through exposing existing Spark functionality in an R friendly syntax via the DataFrame API. Without learning a new programming paradigm when working with Spark\n"
   ]
  },
  {
   "cell_type": "markdown",
   "metadata": {},
   "source": [
    "##loading libraries\n",
    "\n",
    "The package SparkRext was created to make SparkR closer to dplyr.\n"
   ]
  },
  {
   "cell_type": "code",
   "execution_count": 1,
   "metadata": {
    "collapsed": true
   },
   "outputs": [
    {
     "name": "stderr",
     "output_type": "stream",
     "text": [
      "Warning message:\n",
      ": package 'dplyr' was built under R version 3.2.2\n",
      "Attaching package: 'dplyr'\n",
      "\n",
      "The following objects are masked from 'package:stats':\n",
      "\n",
      "    filter, lag\n",
      "\n",
      "The following objects are masked from 'package:base':\n",
      "\n",
      "    intersect, setdiff, setequal, union\n",
      "\n",
      "Warning message:\n",
      ": package 'SparkR' was built under R version 3.2.1\n",
      "Attaching package: 'SparkR'\n",
      "\n",
      "The following objects are masked from 'package:dplyr':\n",
      "\n",
      "    arrange, between, collect, count, desc, distinct, explain, filter,\n",
      "    first, group_by, intersect, last, mutate, n, n_distinct, rename,\n",
      "    sample_frac, select, sql, summarize\n",
      "\n",
      "The following objects are masked from 'package:stats':\n",
      "\n",
      "    filter, na.omit\n",
      "\n",
      "The following objects are masked from 'package:base':\n",
      "\n",
      "    intersect, rbind, sample, subset, summary, table, transform\n",
      "\n",
      "\n",
      "Attaching package: 'SparkRext'\n",
      "\n",
      "The following objects are masked from 'package:SparkR':\n",
      "\n",
      "    arrange, filter, group_by, mutate, select, summarize\n",
      "\n",
      "The following objects are masked from 'package:dplyr':\n",
      "\n",
      "    %>%, arrange, filter, group_by, mutate, select, summarise,\n",
      "    summarize\n",
      "\n",
      "The following object is masked from 'package:stats':\n",
      "\n",
      "    filter\n",
      "\n"
     ]
    }
   ],
   "source": [
    "library(dplyr)\n",
    "library(\"SparkR\", lib.loc=\"C:\\\\spark-1.5.0\\\\R\\\\lib\") \n",
    "library(SparkRext)"
   ]
  },
  {
   "cell_type": "markdown",
   "metadata": {},
   "source": [
    "##Initialize Spark context\n",
    "\n",
    "The entry point into SparkR is to initialize a SparkContext through sparkR.init() which connects your R program to a Spark cluster. Note spark context once created is immutable.if you want to create a new spark context then you will have to remove or destroy the previous spark context."
   ]
  },
  {
   "cell_type": "code",
   "execution_count": 2,
   "metadata": {
    "collapsed": true
   },
   "outputs": [
    {
     "name": "stdout",
     "output_type": "stream",
     "text": [
      "Launching java with spark-submit command C:\\spark-1.5.0/bin/spark-submit.cmd   sparkr-shell C:\\Users\\Samuel\\AppData\\Local\\Temp\\Rtmp0QXtcv\\backend_port150cf755106 \n"
     ]
    }
   ],
   "source": [
    "sc = sparkR.init(master=\"local[4]\",sparkHome =\"C:\\\\spark-1.5.0\",sparkEnvir=list(spark.executor.memory=\"2g\"))\n",
    " # where index 4 refers to number of CPU cores\n",
    "sqlContext = sparkRSQL.init(sc) # here I create  a SqlContext"
   ]
  },
  {
   "cell_type": "markdown",
   "metadata": {},
   "source": [
    "##Connecting to SQL server\n",
    "\n",
    "The function loadDF by default create's a DataFrame."
   ]
  },
  {
   "cell_type": "code",
   "execution_count": 3,
   "metadata": {
    "collapsed": false
   },
   "outputs": [],
   "source": [
    "df =  loadDF(sqlContext,source=\"jdbc\", url=\"jdbc:sqlserver://SHAMIRI;databaseName=test;integratedSecurity=true;\",\n",
    "             dbtable=\"dbo.ss13husa\",\n",
    "             partitionColumn=\"ID\",\n",
    "             lowerBound = \"0\", \n",
    "             upperBound = \"55\", \n",
    "             numPartitions = \"15\")  # lazy (no print out)\n"
   ]
  },
  {
   "cell_type": "code",
   "execution_count": 3,
   "metadata": {
    "collapsed": true
   },
   "outputs": [],
   "source": [
    "tmp = read.df(sqlContext,\"C:/Users/Samuel/Spark training/housing.json\", source = \"json\") # DataFrame from json"
   ]
  },
  {
   "cell_type": "code",
   "execution_count": 6,
   "metadata": {
    "collapsed": true
   },
   "outputs": [
    {
     "name": "stdout",
     "output_type": "stream",
     "text": [
      "+----+----+----+----+----+------+----+-----+---+----+\n",
      "|BEDS|ELEP|GASP|  ID|INSP| PRICE|SIZE|STATE|SUB|TAXP|\n",
      "+----+----+----+----+----+------+----+-----+---+----+\n",
      "|null|null|null|  84|null|  null|null|    3|  1|null|\n",
      "|   9| 350|   3| 154| 350| 25000|   1|    3|  1|   3|\n",
      "|   6| 300|   3| 156| 980| 80000|   1|    3|  1|   6|\n",
      "|   6| 220|  20| 160|null|  null|   3|    3|  1|null|\n",
      "|   3|  60|   3| 231|null|  null|null|    3|  1|null|\n",
      "|   9| 100|  90| 286|  50| 18000|   1|    3|  1|   3|\n",
      "|  17| 240|   3| 312|2200|390000|   1|    3|  1|  26|\n",
      "|   5| 130|  40| 316|1700|120000|   2|    3|  1|   5|\n",
      "|   2| 130|   3| 335|null|  null|null|    3|  1|null|\n",
      "|   8|  80| 280| 447|1200|160000|   2|    3|  1|  10|\n",
      "|null|null|null| 557|null|  null|null|    3|  1|null|\n",
      "|   4|  90|   3| 588|null|  null|   1|    3|  1|null|\n",
      "|   5| 100|  30| 709|null|  null|   2|    3|  1|null|\n",
      "|   4| 100|   3| 732|null|  null|null|    3|  1|null|\n",
      "|   6| 190|   3| 776| 600| 40000|   2|    3|  1|   2|\n",
      "|   4| 300|   3| 891| 900| 60000|   2|    3|  1|   6|\n",
      "|   5|  50|   4| 944| 900| 60000|   1|    3|  1|   5|\n",
      "|   6| 150|  50|1088|null|  null|   1|    3|  1|null|\n",
      "|   8| 150|   3|1117|1200|250000|   1|    3|  1|  24|\n",
      "|   7|  70|   3|1242| 850|110000|   1|    3|  1|   9|\n",
      "+----+----+----+----+----+------+----+-----+---+----+\n",
      "only showing top 20 rows\n"
     ]
    }
   ],
   "source": [
    "showDF(tmp)"
   ]
  },
  {
   "cell_type": "code",
   "execution_count": 11,
   "metadata": {
    "collapsed": true
   },
   "outputs": [
    {
     "data": {
      "text/html": [
       "756065"
      ],
      "text/latex": [
       "756065"
      ],
      "text/markdown": [
       "756065"
      ],
      "text/plain": [
       "[1] 756065"
      ]
     },
     "execution_count": 11,
     "metadata": {},
     "output_type": "execute_result"
    }
   ],
   "source": [
    "tmp = tmp %>%repartition(10) %>%cache # change the number of partition\n",
    "tmp %>% nrow"
   ]
  },
  {
   "cell_type": "code",
   "execution_count": 4,
   "metadata": {
    "collapsed": true
   },
   "outputs": [
    {
     "name": "stdout",
     "output_type": "stream",
     "text": [
      "+----+----+----+----+----+------+----+-----+---+----+\n",
      "|BEDS|ELEP|GASP|  ID|INSP| PRICE|SIZE|STATE|SUB|TAXP|\n",
      "+----+----+----+----+----+------+----+-----+---+----+\n",
      "|null|null|null|  84|null|  null|null|    3|  1|null|\n",
      "|   9| 350|   3| 154| 350| 25000|   1|    3|  1|   3|\n",
      "|   6| 300|   3| 156| 980| 80000|   1|    3|  1|   6|\n",
      "|   6| 220|  20| 160|null|  null|   3|    3|  1|null|\n",
      "|   3|  60|   3| 231|null|  null|null|    3|  1|null|\n",
      "|   9| 100|  90| 286|  50| 18000|   1|    3|  1|   3|\n",
      "|  17| 240|   3| 312|2200|390000|   1|    3|  1|  26|\n",
      "|   5| 130|  40| 316|1700|120000|   2|    3|  1|   5|\n",
      "|   2| 130|   3| 335|null|  null|null|    3|  1|null|\n",
      "|   8|  80| 280| 447|1200|160000|   2|    3|  1|  10|\n",
      "|null|null|null| 557|null|  null|null|    3|  1|null|\n",
      "|   4|  90|   3| 588|null|  null|   1|    3|  1|null|\n",
      "|   5| 100|  30| 709|null|  null|   2|    3|  1|null|\n",
      "|   4| 100|   3| 732|null|  null|null|    3|  1|null|\n",
      "|   6| 190|   3| 776| 600| 40000|   2|    3|  1|   2|\n",
      "|   4| 300|   3| 891| 900| 60000|   2|    3|  1|   6|\n",
      "|   5|  50|   4| 944| 900| 60000|   1|    3|  1|   5|\n",
      "|   6| 150|  50|1088|null|  null|   1|    3|  1|null|\n",
      "|   8| 150|   3|1117|1200|250000|   1|    3|  1|  24|\n",
      "|   7|  70|   3|1242| 850|110000|   1|    3|  1|   9|\n",
      "+----+----+----+----+----+------+----+-----+---+----+\n",
      "only showing top 20 rows\n"
     ]
    }
   ],
   "source": [
    "showDF(tmp)"
   ]
  },
  {
   "cell_type": "code",
   "execution_count": 4,
   "metadata": {
    "collapsed": true
   },
   "outputs": [
    {
     "data": {
      "text/html": [
       "756065"
      ],
      "text/latex": [
       "756065"
      ],
      "text/markdown": [
       "756065"
      ],
      "text/plain": [
       "[1] 756065"
      ]
     },
     "execution_count": 4,
     "metadata": {},
     "output_type": "execute_result"
    }
   ],
   "source": [
    "df %>% nrow"
   ]
  },
  {
   "cell_type": "code",
   "execution_count": 4,
   "metadata": {
    "collapsed": false
   },
   "outputs": [
    {
     "data": {
      "text/html": [
       "720248"
      ],
      "text/latex": [
       "720248"
      ],
      "text/markdown": [
       "720248"
      ],
      "text/plain": [
       "[1] 720248"
      ]
     },
     "execution_count": 4,
     "metadata": {},
     "output_type": "execute_result"
    }
   ],
   "source": [
    "df2 =  loadDF(sqlContext,source=\"jdbc\", url=\"jdbc:sqlserver://SHAMIRI;databaseName=test;integratedSecurity=true;\",\n",
    "             dbtable=\"dbo.ss13husb\",\n",
    "             partitionColumn=\"ID\",\n",
    "             lowerBound = \"0\", \n",
    "             upperBound = \"55\", \n",
    "             numPartitions = \"5\")\n",
    "df2 %>% nrow"
   ]
  },
  {
   "cell_type": "code",
   "execution_count": 5,
   "metadata": {
    "collapsed": false
   },
   "outputs": [],
   "source": [
    "tmp = collect(df) ## convert into R data.frame"
   ]
  },
  {
   "cell_type": "code",
   "execution_count": 6,
   "metadata": {
    "collapsed": false
   },
   "outputs": [
    {
     "data": {
      "text/html": [
       "\"data.frame\""
      ],
      "text/latex": [
       "\"data.frame\""
      ],
      "text/markdown": [
       "\"data.frame\""
      ],
      "text/plain": [
       "[1] \"data.frame\""
      ]
     },
     "execution_count": 6,
     "metadata": {},
     "output_type": "execute_result"
    }
   ],
   "source": [
    "class(tmp)"
   ]
  },
  {
   "cell_type": "markdown",
   "metadata": {},
   "source": [
    "## DataFrame operations"
   ]
  },
  {
   "cell_type": "code",
   "execution_count": 5,
   "metadata": {
    "collapsed": false
   },
   "outputs": [
    {
     "name": "stdout",
     "output_type": "stream",
     "text": [
      "root\n",
      " |-- ID: integer (nullable = true)\n",
      " |-- PRICE: integer (nullable = true)\n",
      " |-- BEDS: integer (nullable = true)\n",
      " |-- SIZE: integer (nullable = true)\n",
      " |-- INSP: integer (nullable = true)\n",
      " |-- TAXP: integer (nullable = true)\n",
      " |-- ELEP: integer (nullable = true)\n",
      " |-- GASP: integer (nullable = true)\n",
      " |-- SUB: integer (nullable = true)\n",
      " |-- STATE: integer (nullable = true)\n"
     ]
    }
   ],
   "source": [
    "dat = rbind(df, df2) # bind rows\n",
    "printSchema(dat)"
   ]
  },
  {
   "cell_type": "code",
   "execution_count": 7,
   "metadata": {
    "collapsed": true
   },
   "outputs": [
    {
     "data": {
      "text/html": [
       "1476313"
      ],
      "text/latex": [
       "1476313"
      ],
      "text/markdown": [
       "1476313"
      ],
      "text/plain": [
       "[1] 1476313"
      ]
     },
     "execution_count": 7,
     "metadata": {},
     "output_type": "execute_result"
    }
   ],
   "source": [
    "dat %>% nrow"
   ]
  },
  {
   "cell_type": "code",
   "execution_count": 8,
   "metadata": {
    "collapsed": true
   },
   "outputs": [
    {
     "data": {
      "text/html": [
       "<table>\n",
       "<thead><tr><th></th><th scope=col>ID</th><th scope=col>PRICE</th><th scope=col>BEDS</th><th scope=col>SIZE</th><th scope=col>INSP</th><th scope=col>TAXP</th><th scope=col>ELEP</th><th scope=col>GASP</th><th scope=col>SUB</th><th scope=col>STATE</th></tr></thead>\n",
       "<tbody>\n",
       "\t<tr><th scope=row>1</th><td>5</td><td>90000</td><td>6</td><td>1</td><td>500</td><td>12</td><td>70</td><td>50</td><td>8</td><td>4</td></tr>\n",
       "\t<tr><th scope=row>2</th><td>2</td><td>260000</td><td>7</td><td>2</td><td>1500</td><td>42</td><td>250</td><td>3</td><td>10</td><td>3</td></tr>\n",
       "\t<tr><th scope=row>3</th><td>7</td><td>NA</td><td>4</td><td>NA</td><td>NA</td><td>NA</td><td>1</td><td>3</td><td>11</td><td>3</td></tr>\n",
       "\t<tr><th scope=row>4</th><td>1</td><td>180000</td><td>5</td><td>1</td><td>900</td><td>29</td><td>150</td><td>3</td><td>12</td><td>3</td></tr>\n",
       "\t<tr><th scope=row>5</th><td>4</td><td>130000</td><td>4</td><td>NA</td><td>990</td><td>25</td><td>50</td><td>3</td><td>12</td><td>3</td></tr>\n",
       "\t<tr><th scope=row>6</th><td>9</td><td>1571000</td><td>8</td><td>1</td><td>2500</td><td>66</td><td>110</td><td>160</td><td>19</td><td>2</td></tr>\n",
       "</tbody>\n",
       "</table>\n"
      ],
      "text/latex": [
       "\\begin{tabular}{r|llllllllll}\n",
       "  & ID & PRICE & BEDS & SIZE & INSP & TAXP & ELEP & GASP & SUB & STATE\\\\\n",
       "\\hline\n",
       "\t1 & 5 & 90000 & 6 & 1 & 500 & 12 & 70 & 50 & 8 & 4\\\\\n",
       "\t2 & 2 & 260000 & 7 & 2 & 1500 & 42 & 250 & 3 & 10 & 3\\\\\n",
       "\t3 & 7 & NA & 4 & NA & NA & NA & 1 & 3 & 11 & 3\\\\\n",
       "\t4 & 1 & 180000 & 5 & 1 & 900 & 29 & 150 & 3 & 12 & 3\\\\\n",
       "\t5 & 4 & 130000 & 4 & NA & 990 & 25 & 50 & 3 & 12 & 3\\\\\n",
       "\t6 & 9 & 1571000 & 8 & 1 & 2500 & 66 & 110 & 160 & 19 & 2\\\\\n",
       "\\end{tabular}\n"
      ],
      "text/plain": [
       "  ID   PRICE BEDS SIZE INSP TAXP ELEP GASP SUB STATE\n",
       "1  5   90000    6    1  500   12   70   50   8     4\n",
       "2  2  260000    7    2 1500   42  250    3  10     3\n",
       "3  7      NA    4   NA   NA   NA    1    3  11     3\n",
       "4  1  180000    5    1  900   29  150    3  12     3\n",
       "5  4  130000    4   NA  990   25   50    3  12     3\n",
       "6  9 1571000    8    1 2500   66  110  160  19     2"
      ]
     },
     "execution_count": 8,
     "metadata": {},
     "output_type": "execute_result"
    }
   ],
   "source": [
    "dat %>% head"
   ]
  },
  {
   "cell_type": "code",
   "execution_count": 9,
   "metadata": {
    "collapsed": true
   },
   "outputs": [
    {
     "data": {
      "text/html": [
       "807202"
      ],
      "text/latex": [
       "807202"
      ],
      "text/markdown": [
       "807202"
      ],
      "text/plain": [
       "[1] 807202"
      ]
     },
     "execution_count": 9,
     "metadata": {},
     "output_type": "execute_result"
    }
   ],
   "source": [
    "dat = dropna(dat)  # Remove na's\n",
    "dat %>% nrow"
   ]
  },
  {
   "cell_type": "markdown",
   "metadata": {},
   "source": [
    "### select( ), group_by( ) and summarize( )\n",
    "\n",
    "use the : colon to select multiple contiguous columns, and use contains to match columns by name or use starts_with, ends_with, and matches (for regular expressions) can also be used to match columns by name"
   ]
  },
  {
   "cell_type": "code",
   "execution_count": 10,
   "metadata": {
    "collapsed": false
   },
   "outputs": [
    {
     "data": {
      "text/html": [
       "<table>\n",
       "<thead><tr><th></th><th scope=col>BEDS</th><th scope=col>AvgPrice</th><th scope=col>AvgElec</th><th scope=col>MaxTax</th><th scope=col>MinGas</th></tr></thead>\n",
       "<tbody>\n",
       "\t<tr><th scope=row>1</th><td>1</td><td>171098.9</td><td>124.2177</td><td>68</td><td>1</td></tr>\n",
       "\t<tr><th scope=row>2</th><td>2</td><td>146279.7</td><td>97.66547</td><td>68</td><td>1</td></tr>\n",
       "\t<tr><th scope=row>3</th><td>3</td><td>136767.1</td><td>114.0797</td><td>68</td><td>1</td></tr>\n",
       "\t<tr><th scope=row>4</th><td>4</td><td>145628.9</td><td>121.6535</td><td>68</td><td>1</td></tr>\n",
       "\t<tr><th scope=row>5</th><td>5</td><td>164915</td><td>132.4505</td><td>68</td><td>1</td></tr>\n",
       "\t<tr><th scope=row>6</th><td>6</td><td>198346.6</td><td>142.0432</td><td>68</td><td>1</td></tr>\n",
       "</tbody>\n",
       "</table>\n"
      ],
      "text/latex": [
       "\\begin{tabular}{r|lllll}\n",
       "  & BEDS & AvgPrice & AvgElec & MaxTax & MinGas\\\\\n",
       "\\hline\n",
       "\t1 & 1 & 171098.9 & 124.2177 & 68 & 1\\\\\n",
       "\t2 & 2 & 146279.7 & 97.66547 & 68 & 1\\\\\n",
       "\t3 & 3 & 136767.1 & 114.0797 & 68 & 1\\\\\n",
       "\t4 & 4 & 145628.9 & 121.6535 & 68 & 1\\\\\n",
       "\t5 & 5 & 164915 & 132.4505 & 68 & 1\\\\\n",
       "\t6 & 6 & 198346.6 & 142.0432 & 68 & 1\\\\\n",
       "\\end{tabular}\n"
      ],
      "text/plain": [
       "  BEDS AvgPrice   AvgElec MaxTax MinGas\n",
       "1    1 171098.9 124.21770     68      1\n",
       "2    2 146279.7  97.66547     68      1\n",
       "3    3 136767.1 114.07967     68      1\n",
       "4    4 145628.9 121.65352     68      1\n",
       "5    5 164915.0 132.45053     68      1\n",
       "6    6 198346.6 142.04318     68      1"
      ]
     },
     "execution_count": 10,
     "metadata": {},
     "output_type": "execute_result"
    }
   ],
   "source": [
    "dat %>% select(BEDS,contains('P')) %>%       \n",
    "        group_by(BEDS) %>% \n",
    "        summarize(AvgPrice = mean(PRICE),AvgElec = mean(ELEP),MaxTax=max(TAXP),MinGas=min(GASP)) %>%\n",
    "        head"
   ]
  },
  {
   "cell_type": "markdown",
   "metadata": {},
   "source": [
    "## Preparing a train / test data split"
   ]
  },
  {
   "cell_type": "code",
   "execution_count": 10,
   "metadata": {
    "collapsed": true
   },
   "outputs": [],
   "source": [
    "dat$SUB = cast(dat$SUB, \"string\") # convert to character"
   ]
  },
  {
   "cell_type": "code",
   "execution_count": 11,
   "metadata": {
    "collapsed": true
   },
   "outputs": [],
   "source": [
    "dat$STATE = cast(dat$STATE, \"string\")"
   ]
  },
  {
   "cell_type": "code",
   "execution_count": 14,
   "metadata": {
    "collapsed": false
   },
   "outputs": [
    {
     "data": {
      "text/html": [
       "80300"
      ],
      "text/latex": [
       "80300"
      ],
      "text/markdown": [
       "80300"
      ],
      "text/plain": [
       "[1] 80300"
      ]
     },
     "execution_count": 14,
     "metadata": {},
     "output_type": "execute_result"
    }
   ],
   "source": [
    "testDF = sample(dat,FALSE,0.1)\n",
    "testDF %>% nrow"
   ]
  },
  {
   "cell_type": "code",
   "execution_count": 16,
   "metadata": {
    "collapsed": true
   },
   "outputs": [],
   "source": [
    "testIDs = testDF %>% select(ID) %>% collect"
   ]
  },
  {
   "cell_type": "code",
   "execution_count": 17,
   "metadata": {
    "collapsed": false
   },
   "outputs": [
    {
     "data": {
      "text/html": [
       "<table>\n",
       "<thead><tr><th></th><th scope=col>ID</th><th scope=col>PRICE</th><th scope=col>BEDS</th><th scope=col>SIZE</th><th scope=col>INSP</th><th scope=col>TAXP</th><th scope=col>ELEP</th><th scope=col>GASP</th><th scope=col>SUB</th><th scope=col>STATE</th><th scope=col>IS_TEST</th></tr></thead>\n",
       "<tbody>\n",
       "\t<tr><th scope=row>1</th><td>5</td><td>90000</td><td>6</td><td>1</td><td>500</td><td>12</td><td>70</td><td>50</td><td>8</td><td>4</td><td>FALSE</td></tr>\n",
       "\t<tr><th scope=row>2</th><td>2</td><td>260000</td><td>7</td><td>2</td><td>1500</td><td>42</td><td>250</td><td>3</td><td>10</td><td>3</td><td>FALSE</td></tr>\n",
       "\t<tr><th scope=row>3</th><td>1</td><td>180000</td><td>5</td><td>1</td><td>900</td><td>29</td><td>150</td><td>3</td><td>12</td><td>3</td><td>FALSE</td></tr>\n",
       "\t<tr><th scope=row>4</th><td>9</td><td>1571000</td><td>8</td><td>1</td><td>2500</td><td>66</td><td>110</td><td>160</td><td>19</td><td>2</td><td>FALSE</td></tr>\n",
       "\t<tr><th scope=row>5</th><td>3</td><td>10000</td><td>5</td><td>1</td><td>0</td><td>1</td><td>140</td><td>3</td><td>22</td><td>3</td><td>FALSE</td></tr>\n",
       "\t<tr><th scope=row>6</th><td>8</td><td>300000</td><td>1</td><td>2</td><td>0</td><td>48</td><td>170</td><td>20</td><td>28</td><td>3</td><td>FALSE</td></tr>\n",
       "</tbody>\n",
       "</table>\n"
      ],
      "text/latex": [
       "\\begin{tabular}{r|lllllllllll}\n",
       "  & ID & PRICE & BEDS & SIZE & INSP & TAXP & ELEP & GASP & SUB & STATE & IS_TEST\\\\\n",
       "\\hline\n",
       "\t1 & 5 & 90000 & 6 & 1 & 500 & 12 & 70 & 50 & 8 & 4 & FALSE\\\\\n",
       "\t2 & 2 & 260000 & 7 & 2 & 1500 & 42 & 250 & 3 & 10 & 3 & FALSE\\\\\n",
       "\t3 & 1 & 180000 & 5 & 1 & 900 & 29 & 150 & 3 & 12 & 3 & FALSE\\\\\n",
       "\t4 & 9 & 1571000 & 8 & 1 & 2500 & 66 & 110 & 160 & 19 & 2 & FALSE\\\\\n",
       "\t5 & 3 & 10000 & 5 & 1 & 0 & 1 & 140 & 3 & 22 & 3 & FALSE\\\\\n",
       "\t6 & 8 & 300000 & 1 & 2 & 0 & 48 & 170 & 20 & 28 & 3 & FALSE\\\\\n",
       "\\end{tabular}\n"
      ],
      "text/plain": [
       "  ID   PRICE BEDS SIZE INSP TAXP ELEP GASP SUB STATE IS_TEST\n",
       "1  5   90000    6    1  500   12   70   50   8     4   FALSE\n",
       "2  2  260000    7    2 1500   42  250    3  10     3   FALSE\n",
       "3  1  180000    5    1  900   29  150    3  12     3   FALSE\n",
       "4  9 1571000    8    1 2500   66  110  160  19     2   FALSE\n",
       "5  3   10000    5    1    0    1  140    3  22     3   FALSE\n",
       "6  8  300000    1    2    0   48  170   20  28     3   FALSE"
      ]
     },
     "execution_count": 17,
     "metadata": {},
     "output_type": "execute_result"
    }
   ],
   "source": [
    "dat = dat %>% mutate(IS_TEST = ID %in% testIDs$ID)\n",
    "dat %>% head"
   ]
  },
  {
   "cell_type": "code",
   "execution_count": 18,
   "metadata": {
    "collapsed": false
   },
   "outputs": [
    {
     "data": {
      "text/html": [
       "726902"
      ],
      "text/latex": [
       "726902"
      ],
      "text/markdown": [
       "726902"
      ],
      "text/plain": [
       "[1] 726902"
      ]
     },
     "execution_count": 18,
     "metadata": {},
     "output_type": "execute_result"
    }
   ],
   "source": [
    "trainDF = dat %>% filter(IS_TEST==FALSE)\n",
    "trainDF %>% nrow"
   ]
  },
  {
   "cell_type": "code",
   "execution_count": 19,
   "metadata": {
    "collapsed": true
   },
   "outputs": [],
   "source": [
    "model = glm(\n",
    "    PRICE ~ BEDS + SIZE + INSP + TAXP + ELEP + GASP + SUB + STATE, \n",
    "    data = trainDF, \n",
    "    family = \"gaussian\")"
   ]
  },
  {
   "cell_type": "code",
   "execution_count": 21,
   "metadata": {
    "collapsed": true
   },
   "outputs": [
    {
     "data": {
      "text/html": [
       "<strong>$coefficients</strong> = <table>\n",
       "<thead><tr><th></th><th scope=col>Estimate</th></tr></thead>\n",
       "<tbody>\n",
       "\t<tr><th scope=row>(Intercept)</th><td>-72486.74</td></tr>\n",
       "\t<tr><th scope=row>BEDS</th><td>14311.16</td></tr>\n",
       "\t<tr><th scope=row>SIZE</th><td>31536.88</td></tr>\n",
       "\t<tr><th scope=row>INSP</th><td>100.0333</td></tr>\n",
       "\t<tr><th scope=row>TAXP</th><td>5619.23</td></tr>\n",
       "\t<tr><th scope=row>ELEP</th><td>193.8139</td></tr>\n",
       "\t<tr><th scope=row>GASP</th><td>234.1955</td></tr>\n",
       "\t<tr><th scope=row>SUB__6</th><td>82465.79</td></tr>\n",
       "\t<tr><th scope=row>SUB__48</th><td>-431315</td></tr>\n",
       "\t<tr><th scope=row>SUB__12</th><td>-382385.9</td></tr>\n",
       "\t<tr><th scope=row>SUB__36</th><td>-167349.1</td></tr>\n",
       "\t<tr><th scope=row>SUB__42</th><td>-190755.7</td></tr>\n",
       "\t<tr><th scope=row>SUB__39</th><td>-94565.22</td></tr>\n",
       "\t<tr><th scope=row>SUB__17</th><td>-105960.7</td></tr>\n",
       "\t<tr><th scope=row>SUB__26</th><td>-96327.81</td></tr>\n",
       "\t<tr><th scope=row>SUB__37</th><td>-340860.3</td></tr>\n",
       "\t<tr><th scope=row>SUB__13</th><td>-371253.9</td></tr>\n",
       "\t<tr><th scope=row>SUB__51</th><td>-282334.8</td></tr>\n",
       "\t<tr><th scope=row>SUB__34</th><td>-178503.4</td></tr>\n",
       "\t<tr><th scope=row>SUB__18</th><td>-43383.23</td></tr>\n",
       "\t<tr><th scope=row>SUB__47</th><td>-347673.5</td></tr>\n",
       "\t<tr><th scope=row>SUB__53</th><td>-83068.03</td></tr>\n",
       "\t<tr><th scope=row>SUB__55</th><td>-105666.2</td></tr>\n",
       "\t<tr><th scope=row>SUB__29</th><td>-68246.52</td></tr>\n",
       "\t<tr><th scope=row>SUB__27</th><td>-80783.33</td></tr>\n",
       "\t<tr><th scope=row>SUB__4</th><td>-65185.04</td></tr>\n",
       "\t<tr><th scope=row>SUB__24</th><td>-305330.9</td></tr>\n",
       "\t<tr><th scope=row>SUB__25</th><td>-99503.85</td></tr>\n",
       "\t<tr><th scope=row>SUB__1</th><td>-323297.6</td></tr>\n",
       "\t<tr><th scope=row>SUB__8</th><td>-61815.58</td></tr>\n",
       "\t<tr><th scope=row>SUB__45</th><td>-323848.4</td></tr>\n",
       "\t<tr><th scope=row>SUB__21</th><td>-358251.2</td></tr>\n",
       "\t<tr><th scope=row>SUB__22</th><td>-341533.1</td></tr>\n",
       "\t<tr><th scope=row>SUB__41</th><td>-101386.7</td></tr>\n",
       "\t<tr><th scope=row>SUB__40</th><td>-382906.5</td></tr>\n",
       "\t<tr><th scope=row>SUB__19</th><td>-83383.4</td></tr>\n",
       "\t<tr><th scope=row>SUB__9</th><td>-149061.6</td></tr>\n",
       "\t<tr><th scope=row>SUB__5</th><td>-346239.8</td></tr>\n",
       "\t<tr><th scope=row>SUB__20</th><td>-114163.1</td></tr>\n",
       "\t<tr><th scope=row>SUB__28</th><td>-362969.9</td></tr>\n",
       "\t<tr><th scope=row>SUB__49</th><td>-78899.25</td></tr>\n",
       "\t<tr><th scope=row>SUB__32</th><td>-90820.95</td></tr>\n",
       "\t<tr><th scope=row>SUB__54</th><td>-320935.9</td></tr>\n",
       "\t<tr><th scope=row>SUB__31</th><td>-124991.7</td></tr>\n",
       "\t<tr><th scope=row>SUB__35</th><td>-64716.64</td></tr>\n",
       "\t<tr><th scope=row>SUB__16</th><td>-95264.72</td></tr>\n",
       "\t<tr><th scope=row>SUB__23</th><td>-148711.8</td></tr>\n",
       "\t<tr><th scope=row>SUB__33</th><td>-219914.7</td></tr>\n",
       "\t<tr><th scope=row>SUB__30</th><td>-103652.6</td></tr>\n",
       "\t<tr><th scope=row>SUB__10</th><td>-255022.2</td></tr>\n",
       "\t<tr><th scope=row>SUB__44</th><td>-185800</td></tr>\n",
       "\t<tr><th scope=row>SUB__15</th><td>257310</td></tr>\n",
       "\t<tr><th scope=row>SUB__46</th><td>-71805.23</td></tr>\n",
       "\t<tr><th scope=row>SUB__38</th><td>-63498.56</td></tr>\n",
       "\t<tr><th scope=row>SUB__50</th><td>-212544.9</td></tr>\n",
       "\t<tr><th scope=row>SUB__56</th><td>-102659.5</td></tr>\n",
       "\t<tr><th scope=row>SUB__2</th><td>-67030.01</td></tr>\n",
       "\t<tr><th scope=row>STATE__3</th><td>208172.5</td></tr>\n",
       "\t<tr><th scope=row>STATE__2</th><td>-115118.8</td></tr>\n",
       "\t<tr><th scope=row>STATE__4</th><td>-5493.637</td></tr>\n",
       "</tbody>\n",
       "</table>\n"
      ],
      "text/latex": [
       "\\textbf{\\$coefficients} = \\begin{tabular}{r|l}\n",
       "  & Estimate\\\\\n",
       "\\hline\n",
       "\t(Intercept) & -72486.74\\\\\n",
       "\tBEDS & 14311.16\\\\\n",
       "\tSIZE & 31536.88\\\\\n",
       "\tINSP & 100.0333\\\\\n",
       "\tTAXP & 5619.23\\\\\n",
       "\tELEP & 193.8139\\\\\n",
       "\tGASP & 234.1955\\\\\n",
       "\tSUB__6 & 82465.79\\\\\n",
       "\tSUB__48 & -431315\\\\\n",
       "\tSUB__12 & -382385.9\\\\\n",
       "\tSUB__36 & -167349.1\\\\\n",
       "\tSUB__42 & -190755.7\\\\\n",
       "\tSUB__39 & -94565.22\\\\\n",
       "\tSUB__17 & -105960.7\\\\\n",
       "\tSUB__26 & -96327.81\\\\\n",
       "\tSUB__37 & -340860.3\\\\\n",
       "\tSUB__13 & -371253.9\\\\\n",
       "\tSUB__51 & -282334.8\\\\\n",
       "\tSUB__34 & -178503.4\\\\\n",
       "\tSUB__18 & -43383.23\\\\\n",
       "\tSUB__47 & -347673.5\\\\\n",
       "\tSUB__53 & -83068.03\\\\\n",
       "\tSUB__55 & -105666.2\\\\\n",
       "\tSUB__29 & -68246.52\\\\\n",
       "\tSUB__27 & -80783.33\\\\\n",
       "\tSUB__4 & -65185.04\\\\\n",
       "\tSUB__24 & -305330.9\\\\\n",
       "\tSUB__25 & -99503.85\\\\\n",
       "\tSUB__1 & -323297.6\\\\\n",
       "\tSUB__8 & -61815.58\\\\\n",
       "\tSUB__45 & -323848.4\\\\\n",
       "\tSUB__21 & -358251.2\\\\\n",
       "\tSUB__22 & -341533.1\\\\\n",
       "\tSUB__41 & -101386.7\\\\\n",
       "\tSUB__40 & -382906.5\\\\\n",
       "\tSUB__19 & -83383.4\\\\\n",
       "\tSUB__9 & -149061.6\\\\\n",
       "\tSUB__5 & -346239.8\\\\\n",
       "\tSUB__20 & -114163.1\\\\\n",
       "\tSUB__28 & -362969.9\\\\\n",
       "\tSUB__49 & -78899.25\\\\\n",
       "\tSUB__32 & -90820.95\\\\\n",
       "\tSUB__54 & -320935.9\\\\\n",
       "\tSUB__31 & -124991.7\\\\\n",
       "\tSUB__35 & -64716.64\\\\\n",
       "\tSUB__16 & -95264.72\\\\\n",
       "\tSUB__23 & -148711.8\\\\\n",
       "\tSUB__33 & -219914.7\\\\\n",
       "\tSUB__30 & -103652.6\\\\\n",
       "\tSUB__10 & -255022.2\\\\\n",
       "\tSUB__44 & -185800\\\\\n",
       "\tSUB__15 & 257310\\\\\n",
       "\tSUB__46 & -71805.23\\\\\n",
       "\tSUB__38 & -63498.56\\\\\n",
       "\tSUB__50 & -212544.9\\\\\n",
       "\tSUB__56 & -102659.5\\\\\n",
       "\tSUB__2 & -67030.01\\\\\n",
       "\tSTATE__3 & 208172.5\\\\\n",
       "\tSTATE__2 & -115118.8\\\\\n",
       "\tSTATE__4 & -5493.637\\\\\n",
       "\\end{tabular}\n"
      ],
      "text/markdown": [
       "**$coefficients** = 1. -72486.7350665625\n",
       "2. 14311.1589451282\n",
       "3. 31536.8840785671\n",
       "4. 100.033286913687\n",
       "5. 5619.23032221724\n",
       "6. 193.813913571894\n",
       "7. 234.195492441038\n",
       "8. 82465.7880752131\n",
       "9. -431315.043832739\n",
       "10. -382385.879187167\n",
       "11. -167349.109316952\n",
       "12. -190755.694702493\n",
       "13. -94565.2241124306\n",
       "14. -105960.711636735\n",
       "15. -96327.8139800705\n",
       "16. -340860.320568152\n",
       "17. -371253.880297016\n",
       "18. -282334.750259209\n",
       "19. -178503.377544387\n",
       "20. -43383.2312386121\n",
       "21. -347673.450768462\n",
       "22. -83068.0291825107\n",
       "23. -105666.193199824\n",
       "24. -68246.5217781122\n",
       "25. -80783.3262618413\n",
       "26. -65185.0442618015\n",
       "27. -305330.941178099\n",
       "28. -99503.851031916\n",
       "29. -323297.644460406\n",
       "30. -61815.5771472707\n",
       "31. -323848.414910134\n",
       "32. -358251.187782425\n",
       "33. -341533.097668278\n",
       "34. -101386.721120537\n",
       "35. -382906.511491582\n",
       "36. -83383.404757703\n",
       "37. -149061.554744639\n",
       "38. -346239.763538123\n",
       "39. -114163.148185362\n",
       "40. -362969.9396833\n",
       "41. -78899.2549606498\n",
       "42. -90820.947066279\n",
       "43. -320935.88328817\n",
       "44. -124991.688934697\n",
       "45. -64716.6371593379\n",
       "46. -95264.7163015469\n",
       "47. -148711.774714418\n",
       "48. -219914.660932822\n",
       "49. -103652.589375795\n",
       "50. -255022.183680881\n",
       "51. -185799.997595592\n",
       "52. 257309.964157926\n",
       "53. -71805.2254389624\n",
       "54. -63498.5596320964\n",
       "55. -212544.936113953\n",
       "56. -102659.467253131\n",
       "57. -67030.0112519229\n",
       "58. 208172.520599494\n",
       "59. -115118.846919878\n",
       "60. -5493.63744252499\n",
       "\n",
       "\n"
      ],
      "text/plain": [
       "$coefficients\n",
       "                Estimate\n",
       "(Intercept)  -72486.7351\n",
       "BEDS          14311.1589\n",
       "SIZE          31536.8841\n",
       "INSP            100.0333\n",
       "TAXP           5619.2303\n",
       "ELEP            193.8139\n",
       "GASP            234.1955\n",
       "SUB__6        82465.7881\n",
       "SUB__48     -431315.0438\n",
       "SUB__12     -382385.8792\n",
       "SUB__36     -167349.1093\n",
       "SUB__42     -190755.6947\n",
       "SUB__39      -94565.2241\n",
       "SUB__17     -105960.7116\n",
       "SUB__26      -96327.8140\n",
       "SUB__37     -340860.3206\n",
       "SUB__13     -371253.8803\n",
       "SUB__51     -282334.7503\n",
       "SUB__34     -178503.3775\n",
       "SUB__18      -43383.2312\n",
       "SUB__47     -347673.4508\n",
       "SUB__53      -83068.0292\n",
       "SUB__55     -105666.1932\n",
       "SUB__29      -68246.5218\n",
       "SUB__27      -80783.3263\n",
       "SUB__4       -65185.0443\n",
       "SUB__24     -305330.9412\n",
       "SUB__25      -99503.8510\n",
       "SUB__1      -323297.6445\n",
       "SUB__8       -61815.5771\n",
       "SUB__45     -323848.4149\n",
       "SUB__21     -358251.1878\n",
       "SUB__22     -341533.0977\n",
       "SUB__41     -101386.7211\n",
       "SUB__40     -382906.5115\n",
       "SUB__19      -83383.4048\n",
       "SUB__9      -149061.5547\n",
       "SUB__5      -346239.7635\n",
       "SUB__20     -114163.1482\n",
       "SUB__28     -362969.9397\n",
       "SUB__49      -78899.2550\n",
       "SUB__32      -90820.9471\n",
       "SUB__54     -320935.8833\n",
       "SUB__31     -124991.6889\n",
       "SUB__35      -64716.6372\n",
       "SUB__16      -95264.7163\n",
       "SUB__23     -148711.7747\n",
       "SUB__33     -219914.6609\n",
       "SUB__30     -103652.5894\n",
       "SUB__10     -255022.1837\n",
       "SUB__44     -185799.9976\n",
       "SUB__15      257309.9642\n",
       "SUB__46      -71805.2254\n",
       "SUB__38      -63498.5596\n",
       "SUB__50     -212544.9361\n",
       "SUB__56     -102659.4673\n",
       "SUB__2       -67030.0113\n",
       "STATE__3     208172.5206\n",
       "STATE__2    -115118.8469\n",
       "STATE__4      -5493.6374\n"
      ]
     },
     "execution_count": 21,
     "metadata": {},
     "output_type": "execute_result"
    }
   ],
   "source": [
    "model %>% summary"
   ]
  },
  {
   "cell_type": "markdown",
   "metadata": {},
   "source": [
    "##Evaluating our model using the test data"
   ]
  },
  {
   "cell_type": "code",
   "execution_count": 37,
   "metadata": {
    "collapsed": false
   },
   "outputs": [
    {
     "data": {
      "text/html": [
       "245393.740586764"
      ],
      "text/latex": [
       "245393.740586764"
      ],
      "text/markdown": [
       "245393.740586764"
      ],
      "text/plain": [
       "[1] 245393.7"
      ]
     },
     "execution_count": 37,
     "metadata": {},
     "output_type": "execute_result"
    }
   ],
   "source": [
    "Price_Avg = trainDF %>% select(PRICE) %>% \n",
    "            summarize(Price_Avg= mean(PRICE)) %>%\n",
    "            collect %>% \n",
    "            unlist(use.names = FALSE)\n",
    "Price_Avg"
   ]
  },
  {
   "cell_type": "code",
   "execution_count": 48,
   "metadata": {
    "collapsed": false
   },
   "outputs": [
    {
     "name": "stdout",
     "output_type": "stream",
     "text": [
      "+-----+------+----+----+----+----+----+----+---+-----+--------------------+--------+------------------+\n",
      "|   ID| PRICE|BEDS|SIZE|INSP|TAXP|ELEP|GASP|SUB|STATE|            features|   label|        prediction|\n",
      "+-----+------+----+----+----+----+----+----+---+-----+--------------------+--------+------------------+\n",
      "|   43|100000|   7|   1|  30|  13|  70|  80|  5|    3|(59,[0,1,2,3,4,5,...|100000.0| 29514.62483082339|\n",
      "| 2383| 70000|   6|   1| 600|   1| 110|   3|  1|    3|(59,[0,1,2,3,4,5,...| 70000.0| 17453.29826252308|\n",
      "| 3897| 65000|   8|   2| 770|   5| 130|   3|  1|    3|(59,[0,1,2,3,4,5,...| 65000.0|120971.35856698029|\n",
      "| 4619| 35000|   5|   1|   0|   7| 100| 240|  1|    3|(59,[0,1,3,4,5,27...| 35000.0|30403.741675292986|\n",
      "| 4635|125000|   6|   2| 820|   1| 110|  30|  1|    3|(59,[0,1,2,3,4,5,...|125000.0| 77320.78375800938|\n",
      "| 4656|217000|   9|   1| 560|  20| 180|   3|  1|    3|(59,[0,1,2,3,4,5,...|217000.0|176717.79369352042|\n",
      "| 7318|300000|   7|   1|1000|  22| 350| 100|  1|    3|(59,[0,1,2,3,4,5,...|300000.0|259013.91076372354|\n",
      "| 8480|129000|   8|   2|1200|   8| 100|  10|  1|    3|(59,[0,1,2,3,4,5,...|129000.0|176668.31394644792|\n",
      "| 9954| 80000|   7|   1| 550|   6| 110| 130|  1|    3|(59,[0,1,2,3,4,5,...| 80000.0| 84601.77201306494|\n",
      "|12585| 70000|  10|   2| 600|   6|  90|  30|  1|    3|(59,[0,1,2,3,4,5,...| 70000.0|136777.96975715936|\n",
      "|13332|325000|   9|   1|1700|  36| 260| 270|  1|    3|(59,[0,1,2,3,4,5,...|325000.0| 458698.7354981084|\n",
      "|13929|215000|   7|   1| 730|  21| 280|  40|  1|    3|(59,[0,1,2,3,4,5,...|215000.0|198766.98947831593|\n",
      "|14193| 12000|   9|   1|   0|   9| 180|   3|  1|    3|(59,[0,1,3,4,5,27...| 12000.0| 58887.61947746592|\n",
      "|14332|103000|   5|   1| 170|  11| 160|   3|  1|    3|(59,[0,1,2,3,4,5,...|103000.0| 26010.82484527654|\n",
      "|15035| 45000|   6|   1| 800|   1| 160|  80|  1|    3|(59,[0,1,2,3,4,5,...| 45000.0| 65183.70424181514|\n",
      "|16386|100000|   8|   2|   0|   1| 300|   3|  1|    3|(59,[0,1,3,4,5,27...|100000.0|54417.171661794186|\n",
      "|16734|200000|  10|   1| 280|  16| 150|  30|  1|    3|(59,[0,1,2,3,4,5,...|200000.0| 141051.5719026985|\n",
      "|17131|105000|   9|   1|1100|   7| 110| 140|  1|    3|(59,[0,1,2,3,4,5,...|105000.0|176203.58295247692|\n",
      "|18070|150000|   9|   3| 600|  14| 170|  80|  1|    3|(59,[0,1,2,3,4,5,...|150000.0|226172.42517613963|\n",
      "|18075| 90000|   5|   1| 350|   1| 150| 100|  1|    3|(59,[0,1,2,3,4,5,...| 90000.0| 8603.336898629495|\n",
      "+-----+------+----+----+----+----+----+----+---+-----+--------------------+--------+------------------+\n",
      "only showing top 20 rows\n"
     ]
    }
   ],
   "source": [
    "preds = model %>% predict(newData = testDF)\n",
    "preds %>% showDF"
   ]
  },
  {
   "cell_type": "markdown",
   "metadata": {},
   "source": [
    "## R-squared\n",
    "\n",
    " \n",
    " R-squared = 1 -SS_res/SS_tot"
   ]
  },
  {
   "cell_type": "code",
   "execution_count": 66,
   "metadata": {
    "collapsed": false
   },
   "outputs": [
    {
     "data": {
      "text/html": [
       "<table>\n",
       "<thead><tr><th></th><th scope=col>PRICE</th><th scope=col>prediction</th><th scope=col>res</th><th scope=col>tot</th></tr></thead>\n",
       "<tbody>\n",
       "\t<tr><th scope=row>1</th><td>100000</td><td>29514.62</td><td>4968188113</td><td>21139339802</td></tr>\n",
       "\t<tr><th scope=row>2</th><td>70000</td><td>17453.3</td><td>2761155863</td><td>30762964237</td></tr>\n",
       "\t<tr><th scope=row>3</th><td>65000</td><td>120971.4</td><td>3132792980</td><td>32541901643</td></tr>\n",
       "\t<tr><th scope=row>4</th><td>35000</td><td>30403.74</td><td>21125591</td><td>44265526078</td></tr>\n",
       "\t<tr><th scope=row>5</th><td>125000</td><td>77320.78</td><td>2273307661</td><td>14494652772</td></tr>\n",
       "\t<tr><th scope=row>6</th><td>217000</td><td>176717.8</td><td>1622656145</td><td>806204505</td></tr>\n",
       "</tbody>\n",
       "</table>\n"
      ],
      "text/latex": [
       "\\begin{tabular}{r|llll}\n",
       "  & PRICE & prediction & res & tot\\\\\n",
       "\\hline\n",
       "\t1 & 100000 & 29514.62 & 4968188113 & 21139339802\\\\\n",
       "\t2 & 70000 & 17453.3 & 2761155863 & 30762964237\\\\\n",
       "\t3 & 65000 & 120971.4 & 3132792980 & 32541901643\\\\\n",
       "\t4 & 35000 & 30403.74 & 21125591 & 44265526078\\\\\n",
       "\t5 & 125000 & 77320.78 & 2273307661 & 14494652772\\\\\n",
       "\t6 & 217000 & 176717.8 & 1622656145 & 806204505\\\\\n",
       "\\end{tabular}\n"
      ],
      "text/plain": [
       "   PRICE prediction        res         tot\n",
       "1 100000   29514.62 4968188113 21139339802\n",
       "2  70000   17453.30 2761155863 30762964237\n",
       "3  65000  120971.36 3132792980 32541901643\n",
       "4  35000   30403.74   21125591 44265526078\n",
       "5 125000   77320.78 2273307661 14494652772\n",
       "6 217000  176717.79 1622656145   806204505"
      ]
     },
     "execution_count": 66,
     "metadata": {},
     "output_type": "execute_result"
    }
   ],
   "source": [
    "predictions = preds %>% select(PRICE,prediction) %>% mutate(S_res = (PRICE - prediction)^2, S_tot = (PRICE - Price_Avg)^2)\n",
    "predictions %>% head"
   ]
  },
  {
   "cell_type": "code",
   "execution_count": 62,
   "metadata": {
    "collapsed": false
   },
   "outputs": [],
   "source": [
    "residuals =  predictions %>% select(res,tot) %>%\n",
    "             summarize(SS_res=sum(S_res),\n",
    "                       SS_tot=sum(S_tot)) %>% \n",
    "             collect"
   ]
  },
  {
   "cell_type": "code",
   "execution_count": 63,
   "metadata": {
    "collapsed": false
   },
   "outputs": [
    {
     "data": {
      "text/html": [
       "<table>\n",
       "<thead><tr><th></th><th scope=col>SS_res</th><th scope=col>SS_tot</th></tr></thead>\n",
       "<tbody>\n",
       "\t<tr><th scope=row>1</th><td>5.181515e+15</td><td>8.642324e+15</td></tr>\n",
       "</tbody>\n",
       "</table>\n"
      ],
      "text/latex": [
       "\\begin{tabular}{r|ll}\n",
       "  & SS_res & SS_tot\\\\\n",
       "\\hline\n",
       "\t1 & 5.181515e+15 & 8.642324e+15\\\\\n",
       "\\end{tabular}\n"
      ],
      "text/plain": [
       "        SS_res       SS_tot\n",
       "1 5.181515e+15 8.642324e+15"
      ]
     },
     "execution_count": 63,
     "metadata": {},
     "output_type": "execute_result"
    }
   ],
   "source": [
    "residuals"
   ]
  },
  {
   "cell_type": "code",
   "execution_count": 64,
   "metadata": {
    "collapsed": false
   },
   "outputs": [
    {
     "data": {
      "text/html": [
       "0.400448948968594"
      ],
      "text/latex": [
       "0.400448948968594"
      ],
      "text/markdown": [
       "0.400448948968594"
      ],
      "text/plain": [
       "[1] 0.4004489"
      ]
     },
     "execution_count": 64,
     "metadata": {},
     "output_type": "execute_result"
    }
   ],
   "source": [
    "Rsquared = 1.0 - (residuals$SS_res/residuals$SS_tot)\n",
    "Rsquared"
   ]
  },
  {
   "cell_type": "code",
   "execution_count": 7,
   "metadata": {
    "collapsed": true
   },
   "outputs": [
    {
     "name": "stderr",
     "output_type": "stream",
     "text": [
      "Warning message:\n",
      ": package 'ggplot2' was built under R version 3.2.1"
     ]
    }
   ],
   "source": [
    "library(ggplot2)"
   ]
  },
  {
   "cell_type": "code",
   "execution_count": 6,
   "metadata": {
    "collapsed": false
   },
   "outputs": [],
   "source": [
    "aggDF = dat %>%\n",
    "  group_by(STATE, SUB) %>%\n",
    "  summarise(n = n(PRICE), AvgPrice = mean(PRICE)) %>%\n",
    "  collect()"
   ]
  },
  {
   "cell_type": "code",
   "execution_count": 41,
   "metadata": {
    "collapsed": false
   },
   "outputs": [
    {
     "data": {
      "text/html": [
       "<table>\n",
       "<thead><tr><th></th><th scope=col>STATE</th><th scope=col>SUB</th><th scope=col>n</th><th scope=col>AvgPrice</th></tr></thead>\n",
       "<tbody>\n",
       "\t<tr><th scope=row>1</th><td>4</td><td>2</td><td>1423</td><td>237630.2</td></tr>\n",
       "\t<tr><th scope=row>2</th><td>1</td><td>33</td><td>3932</td><td>270794.7</td></tr>\n",
       "\t<tr><th scope=row>3</th><td>4</td><td>4</td><td>16888</td><td>221260.3</td></tr>\n",
       "\t<tr><th scope=row>4</th><td>1</td><td>34</td><td>20930</td><td>381330.8</td></tr>\n",
       "\t<tr><th scope=row>5</th><td>4</td><td>6</td><td>73659</td><td>494045.9</td></tr>\n",
       "\t<tr><th scope=row>6</th><td>2</td><td>20</td><td>8457</td><td>141632.5</td></tr>\n",
       "</tbody>\n",
       "</table>\n"
      ],
      "text/latex": [
       "\\begin{tabular}{r|llll}\n",
       "  & STATE & SUB & n & AvgPrice\\\\\n",
       "\\hline\n",
       "\t1 & 4 & 2 & 1423 & 237630.2\\\\\n",
       "\t2 & 1 & 33 & 3932 & 270794.7\\\\\n",
       "\t3 & 4 & 4 & 16888 & 221260.3\\\\\n",
       "\t4 & 1 & 34 & 20930 & 381330.8\\\\\n",
       "\t5 & 4 & 6 & 73659 & 494045.9\\\\\n",
       "\t6 & 2 & 20 & 8457 & 141632.5\\\\\n",
       "\\end{tabular}\n"
      ],
      "text/plain": [
       "  STATE SUB     n AvgPrice\n",
       "1     4   2  1423 237630.2\n",
       "2     1  33  3932 270794.7\n",
       "3     4   4 16888 221260.3\n",
       "4     1  34 20930 381330.8\n",
       "5     4   6 73659 494045.9\n",
       "6     2  20  8457 141632.5"
      ]
     },
     "execution_count": 41,
     "metadata": {},
     "output_type": "execute_result"
    }
   ],
   "source": [
    "head(aggDF)"
   ]
  },
  {
   "cell_type": "code",
   "execution_count": 10,
   "metadata": {
    "collapsed": false
   },
   "outputs": [
    {
     "data": {
      "application/pdf": "[encoded data removed]",
      "image/jpeg": "[encoded data removed]",
      "image/png": "[encoded data removed]",
      "image/svg+xml": [
       "<?xml version=\"1.0\" encoding=\"UTF-8\"?>\n",
       "<svg xmlns=\"http://www.w3.org/2000/svg\" xmlns:xlink=\"http://www.w3.org/1999/xlink\" width=\"504pt\" height=\"504pt\" viewBox=\"0 0 504 504\" version=\"1.1\">\n",
       "<defs>\n",
       "<g>\n",
       "<symbol overflow=\"visible\" id=\"glyph0-0\">\n",
       "<path style=\"stroke:none;\" d=\"M 0.398438 -3.390625 C 0.398438 -4.199219 0.480469 -4.851563 0.648438 -5.351563 C 0.8125 -5.84375 1.0625 -6.226563 1.394531 -6.496094 C 1.722656 -6.761719 2.136719 -6.894531 2.640625 -6.898438 C 3.003906 -6.894531 3.328125 -6.820313 3.609375 -6.675781 C 3.886719 -6.523438 4.113281 -6.3125 4.296875 -6.035156 C 4.476563 -5.753906 4.621094 -5.410156 4.722656 -5.011719 C 4.824219 -4.605469 4.875 -4.066406 4.878906 -3.390625 C 4.875 -2.582031 4.792969 -1.929688 4.628906 -1.4375 C 4.464844 -0.9375 4.214844 -0.554688 3.886719 -0.289063 C 3.554688 -0.015625 3.140625 0.117188 2.640625 0.117188 C 1.972656 0.117188 1.453125 -0.117188 1.078125 -0.59375 C 0.625 -1.164063 0.398438 -2.097656 0.398438 -3.390625 Z M 1.265625 -3.390625 C 1.265625 -2.257813 1.394531 -1.507813 1.660156 -1.136719 C 1.921875 -0.761719 2.25 -0.574219 2.640625 -0.578125 C 3.023438 -0.574219 3.347656 -0.761719 3.613281 -1.140625 C 3.875 -1.511719 4.007813 -2.261719 4.011719 -3.390625 C 4.007813 -4.519531 3.875 -5.269531 3.613281 -5.644531 C 3.347656 -6.011719 3.019531 -6.199219 2.628906 -6.203125 C 2.238281 -6.199219 1.929688 -6.035156 1.703125 -5.710938 C 1.410156 -5.289063 1.265625 -4.515625 1.265625 -3.390625 Z M 1.265625 -3.390625 \"/>\n",
       "</symbol>\n",
       "<symbol overflow=\"visible\" id=\"glyph0-1\">\n",
       "<path style=\"stroke:none;\" d=\"M 4.832031 -0.8125 L 4.832031 0 L 0.289063 0 C 0.28125 -0.203125 0.316406 -0.398438 0.390625 -0.585938 C 0.503906 -0.894531 0.6875 -1.199219 0.945313 -1.5 C 1.195313 -1.796875 1.5625 -2.140625 2.046875 -2.539063 C 2.789063 -3.148438 3.296875 -3.636719 3.5625 -3.996094 C 3.824219 -4.351563 3.953125 -4.6875 3.957031 -5.011719 C 3.953125 -5.339844 3.835938 -5.621094 3.597656 -5.855469 C 3.355469 -6.082031 3.042969 -6.199219 2.664063 -6.203125 C 2.253906 -6.199219 1.929688 -6.078125 1.6875 -5.835938 C 1.441406 -5.589844 1.316406 -5.25 1.316406 -4.824219 L 0.449219 -4.914063 C 0.507813 -5.558594 0.730469 -6.050781 1.121094 -6.390625 C 1.503906 -6.726563 2.023438 -6.894531 2.679688 -6.898438 C 3.335938 -6.894531 3.859375 -6.714844 4.246094 -6.351563 C 4.628906 -5.984375 4.820313 -5.53125 4.824219 -4.992188 C 4.820313 -4.714844 4.765625 -4.441406 4.652344 -4.179688 C 4.539063 -3.910156 4.351563 -3.632813 4.09375 -3.339844 C 3.832031 -3.046875 3.398438 -2.644531 2.792969 -2.132813 C 2.285156 -1.707031 1.960938 -1.417969 1.816406 -1.265625 C 1.671875 -1.113281 1.550781 -0.960938 1.460938 -0.8125 Z M 4.832031 -0.8125 \"/>\n",
       "</symbol>\n",
       "<symbol overflow=\"visible\" id=\"glyph0-2\">\n",
       "<path style=\"stroke:none;\" d=\"M 3.101563 0 L 3.101563 -1.644531 L 0.121094 -1.644531 L 0.121094 -2.417969 L 3.257813 -6.871094 L 3.945313 -6.871094 L 3.945313 -2.417969 L 4.875 -2.417969 L 4.875 -1.644531 L 3.945313 -1.644531 L 3.945313 0 Z M 3.101563 -2.417969 L 3.101563 -5.515625 L 0.953125 -2.417969 Z M 3.101563 -2.417969 \"/>\n",
       "</symbol>\n",
       "<symbol overflow=\"visible\" id=\"glyph0-3\">\n",
       "<path style=\"stroke:none;\" d=\"M 3.578125 0 L 2.734375 0 L 2.734375 -5.375 C 2.527344 -5.179688 2.261719 -4.988281 1.933594 -4.792969 C 1.601563 -4.597656 1.304688 -4.453125 1.046875 -4.359375 L 1.046875 -5.175781 C 1.515625 -5.394531 1.925781 -5.664063 2.28125 -5.980469 C 2.632813 -6.292969 2.882813 -6.597656 3.03125 -6.898438 L 3.578125 -6.898438 Z M 3.578125 0 \"/>\n",
       "</symbol>\n",
       "<symbol overflow=\"visible\" id=\"glyph0-4\">\n",
       "<path style=\"stroke:none;\" d=\"M 0.402344 -1.8125 L 1.246094 -1.925781 C 1.339844 -1.445313 1.503906 -1.101563 1.738281 -0.894531 C 1.96875 -0.679688 2.253906 -0.574219 2.59375 -0.578125 C 2.988281 -0.574219 3.324219 -0.710938 3.597656 -0.988281 C 3.871094 -1.261719 4.007813 -1.601563 4.007813 -2.011719 C 4.007813 -2.394531 3.878906 -2.714844 3.628906 -2.96875 C 3.371094 -3.21875 3.050781 -3.34375 2.664063 -3.347656 C 2.5 -3.34375 2.300781 -3.3125 2.066406 -3.253906 L 2.160156 -3.992188 C 2.214844 -3.984375 2.261719 -3.984375 2.296875 -3.984375 C 2.65625 -3.984375 2.976563 -4.078125 3.265625 -4.265625 C 3.550781 -4.453125 3.695313 -4.742188 3.699219 -5.132813 C 3.695313 -5.441406 3.589844 -5.695313 3.382813 -5.902344 C 3.171875 -6.101563 2.902344 -6.203125 2.574219 -6.207031 C 2.242188 -6.203125 1.96875 -6.101563 1.753906 -5.894531 C 1.53125 -5.6875 1.390625 -5.378906 1.332031 -4.96875 L 0.488281 -5.117188 C 0.585938 -5.679688 0.820313 -6.121094 1.1875 -6.433594 C 1.550781 -6.742188 2.007813 -6.894531 2.554688 -6.898438 C 2.929688 -6.894531 3.273438 -6.816406 3.589844 -6.65625 C 3.902344 -6.496094 4.144531 -6.277344 4.3125 -6 C 4.480469 -5.71875 4.5625 -5.421875 4.566406 -5.113281 C 4.5625 -4.8125 4.484375 -4.542969 4.324219 -4.300781 C 4.164063 -4.058594 3.925781 -3.863281 3.617188 -3.722656 C 4.019531 -3.625 4.335938 -3.429688 4.5625 -3.136719 C 4.785156 -2.839844 4.898438 -2.472656 4.902344 -2.03125 C 4.898438 -1.425781 4.679688 -0.917969 4.246094 -0.503906 C 3.804688 -0.0898438 3.25 0.117188 2.585938 0.121094 C 1.980469 0.117188 1.480469 -0.0585938 1.085938 -0.417969 C 0.683594 -0.773438 0.457031 -1.238281 0.402344 -1.8125 Z M 0.402344 -1.8125 \"/>\n",
       "</symbol>\n",
       "<symbol overflow=\"visible\" id=\"glyph0-5\">\n",
       "<path style=\"stroke:none;\" d=\"M 4.039063 -1.601563 L 4.914063 -1.496094 C 4.773438 -0.980469 4.519531 -0.585938 4.148438 -0.308594 C 3.773438 -0.0273438 3.296875 0.109375 2.722656 0.113281 C 1.992188 0.109375 1.414063 -0.109375 0.992188 -0.558594 C 0.5625 -1.003906 0.351563 -1.632813 0.351563 -2.445313 C 0.351563 -3.28125 0.566406 -3.933594 0.996094 -4.394531 C 1.425781 -4.855469 1.984375 -5.085938 2.675781 -5.089844 C 3.339844 -5.085938 3.882813 -4.859375 4.308594 -4.410156 C 4.726563 -3.953125 4.9375 -3.316406 4.941406 -2.5 C 4.9375 -2.445313 4.9375 -2.371094 4.9375 -2.273438 L 1.222656 -2.273438 C 1.25 -1.726563 1.40625 -1.304688 1.6875 -1.015625 C 1.964844 -0.722656 2.308594 -0.578125 2.726563 -0.582031 C 3.03125 -0.578125 3.296875 -0.660156 3.519531 -0.824219 C 3.734375 -0.984375 3.90625 -1.242188 4.039063 -1.601563 Z M 1.269531 -2.96875 L 4.050781 -2.96875 C 4.007813 -3.382813 3.902344 -3.695313 3.730469 -3.910156 C 3.460938 -4.230469 3.113281 -4.394531 2.6875 -4.398438 C 2.296875 -4.394531 1.96875 -4.265625 1.707031 -4.007813 C 1.441406 -3.746094 1.296875 -3.398438 1.269531 -2.96875 Z M 1.269531 -2.96875 \"/>\n",
       "</symbol>\n",
       "<symbol overflow=\"visible\" id=\"glyph0-6\">\n",
       "<path style=\"stroke:none;\" d=\"M 2.40625 -1.109375 L 2.40625 -2.996094 L 0.535156 -2.996094 L 0.535156 -3.78125 L 2.40625 -3.78125 L 2.40625 -5.652344 L 3.203125 -5.652344 L 3.203125 -3.78125 L 5.070313 -3.78125 L 5.070313 -2.996094 L 3.203125 -2.996094 L 3.203125 -1.109375 Z M 2.40625 -1.109375 \"/>\n",
       "</symbol>\n",
       "<symbol overflow=\"visible\" id=\"glyph0-7\">\n",
       "<path style=\"stroke:none;\" d=\"M 0.398438 -1.800781 L 1.285156 -1.875 C 1.347656 -1.441406 1.5 -1.117188 1.742188 -0.902344 C 1.976563 -0.683594 2.265625 -0.574219 2.605469 -0.578125 C 3.007813 -0.574219 3.351563 -0.726563 3.636719 -1.035156 C 3.914063 -1.339844 4.054688 -1.746094 4.058594 -2.253906 C 4.054688 -2.734375 3.917969 -3.113281 3.652344 -3.394531 C 3.378906 -3.667969 3.027344 -3.808594 2.59375 -3.8125 C 2.316406 -3.808594 2.070313 -3.746094 1.855469 -3.625 C 1.632813 -3.5 1.460938 -3.339844 1.339844 -3.144531 L 0.546875 -3.25 L 1.214844 -6.777344 L 4.632813 -6.777344 L 4.632813 -5.972656 L 1.890625 -5.972656 L 1.519531 -4.125 C 1.925781 -4.410156 2.359375 -4.550781 2.816406 -4.554688 C 3.414063 -4.550781 3.921875 -4.34375 4.335938 -3.929688 C 4.746094 -3.511719 4.949219 -2.976563 4.953125 -2.328125 C 4.949219 -1.703125 4.769531 -1.167969 4.410156 -0.71875 C 3.96875 -0.160156 3.367188 0.117188 2.605469 0.117188 C 1.976563 0.117188 1.464844 -0.0546875 1.074219 -0.40625 C 0.675781 -0.753906 0.453125 -1.21875 0.398438 -1.800781 Z M 0.398438 -1.800781 \"/>\n",
       "</symbol>\n",
       "<symbol overflow=\"visible\" id=\"glyph0-8\">\n",
       "<path style=\"stroke:none;\" d=\"M 4.777344 -5.1875 L 3.9375 -5.125 C 3.859375 -5.453125 3.75 -5.691406 3.617188 -5.84375 C 3.386719 -6.082031 3.105469 -6.203125 2.773438 -6.207031 C 2.5 -6.203125 2.265625 -6.128906 2.066406 -5.980469 C 1.796875 -5.785156 1.585938 -5.503906 1.4375 -5.132813 C 1.28125 -4.757813 1.203125 -4.226563 1.199219 -3.542969 C 1.398438 -3.851563 1.648438 -4.082031 1.945313 -4.230469 C 2.238281 -4.378906 2.542969 -4.453125 2.867188 -4.457031 C 3.425781 -4.453125 3.90625 -4.246094 4.304688 -3.835938 C 4.699219 -3.417969 4.898438 -2.882813 4.898438 -2.230469 C 4.898438 -1.796875 4.804688 -1.394531 4.617188 -1.027344 C 4.429688 -0.652344 4.171875 -0.371094 3.851563 -0.175781 C 3.523438 0.0195313 3.15625 0.117188 2.746094 0.117188 C 2.039063 0.117188 1.464844 -0.140625 1.023438 -0.65625 C 0.578125 -1.171875 0.355469 -2.023438 0.359375 -3.214844 C 0.355469 -4.539063 0.601563 -5.503906 1.097656 -6.113281 C 1.519531 -6.632813 2.097656 -6.894531 2.828125 -6.898438 C 3.363281 -6.894531 3.804688 -6.746094 4.152344 -6.445313 C 4.496094 -6.140625 4.703125 -5.71875 4.777344 -5.1875 Z M 1.332031 -2.226563 C 1.328125 -1.933594 1.390625 -1.652344 1.515625 -1.390625 C 1.636719 -1.121094 1.808594 -0.921875 2.035156 -0.785156 C 2.253906 -0.644531 2.488281 -0.574219 2.734375 -0.578125 C 3.085938 -0.574219 3.390625 -0.71875 3.648438 -1.007813 C 3.902344 -1.292969 4.03125 -1.683594 4.035156 -2.179688 C 4.03125 -2.652344 3.90625 -3.023438 3.65625 -3.300781 C 3.402344 -3.570313 3.082031 -3.707031 2.699219 -3.710938 C 2.316406 -3.707031 1.992188 -3.570313 1.730469 -3.300781 C 1.460938 -3.023438 1.328125 -2.667969 1.332031 -2.226563 Z M 1.332031 -2.226563 \"/>\n",
       "</symbol>\n",
       "<symbol overflow=\"visible\" id=\"glyph1-0\">\n",
       "<path style=\"stroke:none;\" d=\"M 0.539063 -2.757813 L 1.609375 -2.851563 C 1.660156 -2.421875 1.777344 -2.070313 1.964844 -1.796875 C 2.144531 -1.519531 2.433594 -1.296875 2.828125 -1.128906 C 3.214844 -0.957031 3.65625 -0.871094 4.148438 -0.875 C 4.578125 -0.871094 4.960938 -0.9375 5.296875 -1.066406 C 5.628906 -1.191406 5.875 -1.367188 6.039063 -1.59375 C 6.199219 -1.820313 6.28125 -2.066406 6.28125 -2.332031 C 6.28125 -2.597656 6.203125 -2.832031 6.046875 -3.035156 C 5.890625 -3.238281 5.632813 -3.40625 5.273438 -3.546875 C 5.042969 -3.632813 4.53125 -3.773438 3.746094 -3.964844 C 2.953125 -4.152344 2.402344 -4.332031 2.085938 -4.5 C 1.671875 -4.710938 1.363281 -4.976563 1.167969 -5.296875 C 0.964844 -5.617188 0.867188 -5.972656 0.867188 -6.367188 C 0.867188 -6.800781 0.988281 -7.207031 1.234375 -7.582031 C 1.480469 -7.957031 1.839844 -8.242188 2.3125 -8.441406 C 2.785156 -8.632813 3.3125 -8.730469 3.890625 -8.734375 C 4.523438 -8.730469 5.082031 -8.628906 5.574219 -8.425781 C 6.058594 -8.222656 6.433594 -7.921875 6.695313 -7.523438 C 6.957031 -7.125 7.097656 -6.671875 7.117188 -6.171875 L 6.03125 -6.085938 C 5.96875 -6.628906 5.769531 -7.039063 5.433594 -7.316406 C 5.09375 -7.59375 4.597656 -7.734375 3.9375 -7.734375 C 3.25 -7.734375 2.746094 -7.605469 2.433594 -7.355469 C 2.113281 -7.097656 1.957031 -6.796875 1.960938 -6.445313 C 1.957031 -6.136719 2.070313 -5.882813 2.296875 -5.683594 C 2.515625 -5.480469 3.085938 -5.273438 4.011719 -5.070313 C 4.933594 -4.859375 5.566406 -4.679688 5.914063 -4.523438 C 6.410156 -4.292969 6.78125 -4 7.019531 -3.648438 C 7.253906 -3.292969 7.371094 -2.886719 7.375 -2.425781 C 7.371094 -1.96875 7.242188 -1.535156 6.984375 -1.132813 C 6.722656 -0.726563 6.34375 -0.414063 5.855469 -0.1875 C 5.363281 0.0351563 4.8125 0.144531 4.203125 0.148438 C 3.421875 0.144531 2.769531 0.0351563 2.246094 -0.191406 C 1.71875 -0.414063 1.308594 -0.753906 1.011719 -1.214844 C 0.710938 -1.667969 0.554688 -2.183594 0.539063 -2.757813 Z M 0.539063 -2.757813 \"/>\n",
       "</symbol>\n",
       "<symbol overflow=\"visible\" id=\"glyph1-1\">\n",
       "<path style=\"stroke:none;\" d=\"M 3.109375 0 L 3.109375 -7.578125 L 0.28125 -7.578125 L 0.28125 -8.589844 L 7.089844 -8.589844 L 7.089844 -7.578125 L 4.25 -7.578125 L 4.25 0 Z M 3.109375 0 \"/>\n",
       "</symbol>\n",
       "<symbol overflow=\"visible\" id=\"glyph1-2\">\n",
       "<path style=\"stroke:none;\" d=\"M -0.015625 0 L 3.28125 -8.589844 L 4.507813 -8.589844 L 8.023438 0 L 6.726563 0 L 5.726563 -2.601563 L 2.132813 -2.601563 L 1.1875 0 Z M 2.460938 -3.527344 L 5.375 -3.527344 L 4.476563 -5.90625 C 4.203125 -6.628906 4 -7.222656 3.867188 -7.6875 C 3.757813 -7.132813 3.601563 -6.585938 3.40625 -6.046875 Z M 2.460938 -3.527344 \"/>\n",
       "</symbol>\n",
       "<symbol overflow=\"visible\" id=\"glyph1-3\">\n",
       "<path style=\"stroke:none;\" d=\"M 0.949219 0 L 0.949219 -8.589844 L 7.160156 -8.589844 L 7.160156 -7.578125 L 2.085938 -7.578125 L 2.085938 -4.945313 L 6.835938 -4.945313 L 6.835938 -3.9375 L 2.085938 -3.9375 L 2.085938 -1.015625 L 7.359375 -1.015625 L 7.359375 0 Z M 0.949219 0 \"/>\n",
       "</symbol>\n",
       "<symbol overflow=\"visible\" id=\"glyph2-0\">\n",
       "<path style=\"stroke:none;\" d=\"M -2.757813 -0.539063 L -2.851563 -1.613281 C -2.421875 -1.660156 -2.070313 -1.777344 -1.796875 -1.964844 C -1.519531 -2.144531 -1.296875 -2.433594 -1.125 -2.828125 C -0.953125 -3.214844 -0.867188 -3.65625 -0.871094 -4.148438 C -0.867188 -4.578125 -0.929688 -4.960938 -1.0625 -5.296875 C -1.1875 -5.628906 -1.367188 -5.875 -1.59375 -6.039063 C -1.820313 -6.199219 -2.066406 -6.28125 -2.332031 -6.28125 C -2.597656 -6.28125 -2.832031 -6.203125 -3.035156 -6.046875 C -3.238281 -5.890625 -3.40625 -5.632813 -3.542969 -5.273438 C -3.632813 -5.042969 -3.773438 -4.53125 -3.964844 -3.746094 C -4.152344 -2.953125 -4.332031 -2.402344 -4.5 -2.085938 C -4.710938 -1.675781 -4.976563 -1.367188 -5.296875 -1.167969 C -5.617188 -0.964844 -5.972656 -0.867188 -6.367188 -0.867188 C -6.800781 -0.867188 -7.207031 -0.988281 -7.582031 -1.234375 C -7.957031 -1.480469 -8.242188 -1.839844 -8.441406 -2.3125 C -8.632813 -2.785156 -8.730469 -3.3125 -8.734375 -3.890625 C -8.730469 -4.527344 -8.628906 -5.085938 -8.425781 -5.574219 C -8.222656 -6.058594 -7.921875 -6.433594 -7.523438 -6.695313 C -7.125 -6.957031 -6.671875 -7.097656 -6.171875 -7.117188 L -6.085938 -6.03125 C -6.628906 -5.96875 -7.039063 -5.769531 -7.316406 -5.433594 C -7.59375 -5.09375 -7.734375 -4.597656 -7.734375 -3.9375 C -7.734375 -3.25 -7.605469 -2.746094 -7.355469 -2.433594 C -7.097656 -2.117188 -6.796875 -1.960938 -6.445313 -1.964844 C -6.136719 -1.960938 -5.882813 -2.074219 -5.683594 -2.296875 C -5.480469 -2.515625 -5.273438 -3.085938 -5.070313 -4.011719 C -4.859375 -4.933594 -4.679688 -5.566406 -4.523438 -5.914063 C -4.292969 -6.410156 -4 -6.78125 -3.648438 -7.019531 C -3.292969 -7.253906 -2.886719 -7.371094 -2.425781 -7.375 C -1.964844 -7.371094 -1.53125 -7.242188 -1.132813 -6.984375 C -0.726563 -6.722656 -0.414063 -6.34375 -0.1875 -5.855469 C 0.0351563 -5.363281 0.144531 -4.8125 0.148438 -4.203125 C 0.144531 -3.421875 0.0351563 -2.769531 -0.191406 -2.246094 C -0.414063 -1.71875 -0.753906 -1.308594 -1.214844 -1.011719 C -1.667969 -0.710938 -2.183594 -0.554688 -2.757813 -0.539063 Z M -2.757813 -0.539063 \"/>\n",
       "</symbol>\n",
       "<symbol overflow=\"visible\" id=\"glyph2-1\">\n",
       "<path style=\"stroke:none;\" d=\"M -8.589844 -6.5625 L -8.589844 -7.699219 L -3.625 -7.699219 C -2.761719 -7.699219 -2.078125 -7.601563 -1.570313 -7.40625 C -1.0625 -7.210938 -0.648438 -6.855469 -0.328125 -6.347656 C -0.0117188 -5.835938 0.144531 -5.167969 0.148438 -4.34375 C 0.144531 -3.53125 0.0117188 -2.875 -0.265625 -2.367188 C -0.539063 -1.855469 -0.941406 -1.488281 -1.472656 -1.273438 C -1.996094 -1.050781 -2.714844 -0.941406 -3.625 -0.945313 L -8.589844 -0.945313 L -8.589844 -2.082031 L -3.632813 -2.082031 C -2.886719 -2.074219 -2.335938 -2.144531 -1.984375 -2.285156 C -1.628906 -2.425781 -1.355469 -2.664063 -1.164063 -3 C -0.972656 -3.335938 -0.878906 -3.75 -0.878906 -4.242188 C -0.878906 -5.078125 -1.066406 -5.671875 -1.445313 -6.027344 C -1.824219 -6.382813 -2.554688 -6.5625 -3.632813 -6.5625 Z M -8.589844 -6.5625 \"/>\n",
       "</symbol>\n",
       "<symbol overflow=\"visible\" id=\"glyph2-2\">\n",
       "<path style=\"stroke:none;\" d=\"M 0 -0.878906 L -8.589844 -0.878906 L -8.589844 -4.101563 C -8.589844 -4.757813 -8.5 -5.28125 -8.328125 -5.679688 C -8.152344 -6.074219 -7.886719 -6.386719 -7.527344 -6.613281 C -7.164063 -6.835938 -6.785156 -6.949219 -6.390625 -6.949219 C -6.023438 -6.949219 -5.679688 -6.847656 -5.355469 -6.648438 C -5.027344 -6.449219 -4.765625 -6.148438 -4.570313 -5.75 C -4.417969 -6.265625 -4.15625 -6.664063 -3.789063 -6.945313 C -3.417969 -7.222656 -2.984375 -7.363281 -2.488281 -7.367188 C -2.085938 -7.363281 -1.710938 -7.277344 -1.367188 -7.109375 C -1.015625 -6.9375 -0.75 -6.730469 -0.566406 -6.480469 C -0.375 -6.230469 -0.234375 -5.914063 -0.140625 -5.539063 C -0.046875 -5.160156 0 -4.699219 0 -4.15625 Z M -4.980469 -2.015625 L -4.980469 -3.875 C -4.980469 -4.375 -5.011719 -4.738281 -5.078125 -4.957031 C -5.164063 -5.246094 -5.308594 -5.460938 -5.507813 -5.609375 C -5.703125 -5.75 -5.953125 -5.824219 -6.257813 -5.828125 C -6.542969 -5.824219 -6.792969 -5.757813 -7.011719 -5.625 C -7.226563 -5.488281 -7.375 -5.292969 -7.457031 -5.039063 C -7.535156 -4.785156 -7.574219 -4.347656 -7.578125 -3.734375 L -7.578125 -2.015625 Z M -1.011719 -2.015625 L -1.011719 -4.15625 C -1.007813 -4.515625 -1.023438 -4.773438 -1.054688 -4.929688 C -1.101563 -5.1875 -1.179688 -5.40625 -1.289063 -5.582031 C -1.398438 -5.757813 -1.554688 -5.902344 -1.765625 -6.015625 C -1.96875 -6.128906 -2.210938 -6.1875 -2.488281 -6.1875 C -2.804688 -6.1875 -3.082031 -6.105469 -3.324219 -5.941406 C -3.558594 -5.777344 -3.726563 -5.546875 -3.820313 -5.257813 C -3.914063 -4.960938 -3.960938 -4.542969 -3.964844 -4 L -3.96875 -2.015625 Z M -1.011719 -2.015625 \"/>\n",
       "</symbol>\n",
       "<symbol overflow=\"visible\" id=\"glyph3-0\">\n",
       "<path style=\"stroke:none;\" d=\"M 6.894531 0 L 5.386719 0 L 4.785156 -1.5625 L 2.039063 -1.5625 L 1.472656 0 L 0 0 L 2.675781 -6.871094 L 4.144531 -6.871094 Z M 4.339844 -2.71875 L 3.394531 -5.269531 L 2.464844 -2.71875 Z M 4.339844 -2.71875 \"/>\n",
       "</symbol>\n",
       "<symbol overflow=\"visible\" id=\"glyph3-1\">\n",
       "<path style=\"stroke:none;\" d=\"M 2.058594 0 L 0.0507813 -4.976563 L 1.433594 -4.976563 L 2.371094 -2.4375 L 2.644531 -1.589844 C 2.710938 -1.800781 2.757813 -1.945313 2.78125 -2.015625 C 2.820313 -2.15625 2.867188 -2.296875 2.921875 -2.4375 L 3.867188 -4.976563 L 5.222656 -4.976563 L 3.242188 0 Z M 2.058594 0 \"/>\n",
       "</symbol>\n",
       "<symbol overflow=\"visible\" id=\"glyph3-2\">\n",
       "<path style=\"stroke:none;\" d=\"M 0.566406 0.328125 L 2.070313 0.511719 C 2.09375 0.683594 2.152344 0.804688 2.246094 0.871094 C 2.367188 0.960938 2.566406 1.007813 2.835938 1.011719 C 3.179688 1.007813 3.4375 0.957031 3.609375 0.859375 C 3.722656 0.785156 3.808594 0.671875 3.871094 0.523438 C 3.910156 0.410156 3.929688 0.214844 3.933594 -0.078125 L 3.933594 -0.804688 C 3.535156 -0.265625 3.039063 0 2.441406 0 C 1.769531 0 1.238281 -0.28125 0.851563 -0.847656 C 0.542969 -1.292969 0.390625 -1.847656 0.394531 -2.515625 C 0.390625 -3.347656 0.59375 -3.988281 0.996094 -4.429688 C 1.394531 -4.867188 1.890625 -5.085938 2.492188 -5.089844 C 3.105469 -5.085938 3.613281 -4.816406 4.015625 -4.28125 L 4.015625 -4.976563 L 5.25 -4.976563 L 5.25 -0.511719 C 5.25 0.078125 5.199219 0.511719 5.105469 0.804688 C 5.003906 1.09375 4.867188 1.324219 4.695313 1.488281 C 4.515625 1.652344 4.285156 1.78125 3.996094 1.878906 C 3.703125 1.96875 3.332031 2.015625 2.886719 2.019531 C 2.039063 2.015625 1.441406 1.871094 1.089844 1.585938 C 0.738281 1.292969 0.5625 0.925781 0.5625 0.488281 C 0.5625 0.441406 0.5625 0.390625 0.566406 0.328125 Z M 1.742188 -2.59375 C 1.738281 -2.0625 1.84375 -1.675781 2.050781 -1.429688 C 2.253906 -1.183594 2.503906 -1.058594 2.808594 -1.0625 C 3.125 -1.058594 3.398438 -1.1875 3.621094 -1.441406 C 3.84375 -1.691406 3.953125 -2.0625 3.957031 -2.558594 C 3.953125 -3.070313 3.847656 -3.453125 3.636719 -3.707031 C 3.421875 -3.953125 3.152344 -4.078125 2.832031 -4.082031 C 2.511719 -4.078125 2.253906 -3.957031 2.050781 -3.714844 C 1.84375 -3.46875 1.738281 -3.09375 1.742188 -2.59375 Z M 1.742188 -2.59375 \"/>\n",
       "</symbol>\n",
       "<symbol overflow=\"visible\" id=\"glyph3-3\">\n",
       "<path style=\"stroke:none;\" d=\"M 0.699219 0 L 0.699219 -6.871094 L 2.925781 -6.871094 C 3.765625 -6.867188 4.316406 -6.832031 4.574219 -6.769531 C 4.964844 -6.660156 5.292969 -6.4375 5.5625 -6.09375 C 5.824219 -5.75 5.957031 -5.304688 5.960938 -4.757813 C 5.957031 -4.335938 5.882813 -3.980469 5.730469 -3.691406 C 5.578125 -3.402344 5.382813 -3.175781 5.148438 -3.015625 C 4.910156 -2.847656 4.671875 -2.738281 4.429688 -2.691406 C 4.097656 -2.621094 3.617188 -2.589844 2.992188 -2.59375 L 2.085938 -2.59375 L 2.085938 0 Z M 2.085938 -5.710938 L 2.085938 -3.757813 L 2.84375 -3.757813 C 3.386719 -3.753906 3.753906 -3.792969 3.941406 -3.867188 C 4.125 -3.9375 4.269531 -4.046875 4.375 -4.203125 C 4.476563 -4.351563 4.527344 -4.53125 4.53125 -4.738281 C 4.527344 -4.984375 4.457031 -5.191406 4.3125 -5.355469 C 4.164063 -5.519531 3.976563 -5.621094 3.753906 -5.664063 C 3.585938 -5.691406 3.253906 -5.707031 2.757813 -5.710938 Z M 2.085938 -5.710938 \"/>\n",
       "</symbol>\n",
       "<symbol overflow=\"visible\" id=\"glyph3-4\">\n",
       "<path style=\"stroke:none;\" d=\"M 1.949219 0 L 0.632813 0 L 0.632813 -4.976563 L 1.855469 -4.976563 L 1.855469 -4.269531 C 2.0625 -4.601563 2.25 -4.820313 2.421875 -4.929688 C 2.585938 -5.03125 2.777344 -5.085938 2.992188 -5.089844 C 3.289063 -5.085938 3.578125 -5.003906 3.859375 -4.84375 L 3.449219 -3.695313 C 3.226563 -3.835938 3.019531 -3.90625 2.832031 -3.910156 C 2.644531 -3.90625 2.488281 -3.855469 2.363281 -3.757813 C 2.230469 -3.652344 2.128906 -3.46875 2.058594 -3.207031 C 1.980469 -2.9375 1.945313 -2.382813 1.949219 -1.539063 Z M 1.949219 0 \"/>\n",
       "</symbol>\n",
       "<symbol overflow=\"visible\" id=\"glyph3-5\">\n",
       "<path style=\"stroke:none;\" d=\"M 0.6875 -5.652344 L 0.6875 -6.871094 L 2.007813 -6.871094 L 2.007813 -5.652344 Z M 0.6875 0 L 0.6875 -4.976563 L 2.007813 -4.976563 L 2.007813 0 Z M 0.6875 0 \"/>\n",
       "</symbol>\n",
       "<symbol overflow=\"visible\" id=\"glyph3-6\">\n",
       "<path style=\"stroke:none;\" d=\"M 5.03125 -3.507813 L 3.730469 -3.273438 C 3.683594 -3.527344 3.585938 -3.722656 3.433594 -3.855469 C 3.277344 -3.988281 3.074219 -4.054688 2.832031 -4.054688 C 2.5 -4.054688 2.238281 -3.941406 2.046875 -3.714844 C 1.847656 -3.488281 1.75 -3.109375 1.753906 -2.578125 C 1.75 -1.984375 1.851563 -1.566406 2.050781 -1.324219 C 2.246094 -1.082031 2.511719 -0.960938 2.851563 -0.960938 C 3.097656 -0.960938 3.300781 -1.03125 3.464844 -1.171875 C 3.621094 -1.3125 3.734375 -1.554688 3.800781 -1.90625 L 5.09375 -1.6875 C 4.957031 -1.09375 4.699219 -0.644531 4.320313 -0.339844 C 3.9375 -0.0390625 3.429688 0.109375 2.789063 0.113281 C 2.058594 0.109375 1.476563 -0.117188 1.046875 -0.574219 C 0.613281 -1.035156 0.398438 -1.671875 0.398438 -2.484375 C 0.398438 -3.304688 0.613281 -3.941406 1.050781 -4.402344 C 1.480469 -4.855469 2.070313 -5.085938 2.8125 -5.089844 C 3.417969 -5.085938 3.898438 -4.957031 4.257813 -4.699219 C 4.613281 -4.4375 4.871094 -4.039063 5.03125 -3.507813 Z M 5.03125 -3.507813 \"/>\n",
       "</symbol>\n",
       "<symbol overflow=\"visible\" id=\"glyph3-7\">\n",
       "<path style=\"stroke:none;\" d=\"M 3.570313 -1.585938 L 4.882813 -1.363281 C 4.710938 -0.878906 4.445313 -0.511719 4.085938 -0.261719 C 3.71875 -0.0117188 3.265625 0.109375 2.71875 0.113281 C 1.851563 0.109375 1.210938 -0.167969 0.796875 -0.734375 C 0.46875 -1.183594 0.304688 -1.757813 0.304688 -2.453125 C 0.304688 -3.273438 0.519531 -3.917969 0.949219 -4.386719 C 1.378906 -4.851563 1.921875 -5.085938 2.585938 -5.089844 C 3.324219 -5.085938 3.910156 -4.839844 4.339844 -4.355469 C 4.765625 -3.863281 4.96875 -3.117188 4.953125 -2.109375 L 1.65625 -2.109375 C 1.660156 -1.71875 1.765625 -1.414063 1.972656 -1.195313 C 2.171875 -0.976563 2.425781 -0.867188 2.734375 -0.871094 C 2.9375 -0.867188 3.109375 -0.921875 3.253906 -1.039063 C 3.390625 -1.148438 3.496094 -1.332031 3.570313 -1.585938 Z M 3.648438 -2.914063 C 3.636719 -3.292969 3.539063 -3.585938 3.351563 -3.785156 C 3.164063 -3.980469 2.933594 -4.078125 2.667969 -4.082031 C 2.375 -4.078125 2.136719 -3.972656 1.953125 -3.769531 C 1.761719 -3.554688 1.671875 -3.269531 1.679688 -2.914063 Z M 3.648438 -2.914063 \"/>\n",
       "</symbol>\n",
       "</g>\n",
       "<clipPath id=\"clip1\">\n",
       "  <path d=\"M 40.753906 14.398438 L 412.347656 14.398438 L 412.347656 468.050781 L 40.753906 468.050781 Z M 40.753906 14.398438 \"/>\n",
       "</clipPath>\n",
       "<clipPath id=\"clip2\">\n",
       "  <path d=\"M 425.632813 203.277344 L 442.914063 203.277344 L 442.914063 289.675781 L 425.632813 289.675781 Z M 425.632813 203.277344 \"/>\n",
       "</clipPath>\n",
       "<image id=\"image48\" width=\"1\" height=\"24\" xlink:href=\"data:image/png;base64,iVBORw0KGgoAAAANSUhEUgAAAAEAAAAYCAIAAAC0rgCNAAAABmJLR0QA/wD/AP+gvaeTAAAANklEQVQImWPwbN7KxMXKzMTJyszEgQWzszIzcbCyQNhsMD6EZmeDyLGjy7ExM3GwMTP8+v0HAN7aBgCNxeNAAAAAAElFTkSuQmCC\"/>\n",
       "<pattern id=\"pattern0\" patternUnits=\"userSpaceOnUse\" width=\"1\" height=\"24\"  patternTransform=\"matrix(17.28,0,0,3.6,425.633386,203.275834)\">\n",
       "  <use xlink:href=\"#image48\"/>\n",
       "</pattern>\n",
       "</defs>\n",
       "<g id=\"surface44\">\n",
       "<rect x=\"0\" y=\"0\" width=\"504\" height=\"504\" style=\"fill:rgb(100%,100%,100%);fill-opacity:1;stroke:none;\"/>\n",
       "<rect x=\"0\" y=\"0\" width=\"504\" height=\"504\" style=\"fill:rgb(100%,100%,100%);fill-opacity:1;stroke:none;\"/>\n",
       "<path style=\"fill:none;stroke-width:1.062992;stroke-linecap:round;stroke-linejoin:round;stroke:rgb(100%,100%,100%);stroke-opacity:1;stroke-miterlimit:10;\" d=\"M 0 504 L 504 504 L 504 0 L 0 0 Z M 0 504 \"/>\n",
       "<g clip-path=\"url(#clip1)\" clip-rule=\"nonzero\">\n",
       "<path style=\" stroke:none;fill-rule:nonzero;fill:rgb(89.803922%,89.803922%,89.803922%);fill-opacity:1;\" d=\"M 40.753906 467.050781 L 411.347656 467.050781 L 411.347656 14.398438 L 40.753906 14.398438 Z M 40.753906 467.050781 \"/>\n",
       "<path style=\"fill:none;stroke-width:0.531496;stroke-linecap:butt;stroke-linejoin:round;stroke:rgb(94.901961%,94.901961%,94.901961%);stroke-opacity:1;stroke-miterlimit:10;\" d=\"M 40.753906 376.667969 L 411.347656 376.667969 \"/>\n",
       "<path style=\"fill:none;stroke-width:0.531496;stroke-linecap:butt;stroke-linejoin:round;stroke:rgb(94.901961%,94.901961%,94.901961%);stroke-opacity:1;stroke-miterlimit:10;\" d=\"M 40.753906 229.703125 L 411.347656 229.703125 \"/>\n",
       "<path style=\"fill:none;stroke-width:0.531496;stroke-linecap:butt;stroke-linejoin:round;stroke:rgb(94.901961%,94.901961%,94.901961%);stroke-opacity:1;stroke-miterlimit:10;\" d=\"M 40.753906 82.738281 L 411.347656 82.738281 \"/>\n",
       "<path style=\"fill:none;stroke-width:0.531496;stroke-linecap:butt;stroke-linejoin:round;stroke:rgb(94.901961%,94.901961%,94.901961%);stroke-opacity:1;stroke-miterlimit:10;\" d=\"M 57.601563 467.050781 L 57.601563 14.398438 \"/>\n",
       "<path style=\"fill:none;stroke-width:0.531496;stroke-linecap:butt;stroke-linejoin:round;stroke:rgb(94.901961%,94.901961%,94.901961%);stroke-opacity:1;stroke-miterlimit:10;\" d=\"M 141.824219 467.050781 L 141.824219 14.398438 \"/>\n",
       "<path style=\"fill:none;stroke-width:0.531496;stroke-linecap:butt;stroke-linejoin:round;stroke:rgb(94.901961%,94.901961%,94.901961%);stroke-opacity:1;stroke-miterlimit:10;\" d=\"M 226.050781 467.050781 L 226.050781 14.398438 \"/>\n",
       "<path style=\"fill:none;stroke-width:0.531496;stroke-linecap:butt;stroke-linejoin:round;stroke:rgb(94.901961%,94.901961%,94.901961%);stroke-opacity:1;stroke-miterlimit:10;\" d=\"M 310.277344 467.050781 L 310.277344 14.398438 \"/>\n",
       "<path style=\"fill:none;stroke-width:0.531496;stroke-linecap:butt;stroke-linejoin:round;stroke:rgb(94.901961%,94.901961%,94.901961%);stroke-opacity:1;stroke-miterlimit:10;\" d=\"M 394.5 467.050781 L 394.5 14.398438 \"/>\n",
       "<path style=\"fill:none;stroke-width:1.062992;stroke-linecap:butt;stroke-linejoin:round;stroke:rgb(100%,100%,100%);stroke-opacity:1;stroke-miterlimit:10;\" d=\"M 40.753906 450.152344 L 411.347656 450.152344 \"/>\n",
       "<path style=\"fill:none;stroke-width:1.062992;stroke-linecap:butt;stroke-linejoin:round;stroke:rgb(100%,100%,100%);stroke-opacity:1;stroke-miterlimit:10;\" d=\"M 40.753906 303.1875 L 411.347656 303.1875 \"/>\n",
       "<path style=\"fill:none;stroke-width:1.062992;stroke-linecap:butt;stroke-linejoin:round;stroke:rgb(100%,100%,100%);stroke-opacity:1;stroke-miterlimit:10;\" d=\"M 40.753906 156.222656 L 411.347656 156.222656 \"/>\n",
       "<path style=\"fill:none;stroke-width:1.062992;stroke-linecap:butt;stroke-linejoin:round;stroke:rgb(100%,100%,100%);stroke-opacity:1;stroke-miterlimit:10;\" d=\"M 99.710938 467.050781 L 99.710938 14.398438 \"/>\n",
       "<path style=\"fill:none;stroke-width:1.062992;stroke-linecap:butt;stroke-linejoin:round;stroke:rgb(100%,100%,100%);stroke-opacity:1;stroke-miterlimit:10;\" d=\"M 183.9375 467.050781 L 183.9375 14.398438 \"/>\n",
       "<path style=\"fill:none;stroke-width:1.062992;stroke-linecap:butt;stroke-linejoin:round;stroke:rgb(100%,100%,100%);stroke-opacity:1;stroke-miterlimit:10;\" d=\"M 268.164063 467.050781 L 268.164063 14.398438 \"/>\n",
       "<path style=\"fill:none;stroke-width:1.062992;stroke-linecap:butt;stroke-linejoin:round;stroke:rgb(100%,100%,100%);stroke-opacity:1;stroke-miterlimit:10;\" d=\"M 352.390625 467.050781 L 352.390625 14.398438 \"/>\n",
       "<path style=\"fill-rule:nonzero;fill:rgb(89.019608%,91.764706%,95.294118%);fill-opacity:1;stroke-width:0.212598;stroke-linecap:butt;stroke-linejoin:round;stroke:rgb(100%,100%,100%);stroke-opacity:1;stroke-miterlimit:10;\" d=\"M 226.050781 181.941406 L 310.277344 181.941406 L 310.277344 174.59375 L 226.050781 174.59375 Z M 226.050781 181.941406 \"/>\n",
       "<path style=\"fill-rule:nonzero;fill:rgb(83.921569%,87.843137%,92.941176%);fill-opacity:1;stroke-width:0.212598;stroke-linecap:butt;stroke-linejoin:round;stroke:rgb(100%,100%,100%);stroke-opacity:1;stroke-miterlimit:10;\" d=\"M 310.277344 439.128906 L 394.503906 439.128906 L 394.503906 431.78125 L 310.277344 431.78125 Z M 310.277344 439.128906 \"/>\n",
       "<path style=\"fill-rule:nonzero;fill:rgb(98.823529%,99.215686%,99.215686%);fill-opacity:1;stroke-width:0.212598;stroke-linecap:butt;stroke-linejoin:round;stroke:rgb(100%,100%,100%);stroke-opacity:1;stroke-miterlimit:10;\" d=\"M 226.050781 159.894531 L 310.277344 159.894531 L 310.277344 152.546875 L 226.050781 152.546875 Z M 226.050781 159.894531 \"/>\n",
       "<path style=\"fill-rule:nonzero;fill:rgb(87.058824%,90.196078%,94.117647%);fill-opacity:1;stroke-width:0.212598;stroke-linecap:butt;stroke-linejoin:round;stroke:rgb(100%,100%,100%);stroke-opacity:1;stroke-miterlimit:10;\" d=\"M 310.277344 424.433594 L 394.503906 424.433594 L 394.503906 417.085938 L 310.277344 417.085938 Z M 310.277344 424.433594 \"/>\n",
       "<path style=\"fill-rule:nonzero;fill:rgb(47.058824%,62.352941%,77.647059%);fill-opacity:1;stroke-width:0.212598;stroke-linecap:butt;stroke-linejoin:round;stroke:rgb(100%,100%,100%);stroke-opacity:1;stroke-miterlimit:10;\" d=\"M 310.277344 409.734375 L 394.503906 409.734375 L 394.503906 402.386719 L 310.277344 402.386719 Z M 310.277344 409.734375 \"/>\n",
       "<path style=\"fill-rule:nonzero;fill:rgb(75.686275%,81.960784%,89.411765%);fill-opacity:1;stroke-width:0.212598;stroke-linecap:butt;stroke-linejoin:round;stroke:rgb(100%,100%,100%);stroke-opacity:1;stroke-miterlimit:10;\" d=\"M 310.277344 395.039063 L 394.503906 395.039063 L 394.503906 387.691406 L 310.277344 387.691406 Z M 310.277344 395.039063 \"/>\n",
       "<path style=\"fill-rule:nonzero;fill:rgb(90.980392%,92.941176%,96.078431%);fill-opacity:1;stroke-width:0.212598;stroke-linecap:butt;stroke-linejoin:round;stroke:rgb(100%,100%,100%);stroke-opacity:1;stroke-miterlimit:10;\" d=\"M 226.050781 123.152344 L 310.277344 123.152344 L 310.277344 115.804688 L 226.050781 115.804688 Z M 226.050781 123.152344 \"/>\n",
       "<path style=\"fill-rule:nonzero;fill:rgb(91.764706%,93.72549%,96.470588%);fill-opacity:1;stroke-width:0.212598;stroke-linecap:butt;stroke-linejoin:round;stroke:rgb(100%,100%,100%);stroke-opacity:1;stroke-miterlimit:10;\" d=\"M 226.050781 108.457031 L 310.277344 108.457031 L 310.277344 101.109375 L 226.050781 101.109375 Z M 226.050781 108.457031 \"/>\n",
       "<path style=\"fill-rule:nonzero;fill:rgb(92.156863%,94.117647%,96.470588%);fill-opacity:1;stroke-width:0.212598;stroke-linecap:butt;stroke-linejoin:round;stroke:rgb(100%,100%,100%);stroke-opacity:1;stroke-miterlimit:10;\" d=\"M 226.050781 101.109375 L 310.277344 101.109375 L 310.277344 93.761719 L 226.050781 93.761719 Z M 226.050781 101.109375 \"/>\n",
       "<path style=\"fill-rule:nonzero;fill:rgb(72.941176%,80%,88.235294%);fill-opacity:1;stroke-width:0.212598;stroke-linecap:butt;stroke-linejoin:round;stroke:rgb(100%,100%,100%);stroke-opacity:1;stroke-miterlimit:10;\" d=\"M 226.050781 79.066406 L 310.277344 79.066406 L 310.277344 71.71875 L 226.050781 71.71875 Z M 226.050781 79.066406 \"/>\n",
       "<path style=\"fill-rule:nonzero;fill:rgb(30.980392%,52.54902%,71.764706%);fill-opacity:1;stroke-width:0.212598;stroke-linecap:butt;stroke-linejoin:round;stroke:rgb(100%,100%,100%);stroke-opacity:1;stroke-miterlimit:10;\" d=\"M 310.277344 343.601563 L 394.503906 343.601563 L 394.503906 336.253906 L 310.277344 336.253906 Z M 310.277344 343.601563 \"/>\n",
       "<path style=\"fill-rule:nonzero;fill:rgb(89.803922%,92.156863%,95.294118%);fill-opacity:1;stroke-width:0.212598;stroke-linecap:butt;stroke-linejoin:round;stroke:rgb(100%,100%,100%);stroke-opacity:1;stroke-miterlimit:10;\" d=\"M 310.277344 336.253906 L 394.503906 336.253906 L 394.503906 328.90625 L 310.277344 328.90625 Z M 310.277344 336.253906 \"/>\n",
       "<path style=\"fill-rule:nonzero;fill:rgb(100%,100%,100%);fill-opacity:1;stroke-width:0.212598;stroke-linecap:butt;stroke-linejoin:round;stroke:rgb(100%,100%,100%);stroke-opacity:1;stroke-miterlimit:10;\" d=\"M 226.050781 57.019531 L 310.277344 57.019531 L 310.277344 49.671875 L 226.050781 49.671875 Z M 226.050781 57.019531 \"/>\n",
       "<path style=\"fill-rule:nonzero;fill:rgb(84.313725%,88.235294%,92.941176%);fill-opacity:1;stroke-width:0.212598;stroke-linecap:butt;stroke-linejoin:round;stroke:rgb(100%,100%,100%);stroke-opacity:1;stroke-miterlimit:10;\" d=\"M 310.277344 233.378906 L 394.503906 233.378906 L 394.503906 226.03125 L 310.277344 226.03125 Z M 310.277344 233.378906 \"/>\n",
       "<path style=\"fill-rule:nonzero;fill:rgb(88.235294%,90.980392%,94.901961%);fill-opacity:1;stroke-width:0.212598;stroke-linecap:butt;stroke-linejoin:round;stroke:rgb(100%,100%,100%);stroke-opacity:1;stroke-miterlimit:10;\" d=\"M 310.277344 218.679688 L 394.503906 218.679688 L 394.503906 211.332031 L 310.277344 211.332031 Z M 310.277344 218.679688 \"/>\n",
       "<path style=\"fill-rule:nonzero;fill:rgb(90.196078%,92.54902%,95.686275%);fill-opacity:1;stroke-width:0.212598;stroke-linecap:butt;stroke-linejoin:round;stroke:rgb(100%,100%,100%);stroke-opacity:1;stroke-miterlimit:10;\" d=\"M 310.277344 196.636719 L 394.503906 196.636719 L 394.503906 189.289063 L 310.277344 189.289063 Z M 310.277344 196.636719 \"/>\n",
       "<path style=\"fill-rule:nonzero;fill:rgb(80.392157%,85.490196%,91.372549%);fill-opacity:1;stroke-width:0.212598;stroke-linecap:butt;stroke-linejoin:round;stroke:rgb(100%,100%,100%);stroke-opacity:1;stroke-miterlimit:10;\" d=\"M 310.277344 152.546875 L 394.503906 152.546875 L 394.503906 145.199219 L 310.277344 145.199219 Z M 310.277344 152.546875 \"/>\n",
       "<path style=\"fill-rule:nonzero;fill:rgb(82.745098%,87.058824%,92.54902%);fill-opacity:1;stroke-width:0.212598;stroke-linecap:butt;stroke-linejoin:round;stroke:rgb(100%,100%,100%);stroke-opacity:1;stroke-miterlimit:10;\" d=\"M 310.277344 93.761719 L 394.503906 93.761719 L 394.503906 86.414063 L 310.277344 86.414063 Z M 310.277344 93.761719 \"/>\n",
       "<path style=\"fill-rule:nonzero;fill:rgb(74.117647%,80.784314%,88.627451%);fill-opacity:1;stroke-width:0.212598;stroke-linecap:butt;stroke-linejoin:round;stroke:rgb(100%,100%,100%);stroke-opacity:1;stroke-miterlimit:10;\" d=\"M 310.277344 64.367188 L 394.503906 64.367188 L 394.503906 57.019531 L 310.277344 57.019531 Z M 310.277344 64.367188 \"/>\n",
       "<path style=\"fill-rule:nonzero;fill:rgb(88.235294%,90.980392%,94.901961%);fill-opacity:1;stroke-width:0.212598;stroke-linecap:butt;stroke-linejoin:round;stroke:rgb(100%,100%,100%);stroke-opacity:1;stroke-miterlimit:10;\" d=\"M 310.277344 42.324219 L 394.503906 42.324219 L 394.503906 34.976563 L 310.277344 34.976563 Z M 310.277344 42.324219 \"/>\n",
       "<path style=\"fill-rule:nonzero;fill:rgb(61.568627%,71.764706%,83.529412%);fill-opacity:1;stroke-width:0.212598;stroke-linecap:butt;stroke-linejoin:round;stroke:rgb(100%,100%,100%);stroke-opacity:1;stroke-miterlimit:10;\" d=\"M 57.601563 387.691406 L 141.828125 387.691406 L 141.828125 380.34375 L 57.601563 380.34375 Z M 57.601563 387.691406 \"/>\n",
       "<path style=\"fill-rule:nonzero;fill:rgb(90.196078%,92.54902%,95.686275%);fill-opacity:1;stroke-width:0.212598;stroke-linecap:butt;stroke-linejoin:round;stroke:rgb(100%,100%,100%);stroke-opacity:1;stroke-miterlimit:10;\" d=\"M 57.601563 284.816406 L 141.828125 284.816406 L 141.828125 277.46875 L 57.601563 277.46875 Z M 57.601563 284.816406 \"/>\n",
       "<path style=\"fill-rule:nonzero;fill:rgb(61.960784%,72.156863%,83.529412%);fill-opacity:1;stroke-width:0.212598;stroke-linecap:butt;stroke-linejoin:round;stroke:rgb(100%,100%,100%);stroke-opacity:1;stroke-miterlimit:10;\" d=\"M 57.601563 270.117188 L 141.828125 270.117188 L 141.828125 262.769531 L 57.601563 262.769531 Z M 57.601563 270.117188 \"/>\n",
       "<path style=\"fill-rule:nonzero;fill:rgb(79.607843%,84.705882%,90.980392%);fill-opacity:1;stroke-width:0.212598;stroke-linecap:butt;stroke-linejoin:round;stroke:rgb(100%,100%,100%);stroke-opacity:1;stroke-miterlimit:10;\" d=\"M 57.601563 211.332031 L 141.828125 211.332031 L 141.828125 203.984375 L 57.601563 203.984375 Z M 57.601563 211.332031 \"/>\n",
       "<path style=\"fill-rule:nonzero;fill:rgb(64.705882%,74.117647%,84.705882%);fill-opacity:1;stroke-width:0.212598;stroke-linecap:butt;stroke-linejoin:round;stroke:rgb(100%,100%,100%);stroke-opacity:1;stroke-miterlimit:10;\" d=\"M 57.601563 203.984375 L 141.828125 203.984375 L 141.828125 196.636719 L 57.601563 196.636719 Z M 57.601563 203.984375 \"/>\n",
       "<path style=\"fill-rule:nonzero;fill:rgb(66.27451%,75.294118%,85.490196%);fill-opacity:1;stroke-width:0.212598;stroke-linecap:butt;stroke-linejoin:round;stroke:rgb(100%,100%,100%);stroke-opacity:1;stroke-miterlimit:10;\" d=\"M 57.601563 189.289063 L 141.828125 189.289063 L 141.828125 181.941406 L 57.601563 181.941406 Z M 57.601563 189.289063 \"/>\n",
       "<path style=\"fill-rule:nonzero;fill:rgb(90.588235%,92.941176%,96.078431%);fill-opacity:1;stroke-width:0.212598;stroke-linecap:butt;stroke-linejoin:round;stroke:rgb(100%,100%,100%);stroke-opacity:1;stroke-miterlimit:10;\" d=\"M 57.601563 145.199219 L 141.828125 145.199219 L 141.828125 137.851563 L 57.601563 137.851563 Z M 57.601563 145.199219 \"/>\n",
       "<path style=\"fill-rule:nonzero;fill:rgb(76.470588%,82.352941%,89.803922%);fill-opacity:1;stroke-width:0.212598;stroke-linecap:butt;stroke-linejoin:round;stroke:rgb(100%,100%,100%);stroke-opacity:1;stroke-miterlimit:10;\" d=\"M 57.601563 130.503906 L 141.828125 130.503906 L 141.828125 123.15625 L 57.601563 123.15625 Z M 57.601563 130.503906 \"/>\n",
       "<path style=\"fill-rule:nonzero;fill:rgb(81.960784%,86.27451%,92.156863%);fill-opacity:1;stroke-width:0.212598;stroke-linecap:butt;stroke-linejoin:round;stroke:rgb(100%,100%,100%);stroke-opacity:1;stroke-miterlimit:10;\" d=\"M 57.601563 86.414063 L 141.828125 86.414063 L 141.828125 79.066406 L 57.601563 79.066406 Z M 57.601563 86.414063 \"/>\n",
       "<path style=\"fill-rule:nonzero;fill:rgb(88.235294%,90.980392%,94.901961%);fill-opacity:1;stroke-width:0.212598;stroke-linecap:butt;stroke-linejoin:round;stroke:rgb(100%,100%,100%);stroke-opacity:1;stroke-miterlimit:10;\" d=\"M 141.824219 328.90625 L 226.050781 328.90625 L 226.050781 321.558594 L 141.824219 321.558594 Z M 141.824219 328.90625 \"/>\n",
       "<path style=\"fill-rule:nonzero;fill:rgb(97.647059%,98.039216%,98.823529%);fill-opacity:1;stroke-width:0.212598;stroke-linecap:butt;stroke-linejoin:round;stroke:rgb(100%,100%,100%);stroke-opacity:1;stroke-miterlimit:10;\" d=\"M 141.824219 321.554688 L 226.050781 321.554688 L 226.050781 314.207031 L 141.824219 314.207031 Z M 141.824219 321.554688 \"/>\n",
       "<path style=\"fill-rule:nonzero;fill:rgb(97.647059%,98.431373%,98.823529%);fill-opacity:1;stroke-width:0.212598;stroke-linecap:butt;stroke-linejoin:round;stroke:rgb(100%,100%,100%);stroke-opacity:1;stroke-miterlimit:10;\" d=\"M 141.824219 314.207031 L 226.050781 314.207031 L 226.050781 306.859375 L 141.824219 306.859375 Z M 141.824219 314.207031 \"/>\n",
       "<path style=\"fill-rule:nonzero;fill:rgb(98.039216%,98.431373%,98.823529%);fill-opacity:1;stroke-width:0.212598;stroke-linecap:butt;stroke-linejoin:round;stroke:rgb(100%,100%,100%);stroke-opacity:1;stroke-miterlimit:10;\" d=\"M 141.824219 306.859375 L 226.050781 306.859375 L 226.050781 299.511719 L 141.824219 299.511719 Z M 141.824219 306.859375 \"/>\n",
       "<path style=\"fill-rule:nonzero;fill:rgb(96.470588%,97.254902%,98.431373%);fill-opacity:1;stroke-width:0.212598;stroke-linecap:butt;stroke-linejoin:round;stroke:rgb(100%,100%,100%);stroke-opacity:1;stroke-miterlimit:10;\" d=\"M 141.824219 262.769531 L 226.050781 262.769531 L 226.050781 255.421875 L 141.824219 255.421875 Z M 141.824219 262.769531 \"/>\n",
       "<path style=\"fill-rule:nonzero;fill:rgb(87.843137%,90.980392%,94.509804%);fill-opacity:1;stroke-width:0.212598;stroke-linecap:butt;stroke-linejoin:round;stroke:rgb(100%,100%,100%);stroke-opacity:1;stroke-miterlimit:10;\" d=\"M 141.824219 255.421875 L 226.050781 255.421875 L 226.050781 248.074219 L 141.824219 248.074219 Z M 141.824219 255.421875 \"/>\n",
       "<path style=\"fill-rule:nonzero;fill:rgb(95.686275%,96.470588%,98.039216%);fill-opacity:1;stroke-width:0.212598;stroke-linecap:butt;stroke-linejoin:round;stroke:rgb(100%,100%,100%);stroke-opacity:1;stroke-miterlimit:10;\" d=\"M 141.824219 240.726563 L 226.050781 240.726563 L 226.050781 233.378906 L 141.824219 233.378906 Z M 141.824219 240.726563 \"/>\n",
       "<path style=\"fill-rule:nonzero;fill:rgb(97.647059%,98.039216%,98.823529%);fill-opacity:1;stroke-width:0.212598;stroke-linecap:butt;stroke-linejoin:round;stroke:rgb(100%,100%,100%);stroke-opacity:1;stroke-miterlimit:10;\" d=\"M 141.824219 226.03125 L 226.050781 226.03125 L 226.050781 218.683594 L 141.824219 218.683594 Z M 141.824219 226.03125 \"/>\n",
       "<path style=\"fill-rule:nonzero;fill:rgb(95.686275%,96.862745%,98.039216%);fill-opacity:1;stroke-width:0.212598;stroke-linecap:butt;stroke-linejoin:round;stroke:rgb(100%,100%,100%);stroke-opacity:1;stroke-miterlimit:10;\" d=\"M 226.050781 446.476563 L 310.277344 446.476563 L 310.277344 439.128906 L 226.050781 439.128906 Z M 226.050781 446.476563 \"/>\n",
       "<path style=\"fill-rule:nonzero;fill:rgb(96.078431%,96.862745%,98.039216%);fill-opacity:1;stroke-width:0.212598;stroke-linecap:butt;stroke-linejoin:round;stroke:rgb(100%,100%,100%);stroke-opacity:1;stroke-miterlimit:10;\" d=\"M 141.824219 174.589844 L 226.050781 174.589844 L 226.050781 167.242188 L 141.824219 167.242188 Z M 141.824219 174.589844 \"/>\n",
       "<path style=\"fill-rule:nonzero;fill:rgb(96.470588%,97.254902%,98.431373%);fill-opacity:1;stroke-width:0.212598;stroke-linecap:butt;stroke-linejoin:round;stroke:rgb(100%,100%,100%);stroke-opacity:1;stroke-miterlimit:10;\" d=\"M 141.824219 167.242188 L 226.050781 167.242188 L 226.050781 159.894531 L 141.824219 159.894531 Z M 141.824219 167.242188 \"/>\n",
       "<path style=\"fill-rule:nonzero;fill:rgb(99.215686%,99.215686%,99.607843%);fill-opacity:1;stroke-width:0.212598;stroke-linecap:butt;stroke-linejoin:round;stroke:rgb(100%,100%,100%);stroke-opacity:1;stroke-miterlimit:10;\" d=\"M 226.050781 417.082031 L 310.277344 417.082031 L 310.277344 409.734375 L 226.050781 409.734375 Z M 226.050781 417.082031 \"/>\n",
       "<path style=\"fill-rule:nonzero;fill:rgb(96.862745%,97.647059%,98.431373%);fill-opacity:1;stroke-width:0.212598;stroke-linecap:butt;stroke-linejoin:round;stroke:rgb(100%,100%,100%);stroke-opacity:1;stroke-miterlimit:10;\" d=\"M 141.824219 115.804688 L 226.050781 115.804688 L 226.050781 108.457031 L 141.824219 108.457031 Z M 141.824219 115.804688 \"/>\n",
       "<path style=\"fill-rule:nonzero;fill:rgb(78.823529%,84.313725%,90.980392%);fill-opacity:1;stroke-width:0.212598;stroke-linecap:butt;stroke-linejoin:round;stroke:rgb(100%,100%,100%);stroke-opacity:1;stroke-miterlimit:10;\" d=\"M 226.050781 380.34375 L 310.277344 380.34375 L 310.277344 372.996094 L 226.050781 372.996094 Z M 226.050781 380.34375 \"/>\n",
       "<path style=\"fill-rule:nonzero;fill:rgb(27.45098%,50.588235%,70.196078%);fill-opacity:1;stroke-width:0.212598;stroke-linecap:butt;stroke-linejoin:round;stroke:rgb(100%,100%,100%);stroke-opacity:1;stroke-miterlimit:10;\" d=\"M 226.050781 372.996094 L 310.277344 372.996094 L 310.277344 365.648438 L 226.050781 365.648438 Z M 226.050781 372.996094 \"/>\n",
       "<path style=\"fill-rule:nonzero;fill:rgb(85.098039%,89.019608%,93.333333%);fill-opacity:1;stroke-width:0.212598;stroke-linecap:butt;stroke-linejoin:round;stroke:rgb(100%,100%,100%);stroke-opacity:1;stroke-miterlimit:10;\" d=\"M 226.050781 365.644531 L 310.277344 365.644531 L 310.277344 358.296875 L 226.050781 358.296875 Z M 226.050781 365.644531 \"/>\n",
       "<path style=\"fill-rule:nonzero;fill:rgb(91.372549%,93.333333%,96.078431%);fill-opacity:1;stroke-width:0.212598;stroke-linecap:butt;stroke-linejoin:round;stroke:rgb(100%,100%,100%);stroke-opacity:1;stroke-miterlimit:10;\" d=\"M 226.050781 358.296875 L 310.277344 358.296875 L 310.277344 350.949219 L 226.050781 350.949219 Z M 226.050781 358.296875 \"/>\n",
       "<path style=\"fill-rule:nonzero;fill:rgb(89.803922%,92.54902%,95.686275%);fill-opacity:1;stroke-width:0.212598;stroke-linecap:butt;stroke-linejoin:round;stroke:rgb(100%,100%,100%);stroke-opacity:1;stroke-miterlimit:10;\" d=\"M 141.824219 49.671875 L 226.050781 49.671875 L 226.050781 42.324219 L 141.824219 42.324219 Z M 141.824219 49.671875 \"/>\n",
       "<path style=\"fill-rule:nonzero;fill:rgb(95.294118%,96.470588%,98.039216%);fill-opacity:1;stroke-width:0.212598;stroke-linecap:butt;stroke-linejoin:round;stroke:rgb(100%,100%,100%);stroke-opacity:1;stroke-miterlimit:10;\" d=\"M 226.050781 299.511719 L 310.277344 299.511719 L 310.277344 292.164063 L 226.050781 292.164063 Z M 226.050781 299.511719 \"/>\n",
       "<path style=\"fill-rule:nonzero;fill:rgb(94.117647%,95.686275%,97.254902%);fill-opacity:1;stroke-width:0.212598;stroke-linecap:butt;stroke-linejoin:round;stroke:rgb(100%,100%,100%);stroke-opacity:1;stroke-miterlimit:10;\" d=\"M 226.050781 292.164063 L 310.277344 292.164063 L 310.277344 284.816406 L 226.050781 284.816406 Z M 226.050781 292.164063 \"/>\n",
       "<path style=\"fill-rule:nonzero;fill:rgb(68.235294%,76.470588%,86.27451%);fill-opacity:1;stroke-width:0.212598;stroke-linecap:butt;stroke-linejoin:round;stroke:rgb(100%,100%,100%);stroke-opacity:1;stroke-miterlimit:10;\" d=\"M 226.050781 277.46875 L 310.277344 277.46875 L 310.277344 270.121094 L 226.050781 270.121094 Z M 226.050781 277.46875 \"/>\n",
       "<path style=\"fill-rule:nonzero;fill:rgb(99.607843%,99.607843%,99.607843%);fill-opacity:1;stroke-width:0.212598;stroke-linecap:butt;stroke-linejoin:round;stroke:rgb(100%,100%,100%);stroke-opacity:1;stroke-miterlimit:10;\" d=\"M 226.050781 248.074219 L 310.277344 248.074219 L 310.277344 240.726563 L 226.050781 240.726563 Z M 226.050781 248.074219 \"/>\n",
       "</g>\n",
       "<g style=\"fill:rgb(49.803922%,49.803922%,49.803922%);fill-opacity:1;\">\n",
       "  <use xlink:href=\"#glyph0-0\" x=\"28.328125\" y=\"453.585938\"/>\n",
       "</g>\n",
       "<g style=\"fill:rgb(49.803922%,49.803922%,49.803922%);fill-opacity:1;\">\n",
       "  <use xlink:href=\"#glyph0-1\" x=\"22.988281\" y=\"306.621094\"/>\n",
       "  <use xlink:href=\"#glyph0-0\" x=\"28.327344\" y=\"306.621094\"/>\n",
       "</g>\n",
       "<g style=\"fill:rgb(49.803922%,49.803922%,49.803922%);fill-opacity:1;\">\n",
       "  <use xlink:href=\"#glyph0-2\" x=\"22.988281\" y=\"159.65625\"/>\n",
       "  <use xlink:href=\"#glyph0-0\" x=\"28.327344\" y=\"159.65625\"/>\n",
       "</g>\n",
       "<path style=\"fill:none;stroke-width:1.062992;stroke-linecap:butt;stroke-linejoin:round;stroke:rgb(49.803922%,49.803922%,49.803922%);stroke-opacity:1;stroke-miterlimit:10;\" d=\"M 36.503906 450.152344 L 40.753906 450.152344 \"/>\n",
       "<path style=\"fill:none;stroke-width:1.062992;stroke-linecap:butt;stroke-linejoin:round;stroke:rgb(49.803922%,49.803922%,49.803922%);stroke-opacity:1;stroke-miterlimit:10;\" d=\"M 36.503906 303.1875 L 40.753906 303.1875 \"/>\n",
       "<path style=\"fill:none;stroke-width:1.062992;stroke-linecap:butt;stroke-linejoin:round;stroke:rgb(49.803922%,49.803922%,49.803922%);stroke-opacity:1;stroke-miterlimit:10;\" d=\"M 36.503906 156.222656 L 40.753906 156.222656 \"/>\n",
       "<path style=\"fill:none;stroke-width:1.062992;stroke-linecap:butt;stroke-linejoin:round;stroke:rgb(49.803922%,49.803922%,49.803922%);stroke-opacity:1;stroke-miterlimit:10;\" d=\"M 99.710938 471.304688 L 99.710938 467.050781 \"/>\n",
       "<path style=\"fill:none;stroke-width:1.062992;stroke-linecap:butt;stroke-linejoin:round;stroke:rgb(49.803922%,49.803922%,49.803922%);stroke-opacity:1;stroke-miterlimit:10;\" d=\"M 183.9375 471.304688 L 183.9375 467.050781 \"/>\n",
       "<path style=\"fill:none;stroke-width:1.062992;stroke-linecap:butt;stroke-linejoin:round;stroke:rgb(49.803922%,49.803922%,49.803922%);stroke-opacity:1;stroke-miterlimit:10;\" d=\"M 268.164063 471.304688 L 268.164063 467.050781 \"/>\n",
       "<path style=\"fill:none;stroke-width:1.062992;stroke-linecap:butt;stroke-linejoin:round;stroke:rgb(49.803922%,49.803922%,49.803922%);stroke-opacity:1;stroke-miterlimit:10;\" d=\"M 352.390625 471.304688 L 352.390625 467.050781 \"/>\n",
       "<g style=\"fill:rgb(49.803922%,49.803922%,49.803922%);fill-opacity:1;\">\n",
       "  <use xlink:href=\"#glyph0-3\" x=\"97.042969\" y=\"481.011719\"/>\n",
       "</g>\n",
       "<g style=\"fill:rgb(49.803922%,49.803922%,49.803922%);fill-opacity:1;\">\n",
       "  <use xlink:href=\"#glyph0-1\" x=\"181.269531\" y=\"481.011719\"/>\n",
       "</g>\n",
       "<g style=\"fill:rgb(49.803922%,49.803922%,49.803922%);fill-opacity:1;\">\n",
       "  <use xlink:href=\"#glyph0-4\" x=\"265.496094\" y=\"481.011719\"/>\n",
       "</g>\n",
       "<g style=\"fill:rgb(49.803922%,49.803922%,49.803922%);fill-opacity:1;\">\n",
       "  <use xlink:href=\"#glyph0-2\" x=\"349.722656\" y=\"481.011719\"/>\n",
       "</g>\n",
       "<g style=\"fill:rgb(0%,0%,0%);fill-opacity:1;\">\n",
       "  <use xlink:href=\"#glyph1-0\" x=\"206.714844\" y=\"493.199219\"/>\n",
       "  <use xlink:href=\"#glyph1-1\" x=\"214.71875\" y=\"493.199219\"/>\n",
       "  <use xlink:href=\"#glyph1-2\" x=\"222.048828\" y=\"493.199219\"/>\n",
       "  <use xlink:href=\"#glyph1-1\" x=\"230.052734\" y=\"493.199219\"/>\n",
       "  <use xlink:href=\"#glyph1-3\" x=\"237.382813\" y=\"493.199219\"/>\n",
       "</g>\n",
       "<g style=\"fill:rgb(0%,0%,0%);fill-opacity:1;\">\n",
       "  <use xlink:href=\"#glyph2-0\" x=\"19.390625\" y=\"253.0625\"/>\n",
       "  <use xlink:href=\"#glyph2-1\" x=\"19.390625\" y=\"245.058594\"/>\n",
       "  <use xlink:href=\"#glyph2-2\" x=\"19.390625\" y=\"236.392578\"/>\n",
       "</g>\n",
       "<path style=\" stroke:none;fill-rule:nonzero;fill:rgb(100%,100%,100%);fill-opacity:1;\" d=\"M 421.382813 293.929688 L 479.566406 293.929688 L 479.566406 187.527344 L 421.382813 187.527344 Z M 421.382813 293.929688 \"/>\n",
       "<g clip-path=\"url(#clip2)\" clip-rule=\"nonzero\">\n",
       "<rect x=\"0\" y=\"0\" width=\"504\" height=\"504\" style=\"fill:url(#pattern0);stroke:none;\"/>\n",
       "</g>\n",
       "<g style=\"fill:rgb(0%,0%,0%);fill-opacity:1;\">\n",
       "  <use xlink:href=\"#glyph0-1\" x=\"447.234375\" y=\"280.246094\"/>\n",
       "  <use xlink:href=\"#glyph0-5\" x=\"452.573438\" y=\"280.246094\"/>\n",
       "  <use xlink:href=\"#glyph0-6\" x=\"457.9125\" y=\"280.246094\"/>\n",
       "  <use xlink:href=\"#glyph0-0\" x=\"463.51875\" y=\"280.246094\"/>\n",
       "  <use xlink:href=\"#glyph0-7\" x=\"468.857813\" y=\"280.246094\"/>\n",
       "</g>\n",
       "<g style=\"fill:rgb(0%,0%,0%);fill-opacity:1;\">\n",
       "  <use xlink:href=\"#glyph0-4\" x=\"447.234375\" y=\"262.402344\"/>\n",
       "  <use xlink:href=\"#glyph0-5\" x=\"452.573438\" y=\"262.402344\"/>\n",
       "  <use xlink:href=\"#glyph0-6\" x=\"457.9125\" y=\"262.402344\"/>\n",
       "  <use xlink:href=\"#glyph0-0\" x=\"463.51875\" y=\"262.402344\"/>\n",
       "  <use xlink:href=\"#glyph0-7\" x=\"468.857813\" y=\"262.402344\"/>\n",
       "</g>\n",
       "<g style=\"fill:rgb(0%,0%,0%);fill-opacity:1;\">\n",
       "  <use xlink:href=\"#glyph0-2\" x=\"447.234375\" y=\"244.558594\"/>\n",
       "  <use xlink:href=\"#glyph0-5\" x=\"452.573438\" y=\"244.558594\"/>\n",
       "  <use xlink:href=\"#glyph0-6\" x=\"457.9125\" y=\"244.558594\"/>\n",
       "  <use xlink:href=\"#glyph0-0\" x=\"463.51875\" y=\"244.558594\"/>\n",
       "  <use xlink:href=\"#glyph0-7\" x=\"468.857813\" y=\"244.558594\"/>\n",
       "</g>\n",
       "<g style=\"fill:rgb(0%,0%,0%);fill-opacity:1;\">\n",
       "  <use xlink:href=\"#glyph0-7\" x=\"447.234375\" y=\"226.714844\"/>\n",
       "  <use xlink:href=\"#glyph0-5\" x=\"452.573438\" y=\"226.714844\"/>\n",
       "  <use xlink:href=\"#glyph0-6\" x=\"457.9125\" y=\"226.714844\"/>\n",
       "  <use xlink:href=\"#glyph0-0\" x=\"463.51875\" y=\"226.714844\"/>\n",
       "  <use xlink:href=\"#glyph0-7\" x=\"468.857813\" y=\"226.714844\"/>\n",
       "</g>\n",
       "<g style=\"fill:rgb(0%,0%,0%);fill-opacity:1;\">\n",
       "  <use xlink:href=\"#glyph0-8\" x=\"447.234375\" y=\"208.871094\"/>\n",
       "  <use xlink:href=\"#glyph0-5\" x=\"452.573438\" y=\"208.871094\"/>\n",
       "  <use xlink:href=\"#glyph0-6\" x=\"457.9125\" y=\"208.871094\"/>\n",
       "  <use xlink:href=\"#glyph0-0\" x=\"463.51875\" y=\"208.871094\"/>\n",
       "  <use xlink:href=\"#glyph0-7\" x=\"468.857813\" y=\"208.871094\"/>\n",
       "</g>\n",
       "<g style=\"fill:rgb(0%,0%,0%);fill-opacity:1;\">\n",
       "  <use xlink:href=\"#glyph3-0\" x=\"425.632813\" y=\"198.800781\"/>\n",
       "  <use xlink:href=\"#glyph3-1\" x=\"432.565625\" y=\"198.800781\"/>\n",
       "  <use xlink:href=\"#glyph3-2\" x=\"437.904688\" y=\"198.800781\"/>\n",
       "  <use xlink:href=\"#glyph3-3\" x=\"443.76875\" y=\"198.800781\"/>\n",
       "  <use xlink:href=\"#glyph3-4\" x=\"450.171875\" y=\"198.800781\"/>\n",
       "  <use xlink:href=\"#glyph3-5\" x=\"453.907812\" y=\"198.800781\"/>\n",
       "  <use xlink:href=\"#glyph3-6\" x=\"456.575\" y=\"198.800781\"/>\n",
       "  <use xlink:href=\"#glyph3-7\" x=\"461.914063\" y=\"198.800781\"/>\n",
       "</g>\n",
       "<path style=\"fill:none;stroke-width:0.375;stroke-linecap:butt;stroke-linejoin:round;stroke:rgb(100%,100%,100%);stroke-opacity:1;stroke-miterlimit:10;\" d=\"M 425.632813 276.808594 L 429.089844 276.808594 \"/>\n",
       "<path style=\"fill:none;stroke-width:0.375;stroke-linecap:butt;stroke-linejoin:round;stroke:rgb(100%,100%,100%);stroke-opacity:1;stroke-miterlimit:10;\" d=\"M 425.632813 258.964844 L 429.089844 258.964844 \"/>\n",
       "<path style=\"fill:none;stroke-width:0.375;stroke-linecap:butt;stroke-linejoin:round;stroke:rgb(100%,100%,100%);stroke-opacity:1;stroke-miterlimit:10;\" d=\"M 425.632813 241.121094 L 429.089844 241.121094 \"/>\n",
       "<path style=\"fill:none;stroke-width:0.375;stroke-linecap:butt;stroke-linejoin:round;stroke:rgb(100%,100%,100%);stroke-opacity:1;stroke-miterlimit:10;\" d=\"M 425.632813 223.28125 L 429.089844 223.28125 \"/>\n",
       "<path style=\"fill:none;stroke-width:0.375;stroke-linecap:butt;stroke-linejoin:round;stroke:rgb(100%,100%,100%);stroke-opacity:1;stroke-miterlimit:10;\" d=\"M 425.632813 205.4375 L 429.089844 205.4375 \"/>\n",
       "<path style=\"fill:none;stroke-width:0.375;stroke-linecap:butt;stroke-linejoin:round;stroke:rgb(100%,100%,100%);stroke-opacity:1;stroke-miterlimit:10;\" d=\"M 439.457031 276.808594 L 442.914063 276.808594 \"/>\n",
       "<path style=\"fill:none;stroke-width:0.375;stroke-linecap:butt;stroke-linejoin:round;stroke:rgb(100%,100%,100%);stroke-opacity:1;stroke-miterlimit:10;\" d=\"M 439.457031 258.964844 L 442.914063 258.964844 \"/>\n",
       "<path style=\"fill:none;stroke-width:0.375;stroke-linecap:butt;stroke-linejoin:round;stroke:rgb(100%,100%,100%);stroke-opacity:1;stroke-miterlimit:10;\" d=\"M 439.457031 241.121094 L 442.914063 241.121094 \"/>\n",
       "<path style=\"fill:none;stroke-width:0.375;stroke-linecap:butt;stroke-linejoin:round;stroke:rgb(100%,100%,100%);stroke-opacity:1;stroke-miterlimit:10;\" d=\"M 439.457031 223.28125 L 442.914063 223.28125 \"/>\n",
       "<path style=\"fill:none;stroke-width:0.375;stroke-linecap:butt;stroke-linejoin:round;stroke:rgb(100%,100%,100%);stroke-opacity:1;stroke-miterlimit:10;\" d=\"M 439.457031 205.4375 L 442.914063 205.4375 \"/>\n",
       "</g>\n",
       "</svg>\n"
      ],
      "text/plain": [
       "plot without title"
      ]
     },
     "metadata": {
      "image/svg+xml": {
       "isolated": true
      }
     },
     "output_type": "display_data"
    }
   ],
   "source": [
    "aggDF %>%  \n",
    "  ggplot(aes(STATE, SUB, fill = AvgPrice)) +\n",
    "  geom_tile(colour = \"white\") +\n",
    "  scale_fill_gradient(low = \"white\", high = \"steelblue\")"
   ]
  },
  {
   "cell_type": "code",
   "execution_count": null,
   "metadata": {
    "collapsed": true
   },
   "outputs": [],
   "source": [
    "sparkR.stop()"
   ]
  }
 ],
 "metadata": {
  "kernelspec": {
   "display_name": "R",
   "language": "R",
   "name": "ir"
  },
  "language_info": {
   "codemirror_mode": "r",
   "file_extension": ".r",
   "mimetype": "text/x-r-source",
   "name": "R",
   "pygments_lexer": "r",
   "version": "3.2.0"
  }
 },
 "nbformat": 4,
 "nbformat_minor": 0
}

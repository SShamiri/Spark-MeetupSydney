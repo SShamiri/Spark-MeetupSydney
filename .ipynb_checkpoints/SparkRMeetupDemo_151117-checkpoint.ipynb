{
 "cells": [
  {
   "cell_type": "markdown",
   "metadata": {},
   "source": [
    "#Data Wrangling/Machine learning with SparkR\n",
    "\n",
    "SparkR allows data scientists to do seamless manipulation and analysis of very large data in R, through exposing existing Spark functionality in an R friendly syntax via the DataFrame API. Without learning a new programming paradigm when working with Spark. with this idea in mind, we will use SparkR to do some data wrangling -dplyr style - and build a linear model. If you would like to follow, download the [2013 American Community Survey (ACS)](http://www.census.gov/programs-surveys/acs/data/summary-file.html) dataset for housing. \n",
    " "
   ]
  },
  {
   "cell_type": "markdown",
   "metadata": {},
   "source": [
    "##loading libraries\n",
    "\n",
    "The package SparkRext was created to make SparkR closer to dplyr.\n"
   ]
  },
  {
   "cell_type": "code",
   "execution_count": 1,
   "metadata": {
    "collapsed": true
   },
   "outputs": [
    {
     "name": "stderr",
     "output_type": "stream",
     "text": [
      "Warning message:\n",
      ": package 'dplyr' was built under R version 3.2.2\n",
      "Attaching package: 'dplyr'\n",
      "\n",
      "The following objects are masked from 'package:stats':\n",
      "\n",
      "    filter, lag\n",
      "\n",
      "The following objects are masked from 'package:base':\n",
      "\n",
      "    intersect, setdiff, setequal, union\n",
      "\n",
      "Warning message:\n",
      ": package 'SparkR' was built under R version 3.2.1\n",
      "Attaching package: 'SparkR'\n",
      "\n",
      "The following objects are masked from 'package:dplyr':\n",
      "\n",
      "    arrange, between, collect, count, desc, distinct, explain, filter,\n",
      "    first, group_by, intersect, last, mutate, n, n_distinct, rename,\n",
      "    sample_frac, select, sql, summarize\n",
      "\n",
      "The following objects are masked from 'package:stats':\n",
      "\n",
      "    filter, na.omit\n",
      "\n",
      "The following objects are masked from 'package:base':\n",
      "\n",
      "    intersect, rbind, sample, subset, summary, table, transform\n",
      "\n",
      "\n",
      "Attaching package: 'SparkRext'\n",
      "\n",
      "The following objects are masked from 'package:SparkR':\n",
      "\n",
      "    arrange, filter, group_by, mutate, select, summarize\n",
      "\n",
      "The following objects are masked from 'package:dplyr':\n",
      "\n",
      "    %>%, arrange, filter, group_by, mutate, select, summarise,\n",
      "    summarize\n",
      "\n",
      "The following object is masked from 'package:stats':\n",
      "\n",
      "    filter\n",
      "\n"
     ]
    }
   ],
   "source": [
    "library(dplyr)\n",
    "library(\"SparkR\", lib.loc=\"C:\\\\spark-1.5.0\\\\R\\\\lib\") \n",
    "library(SparkRext)"
   ]
  },
  {
   "cell_type": "markdown",
   "metadata": {},
   "source": [
    "##Initialize Spark context\n",
    "\n",
    "The entry point into SparkR is to initialize a SparkContext through sparkR.init() which connects your R program to a Spark cluster. Note spark context once created is immutable.if you want to create a new spark context then you will have to remove or destroy the previous spark context."
   ]
  },
  {
   "cell_type": "code",
   "execution_count": 2,
   "metadata": {
    "collapsed": false
   },
   "outputs": [
    {
     "name": "stdout",
     "output_type": "stream",
     "text": [
      "Launching java with spark-submit command C:\\spark-1.5.0/bin/spark-submit.cmd   sparkr-shell C:\\Users\\Samuel\\AppData\\Local\\Temp\\RtmpE92Oyc\\backend_portcfc7967db9 \n"
     ]
    }
   ],
   "source": [
    "sc = sparkR.init(master=\"local[4]\",sparkHome =\"C:\\\\spark-1.5.0\",sparkEnvir=list(spark.executor.memory=\"2g\"))\n",
    " # where index 4 refers to number of CPU cores - the window to spark\n",
    "sqlContext = sparkRSQL.init(sc) # here I create  a SqlContext - the window to DataFrames"
   ]
  },
  {
   "cell_type": "markdown",
   "metadata": {},
   "source": [
    "##Connecting to SQL server\n",
    "\n",
    "The function loadDF/read.df by default create's a DataFrame."
   ]
  },
  {
   "cell_type": "code",
   "execution_count": 3,
   "metadata": {
    "collapsed": false
   },
   "outputs": [],
   "source": [
    "df =  loadDF(sqlContext,source=\"jdbc\", url=\"jdbc:sqlserver://SHAMIRI;databaseName=test;integratedSecurity=true;\",\n",
    "             dbtable=\"dbo.ss13husa\",\n",
    "             partitionColumn=\"ID\",\n",
    "             lowerBound = \"0\", \n",
    "             upperBound = \"155\", \n",
    "             numPartitions = \"15\")  # lazy (no print out)\n"
   ]
  },
  {
   "cell_type": "code",
   "execution_count": 4,
   "metadata": {
    "collapsed": true
   },
   "outputs": [],
   "source": [
    "tmp = read.df(sqlContext,\"C:/Users/Samuel/Spark training/ss13husa.json\", source = \"json\") # DataFrame from json"
   ]
  },
  {
   "cell_type": "code",
   "execution_count": 5,
   "metadata": {
    "collapsed": false
   },
   "outputs": [
    {
     "data": {
      "text/html": [
       "<table>\n",
       "<thead><tr><th></th><th scope=col>BEDS</th><th scope=col>ELEP</th><th scope=col>GASP</th><th scope=col>ID</th><th scope=col>INSP</th><th scope=col>PRICE</th><th scope=col>SIZE</th><th scope=col>STATE</th><th scope=col>SUB</th><th scope=col>TAXP</th></tr></thead>\n",
       "<tbody>\n",
       "\t<tr><th scope=row>1</th><td>NA</td><td>NA</td><td>NA</td><td>84</td><td>NA</td><td>NA</td><td>NA</td><td>3</td><td>1</td><td>NA</td></tr>\n",
       "\t<tr><th scope=row>2</th><td>9</td><td>350</td><td>3</td><td>154</td><td>350</td><td>25000</td><td>1</td><td>3</td><td>1</td><td>3</td></tr>\n",
       "\t<tr><th scope=row>3</th><td>6</td><td>300</td><td>3</td><td>156</td><td>980</td><td>80000</td><td>1</td><td>3</td><td>1</td><td>6</td></tr>\n",
       "\t<tr><th scope=row>4</th><td>6</td><td>220</td><td>20</td><td>160</td><td>NA</td><td>NA</td><td>3</td><td>3</td><td>1</td><td>NA</td></tr>\n",
       "\t<tr><th scope=row>5</th><td>3</td><td>60</td><td>3</td><td>231</td><td>NA</td><td>NA</td><td>NA</td><td>3</td><td>1</td><td>NA</td></tr>\n",
       "\t<tr><th scope=row>6</th><td>9</td><td>100</td><td>90</td><td>286</td><td>50</td><td>18000</td><td>1</td><td>3</td><td>1</td><td>3</td></tr>\n",
       "</tbody>\n",
       "</table>\n"
      ],
      "text/latex": [
       "\\begin{tabular}{r|llllllllll}\n",
       "  & BEDS & ELEP & GASP & ID & INSP & PRICE & SIZE & STATE & SUB & TAXP\\\\\n",
       "\\hline\n",
       "\t1 & NA & NA & NA & 84 & NA & NA & NA & 3 & 1 & NA\\\\\n",
       "\t2 & 9 & 350 & 3 & 154 & 350 & 25000 & 1 & 3 & 1 & 3\\\\\n",
       "\t3 & 6 & 300 & 3 & 156 & 980 & 80000 & 1 & 3 & 1 & 6\\\\\n",
       "\t4 & 6 & 220 & 20 & 160 & NA & NA & 3 & 3 & 1 & NA\\\\\n",
       "\t5 & 3 & 60 & 3 & 231 & NA & NA & NA & 3 & 1 & NA\\\\\n",
       "\t6 & 9 & 100 & 90 & 286 & 50 & 18000 & 1 & 3 & 1 & 3\\\\\n",
       "\\end{tabular}\n"
      ],
      "text/plain": [
       "  BEDS ELEP GASP  ID INSP PRICE SIZE STATE SUB TAXP\n",
       "1   NA   NA   NA  84   NA    NA   NA     3   1   NA\n",
       "2    9  350    3 154  350 25000    1     3   1    3\n",
       "3    6  300    3 156  980 80000    1     3   1    6\n",
       "4    6  220   20 160   NA    NA    3     3   1   NA\n",
       "5    3   60    3 231   NA    NA   NA     3   1   NA\n",
       "6    9  100   90 286   50 18000    1     3   1    3"
      ]
     },
     "execution_count": 5,
     "metadata": {},
     "output_type": "execute_result"
    }
   ],
   "source": [
    "tmp %>% head"
   ]
  },
  {
   "cell_type": "code",
   "execution_count": 6,
   "metadata": {
    "collapsed": false
   },
   "outputs": [
    {
     "data": {
      "text/html": [
       "1e+05"
      ],
      "text/latex": [
       "1e+05"
      ],
      "text/markdown": [
       "1e+05"
      ],
      "text/plain": [
       "[1] 1e+05"
      ]
     },
     "execution_count": 6,
     "metadata": {},
     "output_type": "execute_result"
    }
   ],
   "source": [
    "tmp = tmp %>%repartition(10) %>%cache # change the number of partition\n",
    "#tmp %>% nrow"
   ]
  },
  {
   "cell_type": "code",
   "execution_count": 9,
   "metadata": {
    "collapsed": false
   },
   "outputs": [
    {
     "data": {
      "text/html": [
       "756065"
      ],
      "text/latex": [
       "756065"
      ],
      "text/markdown": [
       "756065"
      ],
      "text/plain": [
       "[1] 756065"
      ]
     },
     "execution_count": 9,
     "metadata": {},
     "output_type": "execute_result"
    }
   ],
   "source": [
    "df %>% nrow"
   ]
  },
  {
   "cell_type": "code",
   "execution_count": 4,
   "metadata": {
    "collapsed": false
   },
   "outputs": [
    {
     "data": {
      "text/html": [
       "720248"
      ],
      "text/latex": [
       "720248"
      ],
      "text/markdown": [
       "720248"
      ],
      "text/plain": [
       "[1] 720248"
      ]
     },
     "execution_count": 4,
     "metadata": {},
     "output_type": "execute_result"
    }
   ],
   "source": [
    "df2 =  loadDF(sqlContext,source=\"jdbc\", url=\"jdbc:sqlserver://SHAMIRI;databaseName=test;integratedSecurity=true;\",\n",
    "             dbtable=\"dbo.ss13husb\",\n",
    "             partitionColumn=\"ID\",\n",
    "             lowerBound = \"0\", \n",
    "             upperBound = \"55\", \n",
    "             numPartitions = \"5\")\n",
    "df2 %>% nrow"
   ]
  },
  {
   "cell_type": "code",
   "execution_count": 7,
   "metadata": {
    "collapsed": false
   },
   "outputs": [],
   "source": [
    "tmp = collect(df) ## convert into R data.frame"
   ]
  },
  {
   "cell_type": "code",
   "execution_count": 6,
   "metadata": {
    "collapsed": false
   },
   "outputs": [
    {
     "data": {
      "text/html": [
       "\"data.frame\""
      ],
      "text/latex": [
       "\"data.frame\""
      ],
      "text/markdown": [
       "\"data.frame\""
      ],
      "text/plain": [
       "[1] \"data.frame\""
      ]
     },
     "execution_count": 6,
     "metadata": {},
     "output_type": "execute_result"
    }
   ],
   "source": [
    "class(tmp)"
   ]
  },
  {
   "cell_type": "code",
   "execution_count": 8,
   "metadata": {
    "collapsed": false
   },
   "outputs": [
    {
     "data": {
      "text/plain": [
       "30244344 bytes"
      ]
     },
     "execution_count": 8,
     "metadata": {},
     "output_type": "execute_result"
    }
   ],
   "source": [
    "object.size(tmp)"
   ]
  },
  {
   "cell_type": "markdown",
   "metadata": {},
   "source": [
    "## DataFrame operations"
   ]
  },
  {
   "cell_type": "code",
   "execution_count": 13,
   "metadata": {
    "collapsed": false
   },
   "outputs": [
    {
     "name": "stdout",
     "output_type": "stream",
     "text": [
      "root\n",
      " |-- ID: integer (nullable = true)\n",
      " |-- PRICE: integer (nullable = true)\n",
      " |-- BEDS: integer (nullable = true)\n",
      " |-- SIZE: integer (nullable = true)\n",
      " |-- INSP: integer (nullable = true)\n",
      " |-- TAXP: integer (nullable = true)\n",
      " |-- ELEP: integer (nullable = true)\n",
      " |-- GASP: integer (nullable = true)\n",
      " |-- SUB: integer (nullable = true)\n",
      " |-- STATE: integer (nullable = true)\n"
     ]
    }
   ],
   "source": [
    "dat = rbind(df, df2) # bind rows\n",
    "printSchema(dat)"
   ]
  },
  {
   "cell_type": "code",
   "execution_count": 12,
   "metadata": {
    "collapsed": false
   },
   "outputs": [
    {
     "data": {
      "text/html": [
       "1476313"
      ],
      "text/latex": [
       "1476313"
      ],
      "text/markdown": [
       "1476313"
      ],
      "text/plain": [
       "[1] 1476313"
      ]
     },
     "execution_count": 12,
     "metadata": {},
     "output_type": "execute_result"
    }
   ],
   "source": [
    "dat %>% nrow"
   ]
  },
  {
   "cell_type": "code",
   "execution_count": 8,
   "metadata": {
    "collapsed": true
   },
   "outputs": [
    {
     "data": {
      "text/html": [
       "<table>\n",
       "<thead><tr><th></th><th scope=col>ID</th><th scope=col>PRICE</th><th scope=col>BEDS</th><th scope=col>SIZE</th><th scope=col>INSP</th><th scope=col>TAXP</th><th scope=col>ELEP</th><th scope=col>GASP</th><th scope=col>SUB</th><th scope=col>STATE</th></tr></thead>\n",
       "<tbody>\n",
       "\t<tr><th scope=row>1</th><td>5</td><td>90000</td><td>6</td><td>1</td><td>500</td><td>12</td><td>70</td><td>50</td><td>8</td><td>4</td></tr>\n",
       "\t<tr><th scope=row>2</th><td>2</td><td>260000</td><td>7</td><td>2</td><td>1500</td><td>42</td><td>250</td><td>3</td><td>10</td><td>3</td></tr>\n",
       "\t<tr><th scope=row>3</th><td>7</td><td>NA</td><td>4</td><td>NA</td><td>NA</td><td>NA</td><td>1</td><td>3</td><td>11</td><td>3</td></tr>\n",
       "\t<tr><th scope=row>4</th><td>1</td><td>180000</td><td>5</td><td>1</td><td>900</td><td>29</td><td>150</td><td>3</td><td>12</td><td>3</td></tr>\n",
       "\t<tr><th scope=row>5</th><td>4</td><td>130000</td><td>4</td><td>NA</td><td>990</td><td>25</td><td>50</td><td>3</td><td>12</td><td>3</td></tr>\n",
       "\t<tr><th scope=row>6</th><td>9</td><td>1571000</td><td>8</td><td>1</td><td>2500</td><td>66</td><td>110</td><td>160</td><td>19</td><td>2</td></tr>\n",
       "</tbody>\n",
       "</table>\n"
      ],
      "text/latex": [
       "\\begin{tabular}{r|llllllllll}\n",
       "  & ID & PRICE & BEDS & SIZE & INSP & TAXP & ELEP & GASP & SUB & STATE\\\\\n",
       "\\hline\n",
       "\t1 & 5 & 90000 & 6 & 1 & 500 & 12 & 70 & 50 & 8 & 4\\\\\n",
       "\t2 & 2 & 260000 & 7 & 2 & 1500 & 42 & 250 & 3 & 10 & 3\\\\\n",
       "\t3 & 7 & NA & 4 & NA & NA & NA & 1 & 3 & 11 & 3\\\\\n",
       "\t4 & 1 & 180000 & 5 & 1 & 900 & 29 & 150 & 3 & 12 & 3\\\\\n",
       "\t5 & 4 & 130000 & 4 & NA & 990 & 25 & 50 & 3 & 12 & 3\\\\\n",
       "\t6 & 9 & 1571000 & 8 & 1 & 2500 & 66 & 110 & 160 & 19 & 2\\\\\n",
       "\\end{tabular}\n"
      ],
      "text/plain": [
       "  ID   PRICE BEDS SIZE INSP TAXP ELEP GASP SUB STATE\n",
       "1  5   90000    6    1  500   12   70   50   8     4\n",
       "2  2  260000    7    2 1500   42  250    3  10     3\n",
       "3  7      NA    4   NA   NA   NA    1    3  11     3\n",
       "4  1  180000    5    1  900   29  150    3  12     3\n",
       "5  4  130000    4   NA  990   25   50    3  12     3\n",
       "6  9 1571000    8    1 2500   66  110  160  19     2"
      ]
     },
     "execution_count": 8,
     "metadata": {},
     "output_type": "execute_result"
    }
   ],
   "source": [
    "dat %>% head"
   ]
  },
  {
   "cell_type": "code",
   "execution_count": 15,
   "metadata": {
    "collapsed": false
   },
   "outputs": [
    {
     "data": {
      "text/html": [
       "807202"
      ],
      "text/latex": [
       "807202"
      ],
      "text/markdown": [
       "807202"
      ],
      "text/plain": [
       "[1] 807202"
      ]
     },
     "execution_count": 15,
     "metadata": {},
     "output_type": "execute_result"
    }
   ],
   "source": [
    "dat = dropna(dat)  # Remove na's\n",
    "dat = dat %>% cache \n",
    "dat %>% nrow"
   ]
  },
  {
   "cell_type": "markdown",
   "metadata": {},
   "source": [
    "### select( ), group_by( ) and summarize( )\n",
    "\n",
    "use the : colon to select multiple contiguous columns, and use contains to match columns by name or use starts_with, ends_with, and matches (for regular expressions) can also be used to match columns by name"
   ]
  },
  {
   "cell_type": "code",
   "execution_count": 16,
   "metadata": {
    "collapsed": false
   },
   "outputs": [
    {
     "data": {
      "text/html": [
       "<table>\n",
       "<thead><tr><th></th><th scope=col>BEDS</th><th scope=col>AvgPrice</th><th scope=col>AvgElec</th><th scope=col>MaxTax</th><th scope=col>MinGas</th></tr></thead>\n",
       "<tbody>\n",
       "\t<tr><th scope=row>1</th><td>1</td><td>171098.9</td><td>124.2177</td><td>68</td><td>1</td></tr>\n",
       "\t<tr><th scope=row>2</th><td>2</td><td>146279.7</td><td>97.66547</td><td>68</td><td>1</td></tr>\n",
       "\t<tr><th scope=row>3</th><td>3</td><td>136767.1</td><td>114.0797</td><td>68</td><td>1</td></tr>\n",
       "\t<tr><th scope=row>4</th><td>4</td><td>145628.9</td><td>121.6535</td><td>68</td><td>1</td></tr>\n",
       "\t<tr><th scope=row>5</th><td>5</td><td>164915</td><td>132.4505</td><td>68</td><td>1</td></tr>\n",
       "\t<tr><th scope=row>6</th><td>6</td><td>198346.6</td><td>142.0432</td><td>68</td><td>1</td></tr>\n",
       "</tbody>\n",
       "</table>\n"
      ],
      "text/latex": [
       "\\begin{tabular}{r|lllll}\n",
       "  & BEDS & AvgPrice & AvgElec & MaxTax & MinGas\\\\\n",
       "\\hline\n",
       "\t1 & 1 & 171098.9 & 124.2177 & 68 & 1\\\\\n",
       "\t2 & 2 & 146279.7 & 97.66547 & 68 & 1\\\\\n",
       "\t3 & 3 & 136767.1 & 114.0797 & 68 & 1\\\\\n",
       "\t4 & 4 & 145628.9 & 121.6535 & 68 & 1\\\\\n",
       "\t5 & 5 & 164915 & 132.4505 & 68 & 1\\\\\n",
       "\t6 & 6 & 198346.6 & 142.0432 & 68 & 1\\\\\n",
       "\\end{tabular}\n"
      ],
      "text/plain": [
       "  BEDS AvgPrice   AvgElec MaxTax MinGas\n",
       "1    1 171098.9 124.21770     68      1\n",
       "2    2 146279.7  97.66547     68      1\n",
       "3    3 136767.1 114.07967     68      1\n",
       "4    4 145628.9 121.65352     68      1\n",
       "5    5 164915.0 132.45053     68      1\n",
       "6    6 198346.6 142.04318     68      1"
      ]
     },
     "execution_count": 16,
     "metadata": {},
     "output_type": "execute_result"
    }
   ],
   "source": [
    "dat %>% select(BEDS,contains('P')) %>%       \n",
    "        group_by(BEDS) %>% \n",
    "        summarize(AvgPrice = mean(PRICE),AvgElec = mean(ELEP),MaxTax=max(TAXP),MinGas=min(GASP)) %>%\n",
    "        head"
   ]
  },
  {
   "cell_type": "markdown",
   "metadata": {},
   "source": [
    "## Preparing a train / test data split"
   ]
  },
  {
   "cell_type": "code",
   "execution_count": 17,
   "metadata": {
    "collapsed": true
   },
   "outputs": [],
   "source": [
    "dat$SUB = cast(dat$SUB, \"string\") # convert to character"
   ]
  },
  {
   "cell_type": "code",
   "execution_count": 18,
   "metadata": {
    "collapsed": true
   },
   "outputs": [],
   "source": [
    "dat$STATE = cast(dat$STATE, \"string\")"
   ]
  },
  {
   "cell_type": "code",
   "execution_count": 19,
   "metadata": {
    "collapsed": false
   },
   "outputs": [
    {
     "data": {
      "text/html": [
       "80681"
      ],
      "text/latex": [
       "80681"
      ],
      "text/markdown": [
       "80681"
      ],
      "text/plain": [
       "[1] 80681"
      ]
     },
     "execution_count": 19,
     "metadata": {},
     "output_type": "execute_result"
    }
   ],
   "source": [
    "testDF = sample(dat,FALSE,0.1)\n",
    "testDF %>% nrow"
   ]
  },
  {
   "cell_type": "code",
   "execution_count": 20,
   "metadata": {
    "collapsed": true
   },
   "outputs": [],
   "source": [
    "testIDs = testDF %>% select(ID) %>% collect"
   ]
  },
  {
   "cell_type": "code",
   "execution_count": 21,
   "metadata": {
    "collapsed": false
   },
   "outputs": [
    {
     "data": {
      "text/html": [
       "<table>\n",
       "<thead><tr><th></th><th scope=col>ID</th><th scope=col>PRICE</th><th scope=col>BEDS</th><th scope=col>SIZE</th><th scope=col>INSP</th><th scope=col>TAXP</th><th scope=col>ELEP</th><th scope=col>GASP</th><th scope=col>SUB</th><th scope=col>STATE</th><th scope=col>IS_TEST</th></tr></thead>\n",
       "<tbody>\n",
       "\t<tr><th scope=row>1</th><td>5</td><td>90000</td><td>6</td><td>1</td><td>500</td><td>12</td><td>70</td><td>50</td><td>8</td><td>4</td><td>FALSE</td></tr>\n",
       "\t<tr><th scope=row>2</th><td>2</td><td>260000</td><td>7</td><td>2</td><td>1500</td><td>42</td><td>250</td><td>3</td><td>10</td><td>3</td><td>FALSE</td></tr>\n",
       "\t<tr><th scope=row>3</th><td>1</td><td>180000</td><td>5</td><td>1</td><td>900</td><td>29</td><td>150</td><td>3</td><td>12</td><td>3</td><td>FALSE</td></tr>\n",
       "\t<tr><th scope=row>4</th><td>9</td><td>1571000</td><td>8</td><td>1</td><td>2500</td><td>66</td><td>110</td><td>160</td><td>19</td><td>2</td><td>FALSE</td></tr>\n",
       "\t<tr><th scope=row>5</th><td>3</td><td>10000</td><td>5</td><td>1</td><td>0</td><td>1</td><td>140</td><td>3</td><td>22</td><td>3</td><td>FALSE</td></tr>\n",
       "\t<tr><th scope=row>6</th><td>8</td><td>300000</td><td>1</td><td>2</td><td>0</td><td>48</td><td>170</td><td>20</td><td>28</td><td>3</td><td>FALSE</td></tr>\n",
       "</tbody>\n",
       "</table>\n"
      ],
      "text/latex": [
       "\\begin{tabular}{r|lllllllllll}\n",
       "  & ID & PRICE & BEDS & SIZE & INSP & TAXP & ELEP & GASP & SUB & STATE & IS_TEST\\\\\n",
       "\\hline\n",
       "\t1 & 5 & 90000 & 6 & 1 & 500 & 12 & 70 & 50 & 8 & 4 & FALSE\\\\\n",
       "\t2 & 2 & 260000 & 7 & 2 & 1500 & 42 & 250 & 3 & 10 & 3 & FALSE\\\\\n",
       "\t3 & 1 & 180000 & 5 & 1 & 900 & 29 & 150 & 3 & 12 & 3 & FALSE\\\\\n",
       "\t4 & 9 & 1571000 & 8 & 1 & 2500 & 66 & 110 & 160 & 19 & 2 & FALSE\\\\\n",
       "\t5 & 3 & 10000 & 5 & 1 & 0 & 1 & 140 & 3 & 22 & 3 & FALSE\\\\\n",
       "\t6 & 8 & 300000 & 1 & 2 & 0 & 48 & 170 & 20 & 28 & 3 & FALSE\\\\\n",
       "\\end{tabular}\n"
      ],
      "text/plain": [
       "  ID   PRICE BEDS SIZE INSP TAXP ELEP GASP SUB STATE IS_TEST\n",
       "1  5   90000    6    1  500   12   70   50   8     4   FALSE\n",
       "2  2  260000    7    2 1500   42  250    3  10     3   FALSE\n",
       "3  1  180000    5    1  900   29  150    3  12     3   FALSE\n",
       "4  9 1571000    8    1 2500   66  110  160  19     2   FALSE\n",
       "5  3   10000    5    1    0    1  140    3  22     3   FALSE\n",
       "6  8  300000    1    2    0   48  170   20  28     3   FALSE"
      ]
     },
     "execution_count": 21,
     "metadata": {},
     "output_type": "execute_result"
    }
   ],
   "source": [
    "dat = dat %>% mutate(IS_TEST = ID %in% testIDs$ID)\n",
    "dat %>% head"
   ]
  },
  {
   "cell_type": "code",
   "execution_count": 24,
   "metadata": {
    "collapsed": false
   },
   "outputs": [
    {
     "data": {
      "text/html": [
       "726521"
      ],
      "text/latex": [
       "726521"
      ],
      "text/markdown": [
       "726521"
      ],
      "text/plain": [
       "[1] 726521"
      ]
     },
     "execution_count": 24,
     "metadata": {},
     "output_type": "execute_result"
    }
   ],
   "source": [
    "trainDF = dat %>% filter(IS_TEST==FALSE) %>% cache\n",
    "trainDF %>% nrow"
   ]
  },
  {
   "cell_type": "code",
   "execution_count": 25,
   "metadata": {
    "collapsed": false
   },
   "outputs": [],
   "source": [
    "model = glm(\n",
    "    PRICE ~ BEDS + SIZE + INSP + TAXP + ELEP + GASP + SUB + STATE, \n",
    "    data = trainDF, \n",
    "    family = \"gaussian\")"
   ]
  },
  {
   "cell_type": "code",
   "execution_count": 26,
   "metadata": {
    "collapsed": false
   },
   "outputs": [
    {
     "data": {
      "text/html": [
       "<strong>$coefficients</strong> = <table>\n",
       "<thead><tr><th></th><th scope=col>Estimate</th></tr></thead>\n",
       "<tbody>\n",
       "\t<tr><th scope=row>(Intercept)</th><td>-71510.14</td></tr>\n",
       "\t<tr><th scope=row>BEDS</th><td>14442.1</td></tr>\n",
       "\t<tr><th scope=row>SIZE</th><td>30960.03</td></tr>\n",
       "\t<tr><th scope=row>INSP</th><td>99.67428</td></tr>\n",
       "\t<tr><th scope=row>TAXP</th><td>5622.96</td></tr>\n",
       "\t<tr><th scope=row>ELEP</th><td>191.8176</td></tr>\n",
       "\t<tr><th scope=row>GASP</th><td>234.1995</td></tr>\n",
       "\t<tr><th scope=row>SUB__6</th><td>82287.52</td></tr>\n",
       "\t<tr><th scope=row>SUB__48</th><td>-433572.7</td></tr>\n",
       "\t<tr><th scope=row>SUB__12</th><td>-383157.5</td></tr>\n",
       "\t<tr><th scope=row>SUB__36</th><td>-167946.8</td></tr>\n",
       "\t<tr><th scope=row>SUB__42</th><td>-191491.3</td></tr>\n",
       "\t<tr><th scope=row>SUB__39</th><td>-94893.01</td></tr>\n",
       "\t<tr><th scope=row>SUB__17</th><td>-106105.2</td></tr>\n",
       "\t<tr><th scope=row>SUB__26</th><td>-96563.38</td></tr>\n",
       "\t<tr><th scope=row>SUB__37</th><td>-342834.7</td></tr>\n",
       "\t<tr><th scope=row>SUB__13</th><td>-372443</td></tr>\n",
       "\t<tr><th scope=row>SUB__51</th><td>-283645.8</td></tr>\n",
       "\t<tr><th scope=row>SUB__34</th><td>-179981.6</td></tr>\n",
       "\t<tr><th scope=row>SUB__18</th><td>-43098.8</td></tr>\n",
       "\t<tr><th scope=row>SUB__47</th><td>-349673.1</td></tr>\n",
       "\t<tr><th scope=row>SUB__53</th><td>-83461.47</td></tr>\n",
       "\t<tr><th scope=row>SUB__29</th><td>-68631.86</td></tr>\n",
       "\t<tr><th scope=row>SUB__55</th><td>-105940.9</td></tr>\n",
       "\t<tr><th scope=row>SUB__27</th><td>-80377.11</td></tr>\n",
       "\t<tr><th scope=row>SUB__4</th><td>-66431.65</td></tr>\n",
       "\t<tr><th scope=row>SUB__24</th><td>-307763.7</td></tr>\n",
       "\t<tr><th scope=row>SUB__25</th><td>-99994.4</td></tr>\n",
       "\t<tr><th scope=row>SUB__1</th><td>-325451.6</td></tr>\n",
       "\t<tr><th scope=row>SUB__8</th><td>-63687.42</td></tr>\n",
       "\t<tr><th scope=row>SUB__45</th><td>-326778.5</td></tr>\n",
       "\t<tr><th scope=row>SUB__21</th><td>-359668.3</td></tr>\n",
       "\t<tr><th scope=row>SUB__22</th><td>-342239</td></tr>\n",
       "\t<tr><th scope=row>SUB__41</th><td>-100040.3</td></tr>\n",
       "\t<tr><th scope=row>SUB__40</th><td>-386061.4</td></tr>\n",
       "\t<tr><th scope=row>SUB__19</th><td>-84435.77</td></tr>\n",
       "\t<tr><th scope=row>SUB__9</th><td>-146865.5</td></tr>\n",
       "\t<tr><th scope=row>SUB__5</th><td>-348436.6</td></tr>\n",
       "\t<tr><th scope=row>SUB__20</th><td>-114821.4</td></tr>\n",
       "\t<tr><th scope=row>SUB__28</th><td>-365470.5</td></tr>\n",
       "\t<tr><th scope=row>SUB__49</th><td>-79555.59</td></tr>\n",
       "\t<tr><th scope=row>SUB__32</th><td>-91198.93</td></tr>\n",
       "\t<tr><th scope=row>SUB__54</th><td>-322694</td></tr>\n",
       "\t<tr><th scope=row>SUB__31</th><td>-126134.2</td></tr>\n",
       "\t<tr><th scope=row>SUB__35</th><td>-65052.92</td></tr>\n",
       "\t<tr><th scope=row>SUB__16</th><td>-96360.18</td></tr>\n",
       "\t<tr><th scope=row>SUB__23</th><td>-149969.1</td></tr>\n",
       "\t<tr><th scope=row>SUB__33</th><td>-219057.5</td></tr>\n",
       "\t<tr><th scope=row>SUB__30</th><td>-102956.5</td></tr>\n",
       "\t<tr><th scope=row>SUB__10</th><td>-256168.6</td></tr>\n",
       "\t<tr><th scope=row>SUB__44</th><td>-190477.5</td></tr>\n",
       "\t<tr><th scope=row>SUB__15</th><td>259645.3</td></tr>\n",
       "\t<tr><th scope=row>SUB__46</th><td>-73028.38</td></tr>\n",
       "\t<tr><th scope=row>SUB__38</th><td>-64557.27</td></tr>\n",
       "\t<tr><th scope=row>SUB__50</th><td>-213120.3</td></tr>\n",
       "\t<tr><th scope=row>SUB__56</th><td>-106707.6</td></tr>\n",
       "\t<tr><th scope=row>SUB__2</th><td>-69734.59</td></tr>\n",
       "\t<tr><th scope=row>STATE__3</th><td>209568.2</td></tr>\n",
       "\t<tr><th scope=row>STATE__2</th><td>-115481.8</td></tr>\n",
       "\t<tr><th scope=row>STATE__4</th><td>-5977.497</td></tr>\n",
       "</tbody>\n",
       "</table>\n"
      ],
      "text/latex": [
       "\\textbf{\\$coefficients} = \\begin{tabular}{r|l}\n",
       "  & Estimate\\\\\n",
       "\\hline\n",
       "\t(Intercept) & -71510.14\\\\\n",
       "\tBEDS & 14442.1\\\\\n",
       "\tSIZE & 30960.03\\\\\n",
       "\tINSP & 99.67428\\\\\n",
       "\tTAXP & 5622.96\\\\\n",
       "\tELEP & 191.8176\\\\\n",
       "\tGASP & 234.1995\\\\\n",
       "\tSUB__6 & 82287.52\\\\\n",
       "\tSUB__48 & -433572.7\\\\\n",
       "\tSUB__12 & -383157.5\\\\\n",
       "\tSUB__36 & -167946.8\\\\\n",
       "\tSUB__42 & -191491.3\\\\\n",
       "\tSUB__39 & -94893.01\\\\\n",
       "\tSUB__17 & -106105.2\\\\\n",
       "\tSUB__26 & -96563.38\\\\\n",
       "\tSUB__37 & -342834.7\\\\\n",
       "\tSUB__13 & -372443\\\\\n",
       "\tSUB__51 & -283645.8\\\\\n",
       "\tSUB__34 & -179981.6\\\\\n",
       "\tSUB__18 & -43098.8\\\\\n",
       "\tSUB__47 & -349673.1\\\\\n",
       "\tSUB__53 & -83461.47\\\\\n",
       "\tSUB__29 & -68631.86\\\\\n",
       "\tSUB__55 & -105940.9\\\\\n",
       "\tSUB__27 & -80377.11\\\\\n",
       "\tSUB__4 & -66431.65\\\\\n",
       "\tSUB__24 & -307763.7\\\\\n",
       "\tSUB__25 & -99994.4\\\\\n",
       "\tSUB__1 & -325451.6\\\\\n",
       "\tSUB__8 & -63687.42\\\\\n",
       "\tSUB__45 & -326778.5\\\\\n",
       "\tSUB__21 & -359668.3\\\\\n",
       "\tSUB__22 & -342239\\\\\n",
       "\tSUB__41 & -100040.3\\\\\n",
       "\tSUB__40 & -386061.4\\\\\n",
       "\tSUB__19 & -84435.77\\\\\n",
       "\tSUB__9 & -146865.5\\\\\n",
       "\tSUB__5 & -348436.6\\\\\n",
       "\tSUB__20 & -114821.4\\\\\n",
       "\tSUB__28 & -365470.5\\\\\n",
       "\tSUB__49 & -79555.59\\\\\n",
       "\tSUB__32 & -91198.93\\\\\n",
       "\tSUB__54 & -322694\\\\\n",
       "\tSUB__31 & -126134.2\\\\\n",
       "\tSUB__35 & -65052.92\\\\\n",
       "\tSUB__16 & -96360.18\\\\\n",
       "\tSUB__23 & -149969.1\\\\\n",
       "\tSUB__33 & -219057.5\\\\\n",
       "\tSUB__30 & -102956.5\\\\\n",
       "\tSUB__10 & -256168.6\\\\\n",
       "\tSUB__44 & -190477.5\\\\\n",
       "\tSUB__15 & 259645.3\\\\\n",
       "\tSUB__46 & -73028.38\\\\\n",
       "\tSUB__38 & -64557.27\\\\\n",
       "\tSUB__50 & -213120.3\\\\\n",
       "\tSUB__56 & -106707.6\\\\\n",
       "\tSUB__2 & -69734.59\\\\\n",
       "\tSTATE__3 & 209568.2\\\\\n",
       "\tSTATE__2 & -115481.8\\\\\n",
       "\tSTATE__4 & -5977.497\\\\\n",
       "\\end{tabular}\n"
      ],
      "text/markdown": [
       "**$coefficients** = 1. -71510.1366958223\n",
       "2. 14442.0969640005\n",
       "3. 30960.025179613\n",
       "4. 99.6742777758262\n",
       "5. 5622.95999322812\n",
       "6. 191.817595164977\n",
       "7. 234.199530947734\n",
       "8. 82287.521184471\n",
       "9. -433572.650241001\n",
       "10. -383157.499878009\n",
       "11. -167946.82301793\n",
       "12. -191491.316114946\n",
       "13. -94893.010291117\n",
       "14. -106105.240733888\n",
       "15. -96563.3791646588\n",
       "16. -342834.733023796\n",
       "17. -372442.994444242\n",
       "18. -283645.759068516\n",
       "19. -179981.646183194\n",
       "20. -43098.8015728864\n",
       "21. -349673.143903777\n",
       "22. -83461.4740462565\n",
       "23. -68631.8588055814\n",
       "24. -105940.85887611\n",
       "25. -80377.1061252686\n",
       "26. -66431.6476340055\n",
       "27. -307763.670259245\n",
       "28. -99994.4001414554\n",
       "29. -325451.632699663\n",
       "30. -63687.4181284471\n",
       "31. -326778.460560539\n",
       "32. -359668.323341141\n",
       "33. -342239.027183586\n",
       "34. -100040.279020951\n",
       "35. -386061.420014209\n",
       "36. -84435.770100883\n",
       "37. -146865.487428277\n",
       "38. -348436.570404373\n",
       "39. -114821.384047459\n",
       "40. -365470.477978185\n",
       "41. -79555.5939913042\n",
       "42. -91198.9279904748\n",
       "43. -322694.034452084\n",
       "44. -126134.178026316\n",
       "45. -65052.9206022214\n",
       "46. -96360.1826489447\n",
       "47. -149969.134370322\n",
       "48. -219057.519765109\n",
       "49. -102956.471610581\n",
       "50. -256168.608185139\n",
       "51. -190477.545922972\n",
       "52. 259645.26935291\n",
       "53. -73028.3771717387\n",
       "54. -64557.2683199058\n",
       "55. -213120.340705666\n",
       "56. -106707.605512871\n",
       "57. -69734.5897018068\n",
       "58. 209568.161616487\n",
       "59. -115481.806179661\n",
       "60. -5977.49738738509\n",
       "\n",
       "\n"
      ],
      "text/plain": [
       "$coefficients\n",
       "                 Estimate\n",
       "(Intercept)  -71510.13670\n",
       "BEDS          14442.09696\n",
       "SIZE          30960.02518\n",
       "INSP             99.67428\n",
       "TAXP           5622.95999\n",
       "ELEP            191.81760\n",
       "GASP            234.19953\n",
       "SUB__6        82287.52118\n",
       "SUB__48     -433572.65024\n",
       "SUB__12     -383157.49988\n",
       "SUB__36     -167946.82302\n",
       "SUB__42     -191491.31611\n",
       "SUB__39      -94893.01029\n",
       "SUB__17     -106105.24073\n",
       "SUB__26      -96563.37916\n",
       "SUB__37     -342834.73302\n",
       "SUB__13     -372442.99444\n",
       "SUB__51     -283645.75907\n",
       "SUB__34     -179981.64618\n",
       "SUB__18      -43098.80157\n",
       "SUB__47     -349673.14390\n",
       "SUB__53      -83461.47405\n",
       "SUB__29      -68631.85881\n",
       "SUB__55     -105940.85888\n",
       "SUB__27      -80377.10613\n",
       "SUB__4       -66431.64763\n",
       "SUB__24     -307763.67026\n",
       "SUB__25      -99994.40014\n",
       "SUB__1      -325451.63270\n",
       "SUB__8       -63687.41813\n",
       "SUB__45     -326778.46056\n",
       "SUB__21     -359668.32334\n",
       "SUB__22     -342239.02718\n",
       "SUB__41     -100040.27902\n",
       "SUB__40     -386061.42001\n",
       "SUB__19      -84435.77010\n",
       "SUB__9      -146865.48743\n",
       "SUB__5      -348436.57040\n",
       "SUB__20     -114821.38405\n",
       "SUB__28     -365470.47798\n",
       "SUB__49      -79555.59399\n",
       "SUB__32      -91198.92799\n",
       "SUB__54     -322694.03445\n",
       "SUB__31     -126134.17803\n",
       "SUB__35      -65052.92060\n",
       "SUB__16      -96360.18265\n",
       "SUB__23     -149969.13437\n",
       "SUB__33     -219057.51977\n",
       "SUB__30     -102956.47161\n",
       "SUB__10     -256168.60819\n",
       "SUB__44     -190477.54592\n",
       "SUB__15      259645.26935\n",
       "SUB__46      -73028.37717\n",
       "SUB__38      -64557.26832\n",
       "SUB__50     -213120.34071\n",
       "SUB__56     -106707.60551\n",
       "SUB__2       -69734.58970\n",
       "STATE__3     209568.16162\n",
       "STATE__2    -115481.80618\n",
       "STATE__4      -5977.49739\n"
      ]
     },
     "execution_count": 26,
     "metadata": {},
     "output_type": "execute_result"
    }
   ],
   "source": [
    "model %>% summary"
   ]
  },
  {
   "cell_type": "markdown",
   "metadata": {},
   "source": [
    "##Evaluating our model using the test data"
   ]
  },
  {
   "cell_type": "code",
   "execution_count": 27,
   "metadata": {
    "collapsed": false
   },
   "outputs": [
    {
     "data": {
      "text/html": [
       "245469.378958076"
      ],
      "text/latex": [
       "245469.378958076"
      ],
      "text/markdown": [
       "245469.378958076"
      ],
      "text/plain": [
       "[1] 245469.4"
      ]
     },
     "execution_count": 27,
     "metadata": {},
     "output_type": "execute_result"
    }
   ],
   "source": [
    "Price_Avg = trainDF %>% select(PRICE) %>% \n",
    "            summarize(Price_Avg= mean(PRICE)) %>%\n",
    "            collect %>% \n",
    "            unlist(use.names = FALSE)\n",
    "Price_Avg"
   ]
  },
  {
   "cell_type": "code",
   "execution_count": 28,
   "metadata": {
    "collapsed": false
   },
   "outputs": [
    {
     "name": "stdout",
     "output_type": "stream",
     "text": [
      "+-----+------+----+----+----+----+----+----+---+-----+--------------------+--------+-------------------+\n",
      "|   ID| PRICE|BEDS|SIZE|INSP|TAXP|ELEP|GASP|SUB|STATE|            features|   label|         prediction|\n",
      "+-----+------+----+----+----+----+----+----+---+-----+--------------------+--------+-------------------+\n",
      "|   98|260000|   5|   1|   0|  16| 130|  30| 15|    4|(59,[0,1,3,4,5,50...|260000.0| 407257.77846084646|\n",
      "|   94|130000|   5|   1|2500|  12| 150|   3| 28|    3|(59,[0,1,2,3,4,5,...|130000.0| 221894.50916798768|\n",
      "|  111|900000|   9|   1|3100|  45| 200|  20|  6|    4|(59,[0,1,2,3,4,5,...|900000.0|  770809.7554091571|\n",
      "|  135|425000|  10|   1|2500|  62|  60|   2|  6|    4|(59,[0,1,2,3,4,5,...|425000.0|   789967.550712384|\n",
      "|  154| 25000|   9|   1| 350|   3| 350|   3|  1|    3|(59,[0,1,2,3,4,5,...| 25000.0|  93138.92417842787|\n",
      "|  156| 80000|   6|   1| 980|   6| 300|   3|  1|    3|(59,[0,1,2,3,4,5,...| 80000.0| 119885.42850663248|\n",
      "|  312|390000|  17|   1|2200|  26| 240|   3|  1|    3|(59,[0,1,2,3,4,5,...|390000.0| 501301.25815180916|\n",
      "| 3482|220000|   5|   3| 150|   1| 190|   3|  1|    3|(59,[0,1,2,3,4,5,...|220000.0|  35418.99591363419|\n",
      "| 4242|135000|  12|   1| 800|  14| 170|  50|  1|    3|(59,[0,1,2,3,4,5,...|135000.0| 219651.41081990785|\n",
      "| 5503|  3000|   6|   1|   0|   2| 220|   3|  1|    3|(59,[0,1,3,4,5,27...|  3000.0|-15632.611299787823|\n",
      "|10329|150000|   6|   1|1400|  15| 130| 110|  1|    3|(59,[0,1,2,3,4,5,...|150000.0|   204805.623744894|\n",
      "|11054| 50000|   5|   1| 300|   1|  60|  40|  1|    3|(59,[0,1,2,3,4,5,...| 50000.0| -27820.81750559868|\n",
      "|11414|375000|   8|   2| 700|  28| 150| 130|  1|    3|(59,[0,1,2,3,4,5,...|375000.0| 276496.67084364925|\n",
      "|12143| 10000|   4|   1|   0|   9|  30| 100|  1|    3|(59,[0,1,3,4,5,27...| 10000.0|-18884.073854607326|\n",
      "|12629|190000|   5|   1| 350|  12| 120|  40|  1|    3|(59,[0,1,2,3,4,5,...|190000.0|  50524.51201860054|\n",
      "|13308|120000|   6|   2| 690|   8| 150|  50|  1|    3|(59,[0,1,2,3,4,5,...|120000.0| 115420.57179750907|\n",
      "|14026|120000|   5|   1| 800|  14| 220|   3|  1|    3|(59,[0,1,2,3,4,5,...|120000.0| 117140.23387561008|\n",
      "|14574| 13000|   5|   2|   0|   1| 160|   3|  1|    3|(59,[0,1,3,4,5,27...| 13000.0|-16246.698787302012|\n",
      "|16070|165000|   6|   1|1200|  10| 130|   3|  1|    3|(59,[0,1,2,3,4,5,...|165000.0|  131696.6184121806|\n",
      "|17131|105000|   9|   1|1100|   7| 110| 140|  1|    3|(59,[0,1,2,3,4,5,...|105000.0| 176435.58538345507|\n",
      "+-----+------+----+----+----+----+----+----+---+-----+--------------------+--------+-------------------+\n",
      "only showing top 20 rows\n"
     ]
    }
   ],
   "source": [
    "preds = model %>% predict(newData = testDF)\n",
    "preds %>% showDF"
   ]
  },
  {
   "cell_type": "markdown",
   "metadata": {},
   "source": [
    "## R-squared\n",
    "\n",
    " \n",
    " R-squared = 1 -SS_res/SS_tot"
   ]
  },
  {
   "cell_type": "code",
   "execution_count": 29,
   "metadata": {
    "collapsed": false
   },
   "outputs": [
    {
     "data": {
      "text/html": [
       "<table>\n",
       "<thead><tr><th></th><th scope=col>PRICE</th><th scope=col>prediction</th><th scope=col>S_res</th><th scope=col>S_tot</th></tr></thead>\n",
       "<tbody>\n",
       "\t<tr><th scope=row>1</th><td>260000</td><td>407257.8</td><td>21684853317</td><td>211138948</td></tr>\n",
       "\t<tr><th scope=row>2</th><td>130000</td><td>221894.5</td><td>8444600815</td><td>13333177477</td></tr>\n",
       "\t<tr><th scope=row>3</th><td>900000</td><td>770809.8</td><td>16690119297</td><td>428410333882</td></tr>\n",
       "\t<tr><th scope=row>4</th><td>425000</td><td>789967.6</td><td>133201313073</td><td>32231243892</td></tr>\n",
       "\t<tr><th scope=row>5</th><td>25000</td><td>93138.92</td><td>4642912988</td><td>48606747058</td></tr>\n",
       "\t<tr><th scope=row>6</th><td>80000</td><td>119885.4</td><td>1590847407</td><td>27380115373</td></tr>\n",
       "</tbody>\n",
       "</table>\n"
      ],
      "text/latex": [
       "\\begin{tabular}{r|llll}\n",
       "  & PRICE & prediction & S_res & S_tot\\\\\n",
       "\\hline\n",
       "\t1 & 260000 & 407257.8 & 21684853317 & 211138948\\\\\n",
       "\t2 & 130000 & 221894.5 & 8444600815 & 13333177477\\\\\n",
       "\t3 & 900000 & 770809.8 & 16690119297 & 428410333882\\\\\n",
       "\t4 & 425000 & 789967.6 & 133201313073 & 32231243892\\\\\n",
       "\t5 & 25000 & 93138.92 & 4642912988 & 48606747058\\\\\n",
       "\t6 & 80000 & 119885.4 & 1590847407 & 27380115373\\\\\n",
       "\\end{tabular}\n"
      ],
      "text/plain": [
       "   PRICE prediction        S_res        S_tot\n",
       "1 260000  407257.78  21684853317    211138948\n",
       "2 130000  221894.51   8444600815  13333177477\n",
       "3 900000  770809.76  16690119297 428410333882\n",
       "4 425000  789967.55 133201313073  32231243892\n",
       "5  25000   93138.92   4642912988  48606747058\n",
       "6  80000  119885.43   1590847407  27380115373"
      ]
     },
     "execution_count": 29,
     "metadata": {},
     "output_type": "execute_result"
    }
   ],
   "source": [
    "predictions = preds %>% select(PRICE,prediction) %>% mutate(S_res = (PRICE - prediction)^2, S_tot = (PRICE - Price_Avg)^2)\n",
    "predictions %>% head"
   ]
  },
  {
   "cell_type": "code",
   "execution_count": 33,
   "metadata": {
    "collapsed": false
   },
   "outputs": [],
   "source": [
    "residuals =  predictions %>% select(S_res,S_tot) %>%\n",
    "             summarize(SS_res=sum(S_res),\n",
    "                       SS_tot=sum(S_tot)) %>% \n",
    "             collect"
   ]
  },
  {
   "cell_type": "code",
   "execution_count": 34,
   "metadata": {
    "collapsed": false
   },
   "outputs": [
    {
     "data": {
      "text/html": [
       "<table>\n",
       "<thead><tr><th></th><th scope=col>SS_res</th><th scope=col>SS_tot</th></tr></thead>\n",
       "<tbody>\n",
       "\t<tr><th scope=row>1</th><td>5.32871e+15</td><td>8.864508e+15</td></tr>\n",
       "</tbody>\n",
       "</table>\n"
      ],
      "text/latex": [
       "\\begin{tabular}{r|ll}\n",
       "  & SS_res & SS_tot\\\\\n",
       "\\hline\n",
       "\t1 & 5.32871e+15 & 8.864508e+15\\\\\n",
       "\\end{tabular}\n"
      ],
      "text/plain": [
       "       SS_res       SS_tot\n",
       "1 5.32871e+15 8.864508e+15"
      ]
     },
     "execution_count": 34,
     "metadata": {},
     "output_type": "execute_result"
    }
   ],
   "source": [
    "residuals"
   ]
  },
  {
   "cell_type": "code",
   "execution_count": 35,
   "metadata": {
    "collapsed": false
   },
   "outputs": [
    {
     "data": {
      "text/html": [
       "0.398871361727316"
      ],
      "text/latex": [
       "0.398871361727316"
      ],
      "text/markdown": [
       "0.398871361727316"
      ],
      "text/plain": [
       "[1] 0.3988714"
      ]
     },
     "execution_count": 35,
     "metadata": {},
     "output_type": "execute_result"
    }
   ],
   "source": [
    "Rsquared = 1.0 - (residuals$SS_res/residuals$SS_tot)\n",
    "Rsquared"
   ]
  },
  {
   "cell_type": "code",
   "execution_count": 36,
   "metadata": {
    "collapsed": false
   },
   "outputs": [
    {
     "name": "stderr",
     "output_type": "stream",
     "text": [
      "Warning message:\n",
      ": package 'ggplot2' was built under R version 3.2.1"
     ]
    }
   ],
   "source": [
    "library(ggplot2)"
   ]
  },
  {
   "cell_type": "code",
   "execution_count": 37,
   "metadata": {
    "collapsed": false
   },
   "outputs": [],
   "source": [
    "aggDF = dat %>%\n",
    "  group_by(STATE, SUB) %>%\n",
    "  summarise(n = n(PRICE), AvgPrice = mean(PRICE)) %>%\n",
    "  collect()"
   ]
  },
  {
   "cell_type": "code",
   "execution_count": 38,
   "metadata": {
    "collapsed": false
   },
   "outputs": [
    {
     "data": {
      "text/html": [
       "<table>\n",
       "<thead><tr><th></th><th scope=col>STATE</th><th scope=col>SUB</th><th scope=col>n</th><th scope=col>AvgPrice</th></tr></thead>\n",
       "<tbody>\n",
       "\t<tr><th scope=row>1</th><td>4</td><td>2</td><td>1423</td><td>237630.2</td></tr>\n",
       "\t<tr><th scope=row>2</th><td>1</td><td>33</td><td>3932</td><td>270794.7</td></tr>\n",
       "\t<tr><th scope=row>3</th><td>4</td><td>4</td><td>16888</td><td>221260.3</td></tr>\n",
       "\t<tr><th scope=row>4</th><td>1</td><td>34</td><td>20930</td><td>381330.8</td></tr>\n",
       "\t<tr><th scope=row>5</th><td>4</td><td>6</td><td>73659</td><td>494045.9</td></tr>\n",
       "\t<tr><th scope=row>6</th><td>2</td><td>20</td><td>8457</td><td>141632.5</td></tr>\n",
       "</tbody>\n",
       "</table>\n"
      ],
      "text/latex": [
       "\\begin{tabular}{r|llll}\n",
       "  & STATE & SUB & n & AvgPrice\\\\\n",
       "\\hline\n",
       "\t1 & 4 & 2 & 1423 & 237630.2\\\\\n",
       "\t2 & 1 & 33 & 3932 & 270794.7\\\\\n",
       "\t3 & 4 & 4 & 16888 & 221260.3\\\\\n",
       "\t4 & 1 & 34 & 20930 & 381330.8\\\\\n",
       "\t5 & 4 & 6 & 73659 & 494045.9\\\\\n",
       "\t6 & 2 & 20 & 8457 & 141632.5\\\\\n",
       "\\end{tabular}\n"
      ],
      "text/plain": [
       "  STATE SUB     n AvgPrice\n",
       "1     4   2  1423 237630.2\n",
       "2     1  33  3932 270794.7\n",
       "3     4   4 16888 221260.3\n",
       "4     1  34 20930 381330.8\n",
       "5     4   6 73659 494045.9\n",
       "6     2  20  8457 141632.5"
      ]
     },
     "execution_count": 38,
     "metadata": {},
     "output_type": "execute_result"
    }
   ],
   "source": [
    "head(aggDF)"
   ]
  },
  {
   "cell_type": "code",
   "execution_count": 39,
   "metadata": {
    "collapsed": false
   },
   "outputs": [
    {
     "data": {
      "application/pdf": "[encoded data removed]",
      "image/jpeg": "[encoded data removed]",
      "image/png": "[encoded data removed]",
      "image/svg+xml": [
       "<?xml version=\"1.0\" encoding=\"UTF-8\"?>\n",
       "<svg xmlns=\"http://www.w3.org/2000/svg\" xmlns:xlink=\"http://www.w3.org/1999/xlink\" width=\"504pt\" height=\"504pt\" viewBox=\"0 0 504 504\" version=\"1.1\">\n",
       "<defs>\n",
       "<g>\n",
       "<symbol overflow=\"visible\" id=\"glyph0-0\">\n",
       "<path style=\"stroke:none;\" d=\"M 3.578125 0 L 2.734375 0 L 2.734375 -5.375 C 2.527344 -5.179688 2.261719 -4.988281 1.933594 -4.792969 C 1.601563 -4.597656 1.304688 -4.453125 1.046875 -4.359375 L 1.046875 -5.175781 C 1.515625 -5.394531 1.925781 -5.664063 2.28125 -5.980469 C 2.632813 -6.292969 2.882813 -6.597656 3.03125 -6.898438 L 3.578125 -6.898438 Z M 3.578125 0 \"/>\n",
       "</symbol>\n",
       "<symbol overflow=\"visible\" id=\"glyph0-1\">\n",
       "<path style=\"stroke:none;\" d=\"M 0.398438 -3.390625 C 0.398438 -4.199219 0.480469 -4.851563 0.648438 -5.351563 C 0.8125 -5.84375 1.0625 -6.226563 1.394531 -6.496094 C 1.722656 -6.761719 2.136719 -6.894531 2.640625 -6.898438 C 3.003906 -6.894531 3.328125 -6.820313 3.609375 -6.675781 C 3.886719 -6.523438 4.113281 -6.3125 4.296875 -6.035156 C 4.476563 -5.753906 4.621094 -5.410156 4.722656 -5.011719 C 4.824219 -4.605469 4.875 -4.066406 4.878906 -3.390625 C 4.875 -2.582031 4.792969 -1.929688 4.628906 -1.4375 C 4.464844 -0.9375 4.214844 -0.554688 3.886719 -0.289063 C 3.554688 -0.015625 3.140625 0.117188 2.640625 0.117188 C 1.972656 0.117188 1.453125 -0.117188 1.078125 -0.59375 C 0.625 -1.164063 0.398438 -2.097656 0.398438 -3.390625 Z M 1.265625 -3.390625 C 1.265625 -2.257813 1.394531 -1.507813 1.660156 -1.136719 C 1.921875 -0.761719 2.25 -0.574219 2.640625 -0.578125 C 3.023438 -0.574219 3.347656 -0.761719 3.613281 -1.140625 C 3.875 -1.511719 4.007813 -2.261719 4.011719 -3.390625 C 4.007813 -4.519531 3.875 -5.269531 3.613281 -5.644531 C 3.347656 -6.011719 3.019531 -6.199219 2.628906 -6.203125 C 2.238281 -6.199219 1.929688 -6.035156 1.703125 -5.710938 C 1.410156 -5.289063 1.265625 -4.515625 1.265625 -3.390625 Z M 1.265625 -3.390625 \"/>\n",
       "</symbol>\n",
       "<symbol overflow=\"visible\" id=\"glyph0-2\">\n",
       "<path style=\"stroke:none;\" d=\"M 4.832031 -0.8125 L 4.832031 0 L 0.289063 0 C 0.28125 -0.203125 0.316406 -0.398438 0.390625 -0.585938 C 0.503906 -0.894531 0.6875 -1.199219 0.945313 -1.5 C 1.195313 -1.796875 1.5625 -2.140625 2.046875 -2.539063 C 2.789063 -3.148438 3.296875 -3.636719 3.5625 -3.996094 C 3.824219 -4.351563 3.953125 -4.6875 3.957031 -5.011719 C 3.953125 -5.339844 3.835938 -5.621094 3.597656 -5.855469 C 3.355469 -6.082031 3.042969 -6.199219 2.664063 -6.203125 C 2.253906 -6.199219 1.929688 -6.078125 1.6875 -5.835938 C 1.441406 -5.589844 1.316406 -5.25 1.316406 -4.824219 L 0.449219 -4.914063 C 0.507813 -5.558594 0.730469 -6.050781 1.121094 -6.390625 C 1.503906 -6.726563 2.023438 -6.894531 2.679688 -6.898438 C 3.335938 -6.894531 3.859375 -6.714844 4.246094 -6.351563 C 4.628906 -5.984375 4.820313 -5.53125 4.824219 -4.992188 C 4.820313 -4.714844 4.765625 -4.441406 4.652344 -4.179688 C 4.539063 -3.910156 4.351563 -3.632813 4.09375 -3.339844 C 3.832031 -3.046875 3.398438 -2.644531 2.792969 -2.132813 C 2.285156 -1.707031 1.960938 -1.417969 1.816406 -1.265625 C 1.671875 -1.113281 1.550781 -0.960938 1.460938 -0.8125 Z M 4.832031 -0.8125 \"/>\n",
       "</symbol>\n",
       "<symbol overflow=\"visible\" id=\"glyph0-3\">\n",
       "<path style=\"stroke:none;\" d=\"M 0.402344 -1.8125 L 1.246094 -1.925781 C 1.339844 -1.445313 1.503906 -1.101563 1.738281 -0.894531 C 1.96875 -0.679688 2.253906 -0.574219 2.59375 -0.578125 C 2.988281 -0.574219 3.324219 -0.710938 3.597656 -0.988281 C 3.871094 -1.261719 4.007813 -1.601563 4.007813 -2.011719 C 4.007813 -2.394531 3.878906 -2.714844 3.628906 -2.96875 C 3.371094 -3.21875 3.050781 -3.34375 2.664063 -3.347656 C 2.5 -3.34375 2.300781 -3.3125 2.066406 -3.253906 L 2.160156 -3.992188 C 2.214844 -3.984375 2.261719 -3.984375 2.296875 -3.984375 C 2.65625 -3.984375 2.976563 -4.078125 3.265625 -4.265625 C 3.550781 -4.453125 3.695313 -4.742188 3.699219 -5.132813 C 3.695313 -5.441406 3.589844 -5.695313 3.382813 -5.902344 C 3.171875 -6.101563 2.902344 -6.203125 2.574219 -6.207031 C 2.242188 -6.203125 1.96875 -6.101563 1.753906 -5.894531 C 1.53125 -5.6875 1.390625 -5.378906 1.332031 -4.96875 L 0.488281 -5.117188 C 0.585938 -5.679688 0.820313 -6.121094 1.1875 -6.433594 C 1.550781 -6.742188 2.007813 -6.894531 2.554688 -6.898438 C 2.929688 -6.894531 3.273438 -6.816406 3.589844 -6.65625 C 3.902344 -6.496094 4.144531 -6.277344 4.3125 -6 C 4.480469 -5.71875 4.5625 -5.421875 4.566406 -5.113281 C 4.5625 -4.8125 4.484375 -4.542969 4.324219 -4.300781 C 4.164063 -4.058594 3.925781 -3.863281 3.617188 -3.722656 C 4.019531 -3.625 4.335938 -3.429688 4.5625 -3.136719 C 4.785156 -2.839844 4.898438 -2.472656 4.902344 -2.03125 C 4.898438 -1.425781 4.679688 -0.917969 4.246094 -0.503906 C 3.804688 -0.0898438 3.25 0.117188 2.585938 0.121094 C 1.980469 0.117188 1.480469 -0.0585938 1.085938 -0.417969 C 0.683594 -0.773438 0.457031 -1.238281 0.402344 -1.8125 Z M 0.402344 -1.8125 \"/>\n",
       "</symbol>\n",
       "<symbol overflow=\"visible\" id=\"glyph0-4\">\n",
       "<path style=\"stroke:none;\" d=\"M 0.398438 -1.800781 L 1.285156 -1.875 C 1.347656 -1.441406 1.5 -1.117188 1.742188 -0.902344 C 1.976563 -0.683594 2.265625 -0.574219 2.605469 -0.578125 C 3.007813 -0.574219 3.351563 -0.726563 3.636719 -1.035156 C 3.914063 -1.339844 4.054688 -1.746094 4.058594 -2.253906 C 4.054688 -2.734375 3.917969 -3.113281 3.652344 -3.394531 C 3.378906 -3.667969 3.027344 -3.808594 2.59375 -3.8125 C 2.316406 -3.808594 2.070313 -3.746094 1.855469 -3.625 C 1.632813 -3.5 1.460938 -3.339844 1.339844 -3.144531 L 0.546875 -3.25 L 1.214844 -6.777344 L 4.632813 -6.777344 L 4.632813 -5.972656 L 1.890625 -5.972656 L 1.519531 -4.125 C 1.925781 -4.410156 2.359375 -4.550781 2.816406 -4.554688 C 3.414063 -4.550781 3.921875 -4.34375 4.335938 -3.929688 C 4.746094 -3.511719 4.949219 -2.976563 4.953125 -2.328125 C 4.949219 -1.703125 4.769531 -1.167969 4.410156 -0.71875 C 3.96875 -0.160156 3.367188 0.117188 2.605469 0.117188 C 1.976563 0.117188 1.464844 -0.0546875 1.074219 -0.40625 C 0.675781 -0.753906 0.453125 -1.21875 0.398438 -1.800781 Z M 0.398438 -1.800781 \"/>\n",
       "</symbol>\n",
       "<symbol overflow=\"visible\" id=\"glyph0-5\">\n",
       "<path style=\"stroke:none;\" d=\"M 4.777344 -5.1875 L 3.9375 -5.125 C 3.859375 -5.453125 3.75 -5.691406 3.617188 -5.84375 C 3.386719 -6.082031 3.105469 -6.203125 2.773438 -6.207031 C 2.5 -6.203125 2.265625 -6.128906 2.066406 -5.980469 C 1.796875 -5.785156 1.585938 -5.503906 1.4375 -5.132813 C 1.28125 -4.757813 1.203125 -4.226563 1.199219 -3.542969 C 1.398438 -3.851563 1.648438 -4.082031 1.945313 -4.230469 C 2.238281 -4.378906 2.542969 -4.453125 2.867188 -4.457031 C 3.425781 -4.453125 3.90625 -4.246094 4.304688 -3.835938 C 4.699219 -3.417969 4.898438 -2.882813 4.898438 -2.230469 C 4.898438 -1.796875 4.804688 -1.394531 4.617188 -1.027344 C 4.429688 -0.652344 4.171875 -0.371094 3.851563 -0.175781 C 3.523438 0.0195313 3.15625 0.117188 2.746094 0.117188 C 2.039063 0.117188 1.464844 -0.140625 1.023438 -0.65625 C 0.578125 -1.171875 0.355469 -2.023438 0.359375 -3.214844 C 0.355469 -4.539063 0.601563 -5.503906 1.097656 -6.113281 C 1.519531 -6.632813 2.097656 -6.894531 2.828125 -6.898438 C 3.363281 -6.894531 3.804688 -6.746094 4.152344 -6.445313 C 4.496094 -6.140625 4.703125 -5.71875 4.777344 -5.1875 Z M 1.332031 -2.226563 C 1.328125 -1.933594 1.390625 -1.652344 1.515625 -1.390625 C 1.636719 -1.121094 1.808594 -0.921875 2.035156 -0.785156 C 2.253906 -0.644531 2.488281 -0.574219 2.734375 -0.578125 C 3.085938 -0.574219 3.390625 -0.71875 3.648438 -1.007813 C 3.902344 -1.292969 4.03125 -1.683594 4.035156 -2.179688 C 4.03125 -2.652344 3.90625 -3.023438 3.65625 -3.300781 C 3.402344 -3.570313 3.082031 -3.707031 2.699219 -3.710938 C 2.316406 -3.707031 1.992188 -3.570313 1.730469 -3.300781 C 1.460938 -3.023438 1.328125 -2.667969 1.332031 -2.226563 Z M 1.332031 -2.226563 \"/>\n",
       "</symbol>\n",
       "<symbol overflow=\"visible\" id=\"glyph0-6\">\n",
       "<path style=\"stroke:none;\" d=\"M 0.453125 -5.972656 L 0.453125 -6.78125 L 4.902344 -6.78125 L 4.902344 -6.125 C 4.460938 -5.65625 4.027344 -5.039063 3.601563 -4.269531 C 3.167969 -3.496094 2.835938 -2.703125 2.605469 -1.890625 C 2.433594 -1.3125 2.324219 -0.683594 2.28125 0 L 1.414063 0 C 1.421875 -0.539063 1.53125 -1.191406 1.734375 -1.960938 C 1.9375 -2.722656 2.226563 -3.460938 2.609375 -4.175781 C 2.984375 -4.882813 3.390625 -5.480469 3.820313 -5.972656 Z M 0.453125 -5.972656 \"/>\n",
       "</symbol>\n",
       "<symbol overflow=\"visible\" id=\"glyph0-7\">\n",
       "<path style=\"stroke:none;\" d=\"M 1.695313 -3.726563 C 1.34375 -3.851563 1.085938 -4.03125 0.917969 -4.273438 C 0.746094 -4.507813 0.660156 -4.792969 0.664063 -5.128906 C 0.660156 -5.625 0.839844 -6.046875 1.203125 -6.386719 C 1.558594 -6.726563 2.039063 -6.894531 2.640625 -6.898438 C 3.238281 -6.894531 3.71875 -6.722656 4.085938 -6.375 C 4.449219 -6.027344 4.632813 -5.601563 4.636719 -5.105469 C 4.632813 -4.78125 4.550781 -4.503906 4.382813 -4.269531 C 4.214844 -4.03125 3.960938 -3.851563 3.625 -3.726563 C 4.042969 -3.585938 4.363281 -3.363281 4.585938 -3.058594 C 4.804688 -2.753906 4.914063 -2.386719 4.917969 -1.964844 C 4.914063 -1.371094 4.707031 -0.878906 4.292969 -0.480469 C 3.875 -0.0820313 3.328125 0.117188 2.652344 0.117188 C 1.972656 0.117188 1.425781 -0.0820313 1.011719 -0.484375 C 0.59375 -0.882813 0.386719 -1.382813 0.390625 -1.988281 C 0.386719 -2.429688 0.5 -2.804688 0.730469 -3.109375 C 0.953125 -3.410156 1.273438 -3.617188 1.695313 -3.726563 Z M 1.527344 -5.15625 C 1.523438 -4.828125 1.628906 -4.5625 1.839844 -4.359375 C 2.050781 -4.152344 2.320313 -4.046875 2.65625 -4.050781 C 2.976563 -4.046875 3.246094 -4.148438 3.457031 -4.355469 C 3.664063 -4.558594 3.765625 -4.8125 3.769531 -5.109375 C 3.765625 -5.417969 3.660156 -5.675781 3.445313 -5.890625 C 3.230469 -6.097656 2.964844 -6.203125 2.648438 -6.207031 C 2.324219 -6.203125 2.054688 -6.101563 1.84375 -5.894531 C 1.628906 -5.6875 1.523438 -5.441406 1.527344 -5.15625 Z M 1.257813 -1.984375 C 1.253906 -1.738281 1.308594 -1.503906 1.425781 -1.28125 C 1.535156 -1.054688 1.707031 -0.882813 1.933594 -0.761719 C 2.160156 -0.636719 2.402344 -0.574219 2.664063 -0.578125 C 3.0625 -0.574219 3.394531 -0.703125 3.660156 -0.964844 C 3.921875 -1.222656 4.054688 -1.550781 4.054688 -1.953125 C 4.054688 -2.355469 3.917969 -2.691406 3.648438 -2.960938 C 3.375 -3.222656 3.035156 -3.355469 2.632813 -3.359375 C 2.234375 -3.355469 1.90625 -3.226563 1.648438 -2.964844 C 1.382813 -2.703125 1.253906 -2.375 1.257813 -1.984375 Z M 1.257813 -1.984375 \"/>\n",
       "</symbol>\n",
       "<symbol overflow=\"visible\" id=\"glyph0-8\">\n",
       "<path style=\"stroke:none;\" d=\"M 0.523438 -1.589844 L 1.335938 -1.664063 C 1.402344 -1.28125 1.53125 -1.003906 1.726563 -0.835938 C 1.917969 -0.660156 2.167969 -0.574219 2.476563 -0.578125 C 2.730469 -0.574219 2.957031 -0.632813 3.15625 -0.753906 C 3.347656 -0.871094 3.507813 -1.03125 3.636719 -1.230469 C 3.757813 -1.425781 3.863281 -1.691406 3.949219 -2.03125 C 4.035156 -2.367188 4.078125 -2.710938 4.078125 -3.066406 C 4.078125 -3.097656 4.074219 -3.15625 4.074219 -3.234375 C 3.902344 -2.964844 3.671875 -2.746094 3.382813 -2.578125 C 3.085938 -2.410156 2.769531 -2.324219 2.433594 -2.328125 C 1.859375 -2.324219 1.378906 -2.53125 0.988281 -2.945313 C 0.59375 -3.355469 0.398438 -3.898438 0.398438 -4.578125 C 0.398438 -5.273438 0.601563 -5.835938 1.015625 -6.261719 C 1.421875 -6.683594 1.9375 -6.894531 2.558594 -6.898438 C 3.003906 -6.894531 3.414063 -6.777344 3.785156 -6.539063 C 4.152344 -6.296875 4.433594 -5.953125 4.628906 -5.511719 C 4.820313 -5.0625 4.914063 -4.417969 4.917969 -3.578125 C 4.914063 -2.695313 4.820313 -1.996094 4.628906 -1.476563 C 4.4375 -0.957031 4.152344 -0.558594 3.777344 -0.289063 C 3.398438 -0.015625 2.957031 0.117188 2.457031 0.117188 C 1.914063 0.117188 1.476563 -0.03125 1.136719 -0.328125 C 0.796875 -0.625 0.589844 -1.042969 0.523438 -1.589844 Z M 3.980469 -4.621094 C 3.976563 -5.101563 3.847656 -5.484375 3.59375 -5.773438 C 3.332031 -6.054688 3.023438 -6.199219 2.664063 -6.203125 C 2.285156 -6.199219 1.957031 -6.046875 1.683594 -5.742188 C 1.402344 -5.433594 1.265625 -5.035156 1.265625 -4.550781 C 1.265625 -4.109375 1.394531 -3.753906 1.660156 -3.484375 C 1.921875 -3.207031 2.25 -3.070313 2.640625 -3.074219 C 3.027344 -3.070313 3.347656 -3.207031 3.601563 -3.484375 C 3.851563 -3.753906 3.976563 -4.132813 3.980469 -4.621094 Z M 3.980469 -4.621094 \"/>\n",
       "</symbol>\n",
       "<symbol overflow=\"visible\" id=\"glyph0-9\">\n",
       "<path style=\"stroke:none;\" d=\"M 3.101563 0 L 3.101563 -1.644531 L 0.121094 -1.644531 L 0.121094 -2.417969 L 3.257813 -6.871094 L 3.945313 -6.871094 L 3.945313 -2.417969 L 4.875 -2.417969 L 4.875 -1.644531 L 3.945313 -1.644531 L 3.945313 0 Z M 3.101563 -2.417969 L 3.101563 -5.515625 L 0.953125 -2.417969 Z M 3.101563 -2.417969 \"/>\n",
       "</symbol>\n",
       "<symbol overflow=\"visible\" id=\"glyph0-10\">\n",
       "<path style=\"stroke:none;\" d=\"M 4.039063 -1.601563 L 4.914063 -1.496094 C 4.773438 -0.980469 4.519531 -0.585938 4.148438 -0.308594 C 3.773438 -0.0273438 3.296875 0.109375 2.722656 0.113281 C 1.992188 0.109375 1.414063 -0.109375 0.992188 -0.558594 C 0.5625 -1.003906 0.351563 -1.632813 0.351563 -2.445313 C 0.351563 -3.28125 0.566406 -3.933594 0.996094 -4.394531 C 1.425781 -4.855469 1.984375 -5.085938 2.675781 -5.089844 C 3.339844 -5.085938 3.882813 -4.859375 4.308594 -4.410156 C 4.726563 -3.953125 4.9375 -3.316406 4.941406 -2.5 C 4.9375 -2.445313 4.9375 -2.371094 4.9375 -2.273438 L 1.222656 -2.273438 C 1.25 -1.726563 1.40625 -1.304688 1.6875 -1.015625 C 1.964844 -0.722656 2.308594 -0.578125 2.726563 -0.582031 C 3.03125 -0.578125 3.296875 -0.660156 3.519531 -0.824219 C 3.734375 -0.984375 3.90625 -1.242188 4.039063 -1.601563 Z M 1.269531 -2.96875 L 4.050781 -2.96875 C 4.007813 -3.382813 3.902344 -3.695313 3.730469 -3.910156 C 3.460938 -4.230469 3.113281 -4.394531 2.6875 -4.398438 C 2.296875 -4.394531 1.96875 -4.265625 1.707031 -4.007813 C 1.441406 -3.746094 1.296875 -3.398438 1.269531 -2.96875 Z M 1.269531 -2.96875 \"/>\n",
       "</symbol>\n",
       "<symbol overflow=\"visible\" id=\"glyph0-11\">\n",
       "<path style=\"stroke:none;\" d=\"M 2.40625 -1.109375 L 2.40625 -2.996094 L 0.535156 -2.996094 L 0.535156 -3.78125 L 2.40625 -3.78125 L 2.40625 -5.652344 L 3.203125 -5.652344 L 3.203125 -3.78125 L 5.070313 -3.78125 L 5.070313 -2.996094 L 3.203125 -2.996094 L 3.203125 -1.109375 Z M 2.40625 -1.109375 \"/>\n",
       "</symbol>\n",
       "<symbol overflow=\"visible\" id=\"glyph1-0\">\n",
       "<path style=\"stroke:none;\" d=\"M 0.539063 -2.757813 L 1.609375 -2.851563 C 1.660156 -2.421875 1.777344 -2.070313 1.964844 -1.796875 C 2.144531 -1.519531 2.433594 -1.296875 2.828125 -1.128906 C 3.214844 -0.957031 3.65625 -0.871094 4.148438 -0.875 C 4.578125 -0.871094 4.960938 -0.9375 5.296875 -1.066406 C 5.628906 -1.191406 5.875 -1.367188 6.039063 -1.59375 C 6.199219 -1.820313 6.28125 -2.066406 6.28125 -2.332031 C 6.28125 -2.597656 6.203125 -2.832031 6.046875 -3.035156 C 5.890625 -3.238281 5.632813 -3.40625 5.273438 -3.546875 C 5.042969 -3.632813 4.53125 -3.773438 3.746094 -3.964844 C 2.953125 -4.152344 2.402344 -4.332031 2.085938 -4.5 C 1.671875 -4.710938 1.363281 -4.976563 1.167969 -5.296875 C 0.964844 -5.617188 0.867188 -5.972656 0.867188 -6.367188 C 0.867188 -6.800781 0.988281 -7.207031 1.234375 -7.582031 C 1.480469 -7.957031 1.839844 -8.242188 2.3125 -8.441406 C 2.785156 -8.632813 3.3125 -8.730469 3.890625 -8.734375 C 4.523438 -8.730469 5.082031 -8.628906 5.574219 -8.425781 C 6.058594 -8.222656 6.433594 -7.921875 6.695313 -7.523438 C 6.957031 -7.125 7.097656 -6.671875 7.117188 -6.171875 L 6.03125 -6.085938 C 5.96875 -6.628906 5.769531 -7.039063 5.433594 -7.316406 C 5.09375 -7.59375 4.597656 -7.734375 3.9375 -7.734375 C 3.25 -7.734375 2.746094 -7.605469 2.433594 -7.355469 C 2.113281 -7.097656 1.957031 -6.796875 1.960938 -6.445313 C 1.957031 -6.136719 2.070313 -5.882813 2.296875 -5.683594 C 2.515625 -5.480469 3.085938 -5.273438 4.011719 -5.070313 C 4.933594 -4.859375 5.566406 -4.679688 5.914063 -4.523438 C 6.410156 -4.292969 6.78125 -4 7.019531 -3.648438 C 7.253906 -3.292969 7.371094 -2.886719 7.375 -2.425781 C 7.371094 -1.96875 7.242188 -1.535156 6.984375 -1.132813 C 6.722656 -0.726563 6.34375 -0.414063 5.855469 -0.1875 C 5.363281 0.0351563 4.8125 0.144531 4.203125 0.148438 C 3.421875 0.144531 2.769531 0.0351563 2.246094 -0.191406 C 1.71875 -0.414063 1.308594 -0.753906 1.011719 -1.214844 C 0.710938 -1.667969 0.554688 -2.183594 0.539063 -2.757813 Z M 0.539063 -2.757813 \"/>\n",
       "</symbol>\n",
       "<symbol overflow=\"visible\" id=\"glyph1-1\">\n",
       "<path style=\"stroke:none;\" d=\"M 3.109375 0 L 3.109375 -7.578125 L 0.28125 -7.578125 L 0.28125 -8.589844 L 7.089844 -8.589844 L 7.089844 -7.578125 L 4.25 -7.578125 L 4.25 0 Z M 3.109375 0 \"/>\n",
       "</symbol>\n",
       "<symbol overflow=\"visible\" id=\"glyph1-2\">\n",
       "<path style=\"stroke:none;\" d=\"M -0.015625 0 L 3.28125 -8.589844 L 4.507813 -8.589844 L 8.023438 0 L 6.726563 0 L 5.726563 -2.601563 L 2.132813 -2.601563 L 1.1875 0 Z M 2.460938 -3.527344 L 5.375 -3.527344 L 4.476563 -5.90625 C 4.203125 -6.628906 4 -7.222656 3.867188 -7.6875 C 3.757813 -7.132813 3.601563 -6.585938 3.40625 -6.046875 Z M 2.460938 -3.527344 \"/>\n",
       "</symbol>\n",
       "<symbol overflow=\"visible\" id=\"glyph1-3\">\n",
       "<path style=\"stroke:none;\" d=\"M 0.949219 0 L 0.949219 -8.589844 L 7.160156 -8.589844 L 7.160156 -7.578125 L 2.085938 -7.578125 L 2.085938 -4.945313 L 6.835938 -4.945313 L 6.835938 -3.9375 L 2.085938 -3.9375 L 2.085938 -1.015625 L 7.359375 -1.015625 L 7.359375 0 Z M 0.949219 0 \"/>\n",
       "</symbol>\n",
       "<symbol overflow=\"visible\" id=\"glyph2-0\">\n",
       "<path style=\"stroke:none;\" d=\"M -2.757813 -0.539063 L -2.851563 -1.613281 C -2.421875 -1.660156 -2.070313 -1.777344 -1.796875 -1.964844 C -1.519531 -2.144531 -1.296875 -2.433594 -1.125 -2.828125 C -0.953125 -3.214844 -0.867188 -3.65625 -0.871094 -4.148438 C -0.867188 -4.578125 -0.929688 -4.960938 -1.0625 -5.296875 C -1.1875 -5.628906 -1.367188 -5.875 -1.59375 -6.039063 C -1.820313 -6.199219 -2.066406 -6.28125 -2.332031 -6.28125 C -2.597656 -6.28125 -2.832031 -6.203125 -3.035156 -6.046875 C -3.238281 -5.890625 -3.40625 -5.632813 -3.542969 -5.273438 C -3.632813 -5.042969 -3.773438 -4.53125 -3.964844 -3.746094 C -4.152344 -2.953125 -4.332031 -2.402344 -4.5 -2.085938 C -4.710938 -1.675781 -4.976563 -1.367188 -5.296875 -1.167969 C -5.617188 -0.964844 -5.972656 -0.867188 -6.367188 -0.867188 C -6.800781 -0.867188 -7.207031 -0.988281 -7.582031 -1.234375 C -7.957031 -1.480469 -8.242188 -1.839844 -8.441406 -2.3125 C -8.632813 -2.785156 -8.730469 -3.3125 -8.734375 -3.890625 C -8.730469 -4.527344 -8.628906 -5.085938 -8.425781 -5.574219 C -8.222656 -6.058594 -7.921875 -6.433594 -7.523438 -6.695313 C -7.125 -6.957031 -6.671875 -7.097656 -6.171875 -7.117188 L -6.085938 -6.03125 C -6.628906 -5.96875 -7.039063 -5.769531 -7.316406 -5.433594 C -7.59375 -5.09375 -7.734375 -4.597656 -7.734375 -3.9375 C -7.734375 -3.25 -7.605469 -2.746094 -7.355469 -2.433594 C -7.097656 -2.117188 -6.796875 -1.960938 -6.445313 -1.964844 C -6.136719 -1.960938 -5.882813 -2.074219 -5.683594 -2.296875 C -5.480469 -2.515625 -5.273438 -3.085938 -5.070313 -4.011719 C -4.859375 -4.933594 -4.679688 -5.566406 -4.523438 -5.914063 C -4.292969 -6.410156 -4 -6.78125 -3.648438 -7.019531 C -3.292969 -7.253906 -2.886719 -7.371094 -2.425781 -7.375 C -1.964844 -7.371094 -1.53125 -7.242188 -1.132813 -6.984375 C -0.726563 -6.722656 -0.414063 -6.34375 -0.1875 -5.855469 C 0.0351563 -5.363281 0.144531 -4.8125 0.148438 -4.203125 C 0.144531 -3.421875 0.0351563 -2.769531 -0.191406 -2.246094 C -0.414063 -1.71875 -0.753906 -1.308594 -1.214844 -1.011719 C -1.667969 -0.710938 -2.183594 -0.554688 -2.757813 -0.539063 Z M -2.757813 -0.539063 \"/>\n",
       "</symbol>\n",
       "<symbol overflow=\"visible\" id=\"glyph2-1\">\n",
       "<path style=\"stroke:none;\" d=\"M -8.589844 -6.5625 L -8.589844 -7.699219 L -3.625 -7.699219 C -2.761719 -7.699219 -2.078125 -7.601563 -1.570313 -7.40625 C -1.0625 -7.210938 -0.648438 -6.855469 -0.328125 -6.347656 C -0.0117188 -5.835938 0.144531 -5.167969 0.148438 -4.34375 C 0.144531 -3.53125 0.0117188 -2.875 -0.265625 -2.367188 C -0.539063 -1.855469 -0.941406 -1.488281 -1.472656 -1.273438 C -1.996094 -1.050781 -2.714844 -0.941406 -3.625 -0.945313 L -8.589844 -0.945313 L -8.589844 -2.082031 L -3.632813 -2.082031 C -2.886719 -2.074219 -2.335938 -2.144531 -1.984375 -2.285156 C -1.628906 -2.425781 -1.355469 -2.664063 -1.164063 -3 C -0.972656 -3.335938 -0.878906 -3.75 -0.878906 -4.242188 C -0.878906 -5.078125 -1.066406 -5.671875 -1.445313 -6.027344 C -1.824219 -6.382813 -2.554688 -6.5625 -3.632813 -6.5625 Z M -8.589844 -6.5625 \"/>\n",
       "</symbol>\n",
       "<symbol overflow=\"visible\" id=\"glyph2-2\">\n",
       "<path style=\"stroke:none;\" d=\"M 0 -0.878906 L -8.589844 -0.878906 L -8.589844 -4.101563 C -8.589844 -4.757813 -8.5 -5.28125 -8.328125 -5.679688 C -8.152344 -6.074219 -7.886719 -6.386719 -7.527344 -6.613281 C -7.164063 -6.835938 -6.785156 -6.949219 -6.390625 -6.949219 C -6.023438 -6.949219 -5.679688 -6.847656 -5.355469 -6.648438 C -5.027344 -6.449219 -4.765625 -6.148438 -4.570313 -5.75 C -4.417969 -6.265625 -4.15625 -6.664063 -3.789063 -6.945313 C -3.417969 -7.222656 -2.984375 -7.363281 -2.488281 -7.367188 C -2.085938 -7.363281 -1.710938 -7.277344 -1.367188 -7.109375 C -1.015625 -6.9375 -0.75 -6.730469 -0.566406 -6.480469 C -0.375 -6.230469 -0.234375 -5.914063 -0.140625 -5.539063 C -0.046875 -5.160156 0 -4.699219 0 -4.15625 Z M -4.980469 -2.015625 L -4.980469 -3.875 C -4.980469 -4.375 -5.011719 -4.738281 -5.078125 -4.957031 C -5.164063 -5.246094 -5.308594 -5.460938 -5.507813 -5.609375 C -5.703125 -5.75 -5.953125 -5.824219 -6.257813 -5.828125 C -6.542969 -5.824219 -6.792969 -5.757813 -7.011719 -5.625 C -7.226563 -5.488281 -7.375 -5.292969 -7.457031 -5.039063 C -7.535156 -4.785156 -7.574219 -4.347656 -7.578125 -3.734375 L -7.578125 -2.015625 Z M -1.011719 -2.015625 L -1.011719 -4.15625 C -1.007813 -4.515625 -1.023438 -4.773438 -1.054688 -4.929688 C -1.101563 -5.1875 -1.179688 -5.40625 -1.289063 -5.582031 C -1.398438 -5.757813 -1.554688 -5.902344 -1.765625 -6.015625 C -1.96875 -6.128906 -2.210938 -6.1875 -2.488281 -6.1875 C -2.804688 -6.1875 -3.082031 -6.105469 -3.324219 -5.941406 C -3.558594 -5.777344 -3.726563 -5.546875 -3.820313 -5.257813 C -3.914063 -4.960938 -3.960938 -4.542969 -3.964844 -4 L -3.96875 -2.015625 Z M -1.011719 -2.015625 \"/>\n",
       "</symbol>\n",
       "<symbol overflow=\"visible\" id=\"glyph3-0\">\n",
       "<path style=\"stroke:none;\" d=\"M 6.894531 0 L 5.386719 0 L 4.785156 -1.5625 L 2.039063 -1.5625 L 1.472656 0 L 0 0 L 2.675781 -6.871094 L 4.144531 -6.871094 Z M 4.339844 -2.71875 L 3.394531 -5.269531 L 2.464844 -2.71875 Z M 4.339844 -2.71875 \"/>\n",
       "</symbol>\n",
       "<symbol overflow=\"visible\" id=\"glyph3-1\">\n",
       "<path style=\"stroke:none;\" d=\"M 2.058594 0 L 0.0507813 -4.976563 L 1.433594 -4.976563 L 2.371094 -2.4375 L 2.644531 -1.589844 C 2.710938 -1.800781 2.757813 -1.945313 2.78125 -2.015625 C 2.820313 -2.15625 2.867188 -2.296875 2.921875 -2.4375 L 3.867188 -4.976563 L 5.222656 -4.976563 L 3.242188 0 Z M 2.058594 0 \"/>\n",
       "</symbol>\n",
       "<symbol overflow=\"visible\" id=\"glyph3-2\">\n",
       "<path style=\"stroke:none;\" d=\"M 0.566406 0.328125 L 2.070313 0.511719 C 2.09375 0.683594 2.152344 0.804688 2.246094 0.871094 C 2.367188 0.960938 2.566406 1.007813 2.835938 1.011719 C 3.179688 1.007813 3.4375 0.957031 3.609375 0.859375 C 3.722656 0.785156 3.808594 0.671875 3.871094 0.523438 C 3.910156 0.410156 3.929688 0.214844 3.933594 -0.078125 L 3.933594 -0.804688 C 3.535156 -0.265625 3.039063 0 2.441406 0 C 1.769531 0 1.238281 -0.28125 0.851563 -0.847656 C 0.542969 -1.292969 0.390625 -1.847656 0.394531 -2.515625 C 0.390625 -3.347656 0.59375 -3.988281 0.996094 -4.429688 C 1.394531 -4.867188 1.890625 -5.085938 2.492188 -5.089844 C 3.105469 -5.085938 3.613281 -4.816406 4.015625 -4.28125 L 4.015625 -4.976563 L 5.25 -4.976563 L 5.25 -0.511719 C 5.25 0.078125 5.199219 0.511719 5.105469 0.804688 C 5.003906 1.09375 4.867188 1.324219 4.695313 1.488281 C 4.515625 1.652344 4.285156 1.78125 3.996094 1.878906 C 3.703125 1.96875 3.332031 2.015625 2.886719 2.019531 C 2.039063 2.015625 1.441406 1.871094 1.089844 1.585938 C 0.738281 1.292969 0.5625 0.925781 0.5625 0.488281 C 0.5625 0.441406 0.5625 0.390625 0.566406 0.328125 Z M 1.742188 -2.59375 C 1.738281 -2.0625 1.84375 -1.675781 2.050781 -1.429688 C 2.253906 -1.183594 2.503906 -1.058594 2.808594 -1.0625 C 3.125 -1.058594 3.398438 -1.1875 3.621094 -1.441406 C 3.84375 -1.691406 3.953125 -2.0625 3.957031 -2.558594 C 3.953125 -3.070313 3.847656 -3.453125 3.636719 -3.707031 C 3.421875 -3.953125 3.152344 -4.078125 2.832031 -4.082031 C 2.511719 -4.078125 2.253906 -3.957031 2.050781 -3.714844 C 1.84375 -3.46875 1.738281 -3.09375 1.742188 -2.59375 Z M 1.742188 -2.59375 \"/>\n",
       "</symbol>\n",
       "<symbol overflow=\"visible\" id=\"glyph3-3\">\n",
       "<path style=\"stroke:none;\" d=\"M 0.699219 0 L 0.699219 -6.871094 L 2.925781 -6.871094 C 3.765625 -6.867188 4.316406 -6.832031 4.574219 -6.769531 C 4.964844 -6.660156 5.292969 -6.4375 5.5625 -6.09375 C 5.824219 -5.75 5.957031 -5.304688 5.960938 -4.757813 C 5.957031 -4.335938 5.882813 -3.980469 5.730469 -3.691406 C 5.578125 -3.402344 5.382813 -3.175781 5.148438 -3.015625 C 4.910156 -2.847656 4.671875 -2.738281 4.429688 -2.691406 C 4.097656 -2.621094 3.617188 -2.589844 2.992188 -2.59375 L 2.085938 -2.59375 L 2.085938 0 Z M 2.085938 -5.710938 L 2.085938 -3.757813 L 2.84375 -3.757813 C 3.386719 -3.753906 3.753906 -3.792969 3.941406 -3.867188 C 4.125 -3.9375 4.269531 -4.046875 4.375 -4.203125 C 4.476563 -4.351563 4.527344 -4.53125 4.53125 -4.738281 C 4.527344 -4.984375 4.457031 -5.191406 4.3125 -5.355469 C 4.164063 -5.519531 3.976563 -5.621094 3.753906 -5.664063 C 3.585938 -5.691406 3.253906 -5.707031 2.757813 -5.710938 Z M 2.085938 -5.710938 \"/>\n",
       "</symbol>\n",
       "<symbol overflow=\"visible\" id=\"glyph3-4\">\n",
       "<path style=\"stroke:none;\" d=\"M 1.949219 0 L 0.632813 0 L 0.632813 -4.976563 L 1.855469 -4.976563 L 1.855469 -4.269531 C 2.0625 -4.601563 2.25 -4.820313 2.421875 -4.929688 C 2.585938 -5.03125 2.777344 -5.085938 2.992188 -5.089844 C 3.289063 -5.085938 3.578125 -5.003906 3.859375 -4.84375 L 3.449219 -3.695313 C 3.226563 -3.835938 3.019531 -3.90625 2.832031 -3.910156 C 2.644531 -3.90625 2.488281 -3.855469 2.363281 -3.757813 C 2.230469 -3.652344 2.128906 -3.46875 2.058594 -3.207031 C 1.980469 -2.9375 1.945313 -2.382813 1.949219 -1.539063 Z M 1.949219 0 \"/>\n",
       "</symbol>\n",
       "<symbol overflow=\"visible\" id=\"glyph3-5\">\n",
       "<path style=\"stroke:none;\" d=\"M 0.6875 -5.652344 L 0.6875 -6.871094 L 2.007813 -6.871094 L 2.007813 -5.652344 Z M 0.6875 0 L 0.6875 -4.976563 L 2.007813 -4.976563 L 2.007813 0 Z M 0.6875 0 \"/>\n",
       "</symbol>\n",
       "<symbol overflow=\"visible\" id=\"glyph3-6\">\n",
       "<path style=\"stroke:none;\" d=\"M 5.03125 -3.507813 L 3.730469 -3.273438 C 3.683594 -3.527344 3.585938 -3.722656 3.433594 -3.855469 C 3.277344 -3.988281 3.074219 -4.054688 2.832031 -4.054688 C 2.5 -4.054688 2.238281 -3.941406 2.046875 -3.714844 C 1.847656 -3.488281 1.75 -3.109375 1.753906 -2.578125 C 1.75 -1.984375 1.851563 -1.566406 2.050781 -1.324219 C 2.246094 -1.082031 2.511719 -0.960938 2.851563 -0.960938 C 3.097656 -0.960938 3.300781 -1.03125 3.464844 -1.171875 C 3.621094 -1.3125 3.734375 -1.554688 3.800781 -1.90625 L 5.09375 -1.6875 C 4.957031 -1.09375 4.699219 -0.644531 4.320313 -0.339844 C 3.9375 -0.0390625 3.429688 0.109375 2.789063 0.113281 C 2.058594 0.109375 1.476563 -0.117188 1.046875 -0.574219 C 0.613281 -1.035156 0.398438 -1.671875 0.398438 -2.484375 C 0.398438 -3.304688 0.613281 -3.941406 1.050781 -4.402344 C 1.480469 -4.855469 2.070313 -5.085938 2.8125 -5.089844 C 3.417969 -5.085938 3.898438 -4.957031 4.257813 -4.699219 C 4.613281 -4.4375 4.871094 -4.039063 5.03125 -3.507813 Z M 5.03125 -3.507813 \"/>\n",
       "</symbol>\n",
       "<symbol overflow=\"visible\" id=\"glyph3-7\">\n",
       "<path style=\"stroke:none;\" d=\"M 3.570313 -1.585938 L 4.882813 -1.363281 C 4.710938 -0.878906 4.445313 -0.511719 4.085938 -0.261719 C 3.71875 -0.0117188 3.265625 0.109375 2.71875 0.113281 C 1.851563 0.109375 1.210938 -0.167969 0.796875 -0.734375 C 0.46875 -1.183594 0.304688 -1.757813 0.304688 -2.453125 C 0.304688 -3.273438 0.519531 -3.917969 0.949219 -4.386719 C 1.378906 -4.851563 1.921875 -5.085938 2.585938 -5.089844 C 3.324219 -5.085938 3.910156 -4.839844 4.339844 -4.355469 C 4.765625 -3.863281 4.96875 -3.117188 4.953125 -2.109375 L 1.65625 -2.109375 C 1.660156 -1.71875 1.765625 -1.414063 1.972656 -1.195313 C 2.171875 -0.976563 2.425781 -0.867188 2.734375 -0.871094 C 2.9375 -0.867188 3.109375 -0.921875 3.253906 -1.039063 C 3.390625 -1.148438 3.496094 -1.332031 3.570313 -1.585938 Z M 3.648438 -2.914063 C 3.636719 -3.292969 3.539063 -3.585938 3.351563 -3.785156 C 3.164063 -3.980469 2.933594 -4.078125 2.667969 -4.082031 C 2.375 -4.078125 2.136719 -3.972656 1.953125 -3.769531 C 1.761719 -3.554688 1.671875 -3.269531 1.679688 -2.914063 Z M 3.648438 -2.914063 \"/>\n",
       "</symbol>\n",
       "</g>\n",
       "<clipPath id=\"clip1\">\n",
       "  <path d=\"M 40.753906 14.398438 L 412.347656 14.398438 L 412.347656 468.050781 L 40.753906 468.050781 Z M 40.753906 14.398438 \"/>\n",
       "</clipPath>\n",
       "<clipPath id=\"clip2\">\n",
       "  <path d=\"M 425.632813 203.277344 L 442.914063 203.277344 L 442.914063 289.675781 L 425.632813 289.675781 Z M 425.632813 203.277344 \"/>\n",
       "</clipPath>\n",
       "<image id=\"image14\" width=\"1\" height=\"26\" xlink:href=\"data:image/png;base64,iVBORw0KGgoAAAANSUhEUgAAAAEAAAAaCAIAAAD5ZqGGAAAABmJLR0QA/wD/AP+gvaeTAAAAOElEQVQImVWKyQ0AIAzDUNK0MBxjsRLz8SiHeNmyXPqYaCKqESGiGhBKDzv8m4sIIbkf1+F7bzMu7l0DJT+EWt0AAAAASUVORK5CYII=\"/>\n",
       "<pattern id=\"pattern0\" patternUnits=\"userSpaceOnUse\" width=\"1\" height=\"26\"  patternTransform=\"matrix(17.28,0,0,3.323077,425.633386,203.275834)\">\n",
       "  <use xlink:href=\"#image14\"/>\n",
       "</pattern>\n",
       "</defs>\n",
       "<g id=\"surface10\">\n",
       "<rect x=\"0\" y=\"0\" width=\"504\" height=\"504\" style=\"fill:rgb(100%,100%,100%);fill-opacity:1;stroke:none;\"/>\n",
       "<rect x=\"0\" y=\"0\" width=\"504\" height=\"504\" style=\"fill:rgb(100%,100%,100%);fill-opacity:1;stroke:none;\"/>\n",
       "<path style=\"fill:none;stroke-width:1.062992;stroke-linecap:round;stroke-linejoin:round;stroke:rgb(100%,100%,100%);stroke-opacity:1;stroke-miterlimit:10;\" d=\"M 0 504 L 504 504 L 504 0 L 0 0 Z M 0 504 \"/>\n",
       "<g clip-path=\"url(#clip1)\" clip-rule=\"nonzero\">\n",
       "<path style=\" stroke:none;fill-rule:nonzero;fill:rgb(89.803922%,89.803922%,89.803922%);fill-opacity:1;\" d=\"M 40.753906 467.050781 L 411.347656 467.050781 L 411.347656 14.398438 L 40.753906 14.398438 Z M 40.753906 467.050781 \"/>\n",
       "<path style=\"fill:none;stroke-width:1.062992;stroke-linecap:butt;stroke-linejoin:round;stroke:rgb(100%,100%,100%);stroke-opacity:1;stroke-miterlimit:10;\" d=\"M 40.753906 461.746094 L 411.347656 461.746094 \"/>\n",
       "<path style=\"fill:none;stroke-width:1.062992;stroke-linecap:butt;stroke-linejoin:round;stroke:rgb(100%,100%,100%);stroke-opacity:1;stroke-miterlimit:10;\" d=\"M 40.753906 452.90625 L 411.347656 452.90625 \"/>\n",
       "<path style=\"fill:none;stroke-width:1.062992;stroke-linecap:butt;stroke-linejoin:round;stroke:rgb(100%,100%,100%);stroke-opacity:1;stroke-miterlimit:10;\" d=\"M 40.753906 444.066406 L 411.347656 444.066406 \"/>\n",
       "<path style=\"fill:none;stroke-width:1.062992;stroke-linecap:butt;stroke-linejoin:round;stroke:rgb(100%,100%,100%);stroke-opacity:1;stroke-miterlimit:10;\" d=\"M 40.753906 435.222656 L 411.347656 435.222656 \"/>\n",
       "<path style=\"fill:none;stroke-width:1.062992;stroke-linecap:butt;stroke-linejoin:round;stroke:rgb(100%,100%,100%);stroke-opacity:1;stroke-miterlimit:10;\" d=\"M 40.753906 426.382813 L 411.347656 426.382813 \"/>\n",
       "<path style=\"fill:none;stroke-width:1.062992;stroke-linecap:butt;stroke-linejoin:round;stroke:rgb(100%,100%,100%);stroke-opacity:1;stroke-miterlimit:10;\" d=\"M 40.753906 417.542969 L 411.347656 417.542969 \"/>\n",
       "<path style=\"fill:none;stroke-width:1.062992;stroke-linecap:butt;stroke-linejoin:round;stroke:rgb(100%,100%,100%);stroke-opacity:1;stroke-miterlimit:10;\" d=\"M 40.753906 408.703125 L 411.347656 408.703125 \"/>\n",
       "<path style=\"fill:none;stroke-width:1.062992;stroke-linecap:butt;stroke-linejoin:round;stroke:rgb(100%,100%,100%);stroke-opacity:1;stroke-miterlimit:10;\" d=\"M 40.753906 399.859375 L 411.347656 399.859375 \"/>\n",
       "<path style=\"fill:none;stroke-width:1.062992;stroke-linecap:butt;stroke-linejoin:round;stroke:rgb(100%,100%,100%);stroke-opacity:1;stroke-miterlimit:10;\" d=\"M 40.753906 391.019531 L 411.347656 391.019531 \"/>\n",
       "<path style=\"fill:none;stroke-width:1.062992;stroke-linecap:butt;stroke-linejoin:round;stroke:rgb(100%,100%,100%);stroke-opacity:1;stroke-miterlimit:10;\" d=\"M 40.753906 382.179688 L 411.347656 382.179688 \"/>\n",
       "<path style=\"fill:none;stroke-width:1.062992;stroke-linecap:butt;stroke-linejoin:round;stroke:rgb(100%,100%,100%);stroke-opacity:1;stroke-miterlimit:10;\" d=\"M 40.753906 373.339844 L 411.347656 373.339844 \"/>\n",
       "<path style=\"fill:none;stroke-width:1.062992;stroke-linecap:butt;stroke-linejoin:round;stroke:rgb(100%,100%,100%);stroke-opacity:1;stroke-miterlimit:10;\" d=\"M 40.753906 364.496094 L 411.347656 364.496094 \"/>\n",
       "<path style=\"fill:none;stroke-width:1.062992;stroke-linecap:butt;stroke-linejoin:round;stroke:rgb(100%,100%,100%);stroke-opacity:1;stroke-miterlimit:10;\" d=\"M 40.753906 355.65625 L 411.347656 355.65625 \"/>\n",
       "<path style=\"fill:none;stroke-width:1.062992;stroke-linecap:butt;stroke-linejoin:round;stroke:rgb(100%,100%,100%);stroke-opacity:1;stroke-miterlimit:10;\" d=\"M 40.753906 346.816406 L 411.347656 346.816406 \"/>\n",
       "<path style=\"fill:none;stroke-width:1.062992;stroke-linecap:butt;stroke-linejoin:round;stroke:rgb(100%,100%,100%);stroke-opacity:1;stroke-miterlimit:10;\" d=\"M 40.753906 337.976563 L 411.347656 337.976563 \"/>\n",
       "<path style=\"fill:none;stroke-width:1.062992;stroke-linecap:butt;stroke-linejoin:round;stroke:rgb(100%,100%,100%);stroke-opacity:1;stroke-miterlimit:10;\" d=\"M 40.753906 329.132813 L 411.347656 329.132813 \"/>\n",
       "<path style=\"fill:none;stroke-width:1.062992;stroke-linecap:butt;stroke-linejoin:round;stroke:rgb(100%,100%,100%);stroke-opacity:1;stroke-miterlimit:10;\" d=\"M 40.753906 320.292969 L 411.347656 320.292969 \"/>\n",
       "<path style=\"fill:none;stroke-width:1.062992;stroke-linecap:butt;stroke-linejoin:round;stroke:rgb(100%,100%,100%);stroke-opacity:1;stroke-miterlimit:10;\" d=\"M 40.753906 311.453125 L 411.347656 311.453125 \"/>\n",
       "<path style=\"fill:none;stroke-width:1.062992;stroke-linecap:butt;stroke-linejoin:round;stroke:rgb(100%,100%,100%);stroke-opacity:1;stroke-miterlimit:10;\" d=\"M 40.753906 302.613281 L 411.347656 302.613281 \"/>\n",
       "<path style=\"fill:none;stroke-width:1.062992;stroke-linecap:butt;stroke-linejoin:round;stroke:rgb(100%,100%,100%);stroke-opacity:1;stroke-miterlimit:10;\" d=\"M 40.753906 293.769531 L 411.347656 293.769531 \"/>\n",
       "<path style=\"fill:none;stroke-width:1.062992;stroke-linecap:butt;stroke-linejoin:round;stroke:rgb(100%,100%,100%);stroke-opacity:1;stroke-miterlimit:10;\" d=\"M 40.753906 284.929688 L 411.347656 284.929688 \"/>\n",
       "<path style=\"fill:none;stroke-width:1.062992;stroke-linecap:butt;stroke-linejoin:round;stroke:rgb(100%,100%,100%);stroke-opacity:1;stroke-miterlimit:10;\" d=\"M 40.753906 276.089844 L 411.347656 276.089844 \"/>\n",
       "<path style=\"fill:none;stroke-width:1.062992;stroke-linecap:butt;stroke-linejoin:round;stroke:rgb(100%,100%,100%);stroke-opacity:1;stroke-miterlimit:10;\" d=\"M 40.753906 267.25 L 411.347656 267.25 \"/>\n",
       "<path style=\"fill:none;stroke-width:1.062992;stroke-linecap:butt;stroke-linejoin:round;stroke:rgb(100%,100%,100%);stroke-opacity:1;stroke-miterlimit:10;\" d=\"M 40.753906 258.40625 L 411.347656 258.40625 \"/>\n",
       "<path style=\"fill:none;stroke-width:1.062992;stroke-linecap:butt;stroke-linejoin:round;stroke:rgb(100%,100%,100%);stroke-opacity:1;stroke-miterlimit:10;\" d=\"M 40.753906 249.566406 L 411.347656 249.566406 \"/>\n",
       "<path style=\"fill:none;stroke-width:1.062992;stroke-linecap:butt;stroke-linejoin:round;stroke:rgb(100%,100%,100%);stroke-opacity:1;stroke-miterlimit:10;\" d=\"M 40.753906 240.726563 L 411.347656 240.726563 \"/>\n",
       "<path style=\"fill:none;stroke-width:1.062992;stroke-linecap:butt;stroke-linejoin:round;stroke:rgb(100%,100%,100%);stroke-opacity:1;stroke-miterlimit:10;\" d=\"M 40.753906 231.886719 L 411.347656 231.886719 \"/>\n",
       "<path style=\"fill:none;stroke-width:1.062992;stroke-linecap:butt;stroke-linejoin:round;stroke:rgb(100%,100%,100%);stroke-opacity:1;stroke-miterlimit:10;\" d=\"M 40.753906 223.042969 L 411.347656 223.042969 \"/>\n",
       "<path style=\"fill:none;stroke-width:1.062992;stroke-linecap:butt;stroke-linejoin:round;stroke:rgb(100%,100%,100%);stroke-opacity:1;stroke-miterlimit:10;\" d=\"M 40.753906 214.203125 L 411.347656 214.203125 \"/>\n",
       "<path style=\"fill:none;stroke-width:1.062992;stroke-linecap:butt;stroke-linejoin:round;stroke:rgb(100%,100%,100%);stroke-opacity:1;stroke-miterlimit:10;\" d=\"M 40.753906 205.363281 L 411.347656 205.363281 \"/>\n",
       "<path style=\"fill:none;stroke-width:1.062992;stroke-linecap:butt;stroke-linejoin:round;stroke:rgb(100%,100%,100%);stroke-opacity:1;stroke-miterlimit:10;\" d=\"M 40.753906 196.523438 L 411.347656 196.523438 \"/>\n",
       "<path style=\"fill:none;stroke-width:1.062992;stroke-linecap:butt;stroke-linejoin:round;stroke:rgb(100%,100%,100%);stroke-opacity:1;stroke-miterlimit:10;\" d=\"M 40.753906 187.679688 L 411.347656 187.679688 \"/>\n",
       "<path style=\"fill:none;stroke-width:1.062992;stroke-linecap:butt;stroke-linejoin:round;stroke:rgb(100%,100%,100%);stroke-opacity:1;stroke-miterlimit:10;\" d=\"M 40.753906 178.839844 L 411.347656 178.839844 \"/>\n",
       "<path style=\"fill:none;stroke-width:1.062992;stroke-linecap:butt;stroke-linejoin:round;stroke:rgb(100%,100%,100%);stroke-opacity:1;stroke-miterlimit:10;\" d=\"M 40.753906 170 L 411.347656 170 \"/>\n",
       "<path style=\"fill:none;stroke-width:1.062992;stroke-linecap:butt;stroke-linejoin:round;stroke:rgb(100%,100%,100%);stroke-opacity:1;stroke-miterlimit:10;\" d=\"M 40.753906 161.15625 L 411.347656 161.15625 \"/>\n",
       "<path style=\"fill:none;stroke-width:1.062992;stroke-linecap:butt;stroke-linejoin:round;stroke:rgb(100%,100%,100%);stroke-opacity:1;stroke-miterlimit:10;\" d=\"M 40.753906 152.316406 L 411.347656 152.316406 \"/>\n",
       "<path style=\"fill:none;stroke-width:1.062992;stroke-linecap:butt;stroke-linejoin:round;stroke:rgb(100%,100%,100%);stroke-opacity:1;stroke-miterlimit:10;\" d=\"M 40.753906 143.476563 L 411.347656 143.476563 \"/>\n",
       "<path style=\"fill:none;stroke-width:1.062992;stroke-linecap:butt;stroke-linejoin:round;stroke:rgb(100%,100%,100%);stroke-opacity:1;stroke-miterlimit:10;\" d=\"M 40.753906 134.636719 L 411.347656 134.636719 \"/>\n",
       "<path style=\"fill:none;stroke-width:1.062992;stroke-linecap:butt;stroke-linejoin:round;stroke:rgb(100%,100%,100%);stroke-opacity:1;stroke-miterlimit:10;\" d=\"M 40.753906 125.792969 L 411.347656 125.792969 \"/>\n",
       "<path style=\"fill:none;stroke-width:1.062992;stroke-linecap:butt;stroke-linejoin:round;stroke:rgb(100%,100%,100%);stroke-opacity:1;stroke-miterlimit:10;\" d=\"M 40.753906 116.953125 L 411.347656 116.953125 \"/>\n",
       "<path style=\"fill:none;stroke-width:1.062992;stroke-linecap:butt;stroke-linejoin:round;stroke:rgb(100%,100%,100%);stroke-opacity:1;stroke-miterlimit:10;\" d=\"M 40.753906 108.113281 L 411.347656 108.113281 \"/>\n",
       "<path style=\"fill:none;stroke-width:1.062992;stroke-linecap:butt;stroke-linejoin:round;stroke:rgb(100%,100%,100%);stroke-opacity:1;stroke-miterlimit:10;\" d=\"M 40.753906 99.273438 L 411.347656 99.273438 \"/>\n",
       "<path style=\"fill:none;stroke-width:1.062992;stroke-linecap:butt;stroke-linejoin:round;stroke:rgb(100%,100%,100%);stroke-opacity:1;stroke-miterlimit:10;\" d=\"M 40.753906 90.429688 L 411.347656 90.429688 \"/>\n",
       "<path style=\"fill:none;stroke-width:1.062992;stroke-linecap:butt;stroke-linejoin:round;stroke:rgb(100%,100%,100%);stroke-opacity:1;stroke-miterlimit:10;\" d=\"M 40.753906 81.589844 L 411.347656 81.589844 \"/>\n",
       "<path style=\"fill:none;stroke-width:1.062992;stroke-linecap:butt;stroke-linejoin:round;stroke:rgb(100%,100%,100%);stroke-opacity:1;stroke-miterlimit:10;\" d=\"M 40.753906 72.75 L 411.347656 72.75 \"/>\n",
       "<path style=\"fill:none;stroke-width:1.062992;stroke-linecap:butt;stroke-linejoin:round;stroke:rgb(100%,100%,100%);stroke-opacity:1;stroke-miterlimit:10;\" d=\"M 40.753906 63.910156 L 411.347656 63.910156 \"/>\n",
       "<path style=\"fill:none;stroke-width:1.062992;stroke-linecap:butt;stroke-linejoin:round;stroke:rgb(100%,100%,100%);stroke-opacity:1;stroke-miterlimit:10;\" d=\"M 40.753906 55.066406 L 411.347656 55.066406 \"/>\n",
       "<path style=\"fill:none;stroke-width:1.062992;stroke-linecap:butt;stroke-linejoin:round;stroke:rgb(100%,100%,100%);stroke-opacity:1;stroke-miterlimit:10;\" d=\"M 40.753906 46.226563 L 411.347656 46.226563 \"/>\n",
       "<path style=\"fill:none;stroke-width:1.062992;stroke-linecap:butt;stroke-linejoin:round;stroke:rgb(100%,100%,100%);stroke-opacity:1;stroke-miterlimit:10;\" d=\"M 40.753906 37.386719 L 411.347656 37.386719 \"/>\n",
       "<path style=\"fill:none;stroke-width:1.062992;stroke-linecap:butt;stroke-linejoin:round;stroke:rgb(100%,100%,100%);stroke-opacity:1;stroke-miterlimit:10;\" d=\"M 40.753906 28.546875 L 411.347656 28.546875 \"/>\n",
       "<path style=\"fill:none;stroke-width:1.062992;stroke-linecap:butt;stroke-linejoin:round;stroke:rgb(100%,100%,100%);stroke-opacity:1;stroke-miterlimit:10;\" d=\"M 40.753906 19.703125 L 411.347656 19.703125 \"/>\n",
       "<path style=\"fill:none;stroke-width:1.062992;stroke-linecap:butt;stroke-linejoin:round;stroke:rgb(100%,100%,100%);stroke-opacity:1;stroke-miterlimit:10;\" d=\"M 93.695313 467.050781 L 93.695313 14.398438 \"/>\n",
       "<path style=\"fill:none;stroke-width:1.062992;stroke-linecap:butt;stroke-linejoin:round;stroke:rgb(100%,100%,100%);stroke-opacity:1;stroke-miterlimit:10;\" d=\"M 181.933594 467.050781 L 181.933594 14.398438 \"/>\n",
       "<path style=\"fill:none;stroke-width:1.062992;stroke-linecap:butt;stroke-linejoin:round;stroke:rgb(100%,100%,100%);stroke-opacity:1;stroke-miterlimit:10;\" d=\"M 270.167969 467.050781 L 270.167969 14.398438 \"/>\n",
       "<path style=\"fill:none;stroke-width:1.062992;stroke-linecap:butt;stroke-linejoin:round;stroke:rgb(100%,100%,100%);stroke-opacity:1;stroke-miterlimit:10;\" d=\"M 358.40625 467.050781 L 358.40625 14.398438 \"/>\n",
       "<path style=\"fill-rule:nonzero;fill:rgb(85.490196%,89.019608%,93.72549%);fill-opacity:1;stroke-width:0.212598;stroke-linecap:butt;stroke-linejoin:round;stroke:rgb(100%,100%,100%);stroke-opacity:1;stroke-miterlimit:10;\" d=\"M 314.285156 377.757813 L 402.519531 377.757813 L 402.519531 368.917969 L 314.285156 368.917969 Z M 314.285156 377.757813 \"/>\n",
       "<path style=\"fill-rule:nonzero;fill:rgb(81.176471%,85.882353%,91.764706%);fill-opacity:1;stroke-width:0.212598;stroke-linecap:butt;stroke-linejoin:round;stroke:rgb(100%,100%,100%);stroke-opacity:1;stroke-miterlimit:10;\" d=\"M 49.578125 253.988281 L 137.8125 253.988281 L 137.8125 245.148438 L 49.578125 245.148438 Z M 49.578125 253.988281 \"/>\n",
       "<path style=\"fill-rule:nonzero;fill:rgb(87.843137%,90.588235%,94.509804%);fill-opacity:1;stroke-width:0.212598;stroke-linecap:butt;stroke-linejoin:round;stroke:rgb(100%,100%,100%);stroke-opacity:1;stroke-miterlimit:10;\" d=\"M 314.285156 192.101563 L 402.519531 192.101563 L 402.519531 183.261719 L 314.285156 183.261719 Z M 314.285156 192.101563 \"/>\n",
       "<path style=\"fill-rule:nonzero;fill:rgb(67.058824%,75.686275%,85.490196%);fill-opacity:1;stroke-width:0.212598;stroke-linecap:butt;stroke-linejoin:round;stroke:rgb(100%,100%,100%);stroke-opacity:1;stroke-miterlimit:10;\" d=\"M 49.578125 245.144531 L 137.8125 245.144531 L 137.8125 236.304688 L 49.578125 236.304688 Z M 49.578125 245.144531 \"/>\n",
       "<path style=\"fill-rule:nonzero;fill:rgb(51.764706%,65.098039%,79.607843%);fill-opacity:1;stroke-width:0.212598;stroke-linecap:butt;stroke-linejoin:round;stroke:rgb(100%,100%,100%);stroke-opacity:1;stroke-miterlimit:10;\" d=\"M 314.285156 41.808594 L 402.519531 41.808594 L 402.519531 32.96875 L 314.285156 32.96875 Z M 314.285156 41.808594 \"/>\n",
       "<path style=\"fill-rule:nonzero;fill:rgb(98.039216%,98.431373%,99.215686%);fill-opacity:1;stroke-width:0.212598;stroke-linecap:butt;stroke-linejoin:round;stroke:rgb(100%,100%,100%);stroke-opacity:1;stroke-miterlimit:10;\" d=\"M 137.8125 368.917969 L 226.046875 368.917969 L 226.046875 360.078125 L 137.8125 360.078125 Z M 137.8125 368.917969 \"/>\n",
       "<path style=\"fill-rule:nonzero;fill:rgb(74.117647%,80.784314%,88.627451%);fill-opacity:1;stroke-width:0.212598;stroke-linecap:butt;stroke-linejoin:round;stroke:rgb(100%,100%,100%);stroke-opacity:1;stroke-miterlimit:10;\" d=\"M 49.578125 227.464844 L 137.8125 227.464844 L 137.8125 218.625 L 49.578125 218.625 Z M 49.578125 227.464844 \"/>\n",
       "<path style=\"fill-rule:nonzero;fill:rgb(77.647059%,83.137255%,90.196078%);fill-opacity:1;stroke-width:0.212598;stroke-linecap:butt;stroke-linejoin:round;stroke:rgb(100%,100%,100%);stroke-opacity:1;stroke-miterlimit:10;\" d=\"M 314.285156 32.964844 L 402.519531 32.964844 L 402.519531 24.125 L 314.285156 24.125 Z M 314.285156 32.964844 \"/>\n",
       "<path style=\"fill-rule:nonzero;fill:rgb(81.176471%,85.882353%,91.764706%);fill-opacity:1;stroke-width:0.212598;stroke-linecap:butt;stroke-linejoin:round;stroke:rgb(100%,100%,100%);stroke-opacity:1;stroke-miterlimit:10;\" d=\"M 226.050781 457.328125 L 314.285156 457.328125 L 314.285156 448.488281 L 226.050781 448.488281 Z M 226.050781 457.328125 \"/>\n",
       "<path style=\"fill-rule:nonzero;fill:rgb(96.862745%,97.647059%,98.431373%);fill-opacity:1;stroke-width:0.212598;stroke-linecap:butt;stroke-linejoin:round;stroke:rgb(100%,100%,100%);stroke-opacity:1;stroke-miterlimit:10;\" d=\"M 137.8125 315.875 L 226.046875 315.875 L 226.046875 307.035156 L 137.8125 307.035156 Z M 137.8125 315.875 \"/>\n",
       "<path style=\"fill-rule:nonzero;fill:rgb(89.019608%,91.764706%,95.294118%);fill-opacity:1;stroke-width:0.212598;stroke-linecap:butt;stroke-linejoin:round;stroke:rgb(100%,100%,100%);stroke-opacity:1;stroke-miterlimit:10;\" d=\"M 137.8125 307.03125 L 226.046875 307.03125 L 226.046875 298.191406 L 137.8125 298.191406 Z M 137.8125 307.03125 \"/>\n",
       "<path style=\"fill-rule:nonzero;fill:rgb(27.45098%,50.588235%,70.196078%);fill-opacity:1;stroke-width:0.212598;stroke-linecap:butt;stroke-linejoin:round;stroke:rgb(100%,100%,100%);stroke-opacity:1;stroke-miterlimit:10;\" d=\"M 226.050781 448.484375 L 314.285156 448.484375 L 314.285156 439.644531 L 226.050781 439.644531 Z M 226.050781 448.484375 \"/>\n",
       "<path style=\"fill-rule:nonzero;fill:rgb(86.666667%,90.196078%,94.117647%);fill-opacity:1;stroke-width:0.212598;stroke-linecap:butt;stroke-linejoin:round;stroke:rgb(100%,100%,100%);stroke-opacity:1;stroke-miterlimit:10;\" d=\"M 226.050781 439.644531 L 314.285156 439.644531 L 314.285156 430.804688 L 226.050781 430.804688 Z M 226.050781 439.644531 \"/>\n",
       "<path style=\"fill-rule:nonzero;fill:rgb(92.156863%,94.117647%,96.470588%);fill-opacity:1;stroke-width:0.212598;stroke-linecap:butt;stroke-linejoin:round;stroke:rgb(100%,100%,100%);stroke-opacity:1;stroke-miterlimit:10;\" d=\"M 226.050781 430.804688 L 314.285156 430.804688 L 314.285156 421.964844 L 226.050781 421.964844 Z M 226.050781 430.804688 \"/>\n",
       "<path style=\"fill-rule:nonzero;fill:rgb(96.078431%,96.862745%,98.039216%);fill-opacity:1;stroke-width:0.212598;stroke-linecap:butt;stroke-linejoin:round;stroke:rgb(100%,100%,100%);stroke-opacity:1;stroke-miterlimit:10;\" d=\"M 137.8125 289.351563 L 226.046875 289.351563 L 226.046875 280.511719 L 137.8125 280.511719 Z M 137.8125 289.351563 \"/>\n",
       "<path style=\"fill-rule:nonzero;fill:rgb(91.764706%,93.72549%,96.470588%);fill-opacity:1;stroke-width:0.212598;stroke-linecap:butt;stroke-linejoin:round;stroke:rgb(100%,100%,100%);stroke-opacity:1;stroke-miterlimit:10;\" d=\"M 49.578125 165.578125 L 137.8125 165.578125 L 137.8125 156.738281 L 49.578125 156.738281 Z M 49.578125 165.578125 \"/>\n",
       "<path style=\"fill-rule:nonzero;fill:rgb(77.254902%,83.137255%,90.196078%);fill-opacity:1;stroke-width:0.212598;stroke-linecap:butt;stroke-linejoin:round;stroke:rgb(100%,100%,100%);stroke-opacity:1;stroke-miterlimit:10;\" d=\"M 49.578125 156.738281 L 137.8125 156.738281 L 137.8125 147.898438 L 49.578125 147.898438 Z M 49.578125 156.738281 \"/>\n",
       "<path style=\"fill-rule:nonzero;fill:rgb(98.039216%,98.431373%,98.823529%);fill-opacity:1;stroke-width:0.212598;stroke-linecap:butt;stroke-linejoin:round;stroke:rgb(100%,100%,100%);stroke-opacity:1;stroke-miterlimit:10;\" d=\"M 137.8125 271.667969 L 226.046875 271.667969 L 226.046875 262.828125 L 137.8125 262.828125 Z M 137.8125 271.667969 \"/>\n",
       "<path style=\"fill-rule:nonzero;fill:rgb(95.686275%,96.862745%,98.039216%);fill-opacity:1;stroke-width:0.212598;stroke-linecap:butt;stroke-linejoin:round;stroke:rgb(100%,100%,100%);stroke-opacity:1;stroke-miterlimit:10;\" d=\"M 226.050781 360.078125 L 314.285156 360.078125 L 314.285156 351.238281 L 226.050781 351.238281 Z M 226.050781 360.078125 \"/>\n",
       "<path style=\"fill-rule:nonzero;fill:rgb(94.901961%,96.078431%,97.647059%);fill-opacity:1;stroke-width:0.212598;stroke-linecap:butt;stroke-linejoin:round;stroke:rgb(100%,100%,100%);stroke-opacity:1;stroke-miterlimit:10;\" d=\"M 226.050781 351.238281 L 314.285156 351.238281 L 314.285156 342.398438 L 226.050781 342.398438 Z M 226.050781 351.238281 \"/>\n",
       "<path style=\"fill-rule:nonzero;fill:rgb(96.470588%,97.254902%,98.431373%);fill-opacity:1;stroke-width:0.212598;stroke-linecap:butt;stroke-linejoin:round;stroke:rgb(100%,100%,100%);stroke-opacity:1;stroke-miterlimit:10;\" d=\"M 137.8125 209.78125 L 226.046875 209.78125 L 226.046875 200.941406 L 137.8125 200.941406 Z M 137.8125 209.78125 \"/>\n",
       "<path style=\"fill-rule:nonzero;fill:rgb(96.470588%,97.254902%,98.431373%);fill-opacity:1;stroke-width:0.212598;stroke-linecap:butt;stroke-linejoin:round;stroke:rgb(100%,100%,100%);stroke-opacity:1;stroke-miterlimit:10;\" d=\"M 137.8125 200.941406 L 226.046875 200.941406 L 226.046875 192.101563 L 137.8125 192.101563 Z M 137.8125 200.941406 \"/>\n",
       "<path style=\"fill-rule:nonzero;fill:rgb(70.196078%,78.039216%,87.058824%);fill-opacity:1;stroke-width:0.212598;stroke-linecap:butt;stroke-linejoin:round;stroke:rgb(100%,100%,100%);stroke-opacity:1;stroke-miterlimit:10;\" d=\"M 226.050781 333.554688 L 314.285156 333.554688 L 314.285156 324.714844 L 226.050781 324.714844 Z M 226.050781 333.554688 \"/>\n",
       "<path style=\"fill-rule:nonzero;fill:rgb(100%,100%,100%);fill-opacity:1;stroke-width:0.212598;stroke-linecap:butt;stroke-linejoin:round;stroke:rgb(100%,100%,100%);stroke-opacity:1;stroke-miterlimit:10;\" d=\"M 226.050781 298.191406 L 314.285156 298.191406 L 314.285156 289.351563 L 226.050781 289.351563 Z M 226.050781 298.191406 \"/>\n",
       "<path style=\"fill-rule:nonzero;fill:rgb(34.117647%,54.509804%,72.54902%);fill-opacity:1;stroke-width:0.212598;stroke-linecap:butt;stroke-linejoin:round;stroke:rgb(100%,100%,100%);stroke-opacity:1;stroke-miterlimit:10;\" d=\"M 314.285156 421.964844 L 402.519531 421.964844 L 402.519531 413.125 L 314.285156 413.125 Z M 314.285156 421.964844 \"/>\n",
       "<path style=\"fill-rule:nonzero;fill:rgb(90.980392%,93.333333%,96.078431%);fill-opacity:1;stroke-width:0.212598;stroke-linecap:butt;stroke-linejoin:round;stroke:rgb(100%,100%,100%);stroke-opacity:1;stroke-miterlimit:10;\" d=\"M 314.285156 413.121094 L 402.519531 413.121094 L 402.519531 404.28125 L 314.285156 404.28125 Z M 314.285156 413.121094 \"/>\n",
       "<path style=\"fill-rule:nonzero;fill:rgb(83.529412%,87.45098%,92.941176%);fill-opacity:1;stroke-width:0.212598;stroke-linecap:butt;stroke-linejoin:round;stroke:rgb(100%,100%,100%);stroke-opacity:1;stroke-miterlimit:10;\" d=\"M 49.578125 94.851563 L 137.8125 94.851563 L 137.8125 86.011719 L 49.578125 86.011719 Z M 49.578125 94.851563 \"/>\n",
       "<path style=\"fill-rule:nonzero;fill:rgb(97.254902%,98.039216%,98.823529%);fill-opacity:1;stroke-width:0.212598;stroke-linecap:butt;stroke-linejoin:round;stroke:rgb(100%,100%,100%);stroke-opacity:1;stroke-miterlimit:10;\" d=\"M 137.8125 139.054688 L 226.046875 139.054688 L 226.046875 130.214844 L 137.8125 130.214844 Z M 137.8125 139.054688 \"/>\n",
       "<path style=\"fill-rule:nonzero;fill:rgb(90.196078%,92.54902%,95.686275%);fill-opacity:1;stroke-width:0.212598;stroke-linecap:butt;stroke-linejoin:round;stroke:rgb(100%,100%,100%);stroke-opacity:1;stroke-miterlimit:10;\" d=\"M 226.050781 218.625 L 314.285156 218.625 L 314.285156 209.785156 L 226.050781 209.785156 Z M 226.050781 218.625 \"/>\n",
       "<path style=\"fill-rule:nonzero;fill:rgb(63.137255%,72.941176%,83.921569%);fill-opacity:1;stroke-width:0.212598;stroke-linecap:butt;stroke-linejoin:round;stroke:rgb(100%,100%,100%);stroke-opacity:1;stroke-miterlimit:10;\" d=\"M 49.578125 24.125 L 137.8125 24.125 L 137.8125 15.285156 L 49.578125 15.285156 Z M 49.578125 24.125 \"/>\n",
       "<path style=\"fill-rule:nonzero;fill:rgb(90.588235%,92.941176%,96.078431%);fill-opacity:1;stroke-width:0.212598;stroke-linecap:butt;stroke-linejoin:round;stroke:rgb(100%,100%,100%);stroke-opacity:1;stroke-miterlimit:10;\" d=\"M 137.8125 59.488281 L 226.046875 59.488281 L 226.046875 50.648438 L 137.8125 50.648438 Z M 137.8125 59.488281 \"/>\n",
       "<path style=\"fill-rule:nonzero;fill:rgb(98.823529%,99.215686%,99.607843%);fill-opacity:1;stroke-width:0.212598;stroke-linecap:butt;stroke-linejoin:round;stroke:rgb(100%,100%,100%);stroke-opacity:1;stroke-miterlimit:10;\" d=\"M 226.050781 183.261719 L 314.285156 183.261719 L 314.285156 174.421875 L 226.050781 174.421875 Z M 226.050781 183.261719 \"/>\n",
       "<path style=\"fill-rule:nonzero;fill:rgb(91.764706%,93.72549%,96.470588%);fill-opacity:1;stroke-width:0.212598;stroke-linecap:butt;stroke-linejoin:round;stroke:rgb(100%,100%,100%);stroke-opacity:1;stroke-miterlimit:10;\" d=\"M 226.050781 147.898438 L 314.285156 147.898438 L 314.285156 139.058594 L 226.050781 139.058594 Z M 226.050781 147.898438 \"/>\n",
       "<path style=\"fill-rule:nonzero;fill:rgb(85.882353%,89.411765%,93.72549%);fill-opacity:1;stroke-width:0.212598;stroke-linecap:butt;stroke-linejoin:round;stroke:rgb(100%,100%,100%);stroke-opacity:1;stroke-miterlimit:10;\" d=\"M 314.285156 280.507813 L 402.519531 280.507813 L 402.519531 271.667969 L 314.285156 271.667969 Z M 314.285156 280.507813 \"/>\n",
       "<path style=\"fill-rule:nonzero;fill:rgb(92.54902%,94.509804%,96.470588%);fill-opacity:1;stroke-width:0.212598;stroke-linecap:butt;stroke-linejoin:round;stroke:rgb(100%,100%,100%);stroke-opacity:1;stroke-miterlimit:10;\" d=\"M 226.050781 130.214844 L 314.285156 130.214844 L 314.285156 121.375 L 226.050781 121.375 Z M 226.050781 130.214844 \"/>\n",
       "<path style=\"fill-rule:nonzero;fill:rgb(92.941176%,94.509804%,96.862745%);fill-opacity:1;stroke-width:0.212598;stroke-linecap:butt;stroke-linejoin:round;stroke:rgb(100%,100%,100%);stroke-opacity:1;stroke-miterlimit:10;\" d=\"M 226.050781 121.375 L 314.285156 121.375 L 314.285156 112.535156 L 226.050781 112.535156 Z M 226.050781 121.375 \"/>\n",
       "<path style=\"fill-rule:nonzero;fill:rgb(89.019608%,91.764706%,95.294118%);fill-opacity:1;stroke-width:0.212598;stroke-linecap:butt;stroke-linejoin:round;stroke:rgb(100%,100%,100%);stroke-opacity:1;stroke-miterlimit:10;\" d=\"M 314.285156 262.828125 L 402.519531 262.828125 L 402.519531 253.988281 L 314.285156 253.988281 Z M 314.285156 262.828125 \"/>\n",
       "<path style=\"fill-rule:nonzero;fill:rgb(90.980392%,93.333333%,96.078431%);fill-opacity:1;stroke-width:0.212598;stroke-linecap:butt;stroke-linejoin:round;stroke:rgb(100%,100%,100%);stroke-opacity:1;stroke-miterlimit:10;\" d=\"M 314.285156 236.304688 L 402.519531 236.304688 L 402.519531 227.464844 L 314.285156 227.464844 Z M 314.285156 236.304688 \"/>\n",
       "<path style=\"fill-rule:nonzero;fill:rgb(75.294118%,81.568627%,89.411765%);fill-opacity:1;stroke-width:0.212598;stroke-linecap:butt;stroke-linejoin:round;stroke:rgb(100%,100%,100%);stroke-opacity:1;stroke-miterlimit:10;\" d=\"M 226.050781 86.011719 L 314.285156 86.011719 L 314.285156 77.171875 L 226.050781 77.171875 Z M 226.050781 86.011719 \"/>\n",
       "<path style=\"fill-rule:nonzero;fill:rgb(100%,100%,100%);fill-opacity:1;stroke-width:0.212598;stroke-linecap:butt;stroke-linejoin:round;stroke:rgb(100%,100%,100%);stroke-opacity:1;stroke-miterlimit:10;\" d=\"M 226.050781 68.328125 L 314.285156 68.328125 L 314.285156 59.488281 L 226.050781 59.488281 Z M 226.050781 68.328125 \"/>\n",
       "<path style=\"fill-rule:nonzero;fill:rgb(82.352941%,86.666667%,92.156863%);fill-opacity:1;stroke-width:0.212598;stroke-linecap:butt;stroke-linejoin:round;stroke:rgb(100%,100%,100%);stroke-opacity:1;stroke-miterlimit:10;\" d=\"M 314.285156 174.417969 L 402.519531 174.417969 L 402.519531 165.578125 L 314.285156 165.578125 Z M 314.285156 174.417969 \"/>\n",
       "<path style=\"fill-rule:nonzero;fill:rgb(84.313725%,88.235294%,93.333333%);fill-opacity:1;stroke-width:0.212598;stroke-linecap:butt;stroke-linejoin:round;stroke:rgb(100%,100%,100%);stroke-opacity:1;stroke-miterlimit:10;\" d=\"M 314.285156 112.535156 L 402.519531 112.535156 L 402.519531 103.695313 L 314.285156 103.695313 Z M 314.285156 112.535156 \"/>\n",
       "<path style=\"fill-rule:nonzero;fill:rgb(96.078431%,96.862745%,98.039216%);fill-opacity:1;stroke-width:0.212598;stroke-linecap:butt;stroke-linejoin:round;stroke:rgb(100%,100%,100%);stroke-opacity:1;stroke-miterlimit:10;\" d=\"M 226.050781 466.167969 L 314.285156 466.167969 L 314.285156 457.328125 L 226.050781 457.328125 Z M 226.050781 466.167969 \"/>\n",
       "<path style=\"fill-rule:nonzero;fill:rgb(99.215686%,99.607843%,99.607843%);fill-opacity:1;stroke-width:0.212598;stroke-linecap:butt;stroke-linejoin:round;stroke:rgb(100%,100%,100%);stroke-opacity:1;stroke-miterlimit:10;\" d=\"M 226.050781 103.691406 L 314.285156 103.691406 L 314.285156 94.851563 L 226.050781 94.851563 Z M 226.050781 103.691406 \"/>\n",
       "<path style=\"fill-rule:nonzero;fill:rgb(90.980392%,93.333333%,96.078431%);fill-opacity:1;stroke-width:0.212598;stroke-linecap:butt;stroke-linejoin:round;stroke:rgb(100%,100%,100%);stroke-opacity:1;stroke-miterlimit:10;\" d=\"M 49.578125 342.394531 L 137.8125 342.394531 L 137.8125 333.554688 L 49.578125 333.554688 Z M 49.578125 342.394531 \"/>\n",
       "<path style=\"fill-rule:nonzero;fill:rgb(65.098039%,74.117647%,85.098039%);fill-opacity:1;stroke-width:0.212598;stroke-linecap:butt;stroke-linejoin:round;stroke:rgb(100%,100%,100%);stroke-opacity:1;stroke-miterlimit:10;\" d=\"M 49.578125 324.714844 L 137.8125 324.714844 L 137.8125 315.875 L 49.578125 315.875 Z M 49.578125 324.714844 \"/>\n",
       "<path style=\"fill-rule:nonzero;fill:rgb(76.470588%,82.352941%,89.803922%);fill-opacity:1;stroke-width:0.212598;stroke-linecap:butt;stroke-linejoin:round;stroke:rgb(100%,100%,100%);stroke-opacity:1;stroke-miterlimit:10;\" d=\"M 314.285156 77.171875 L 402.519531 77.171875 L 402.519531 68.332031 L 314.285156 68.332031 Z M 314.285156 77.171875 \"/>\n",
       "<path style=\"fill-rule:nonzero;fill:rgb(89.019608%,91.764706%,95.294118%);fill-opacity:1;stroke-width:0.212598;stroke-linecap:butt;stroke-linejoin:round;stroke:rgb(100%,100%,100%);stroke-opacity:1;stroke-miterlimit:10;\" d=\"M 314.285156 50.648438 L 402.519531 50.648438 L 402.519531 41.808594 L 314.285156 41.808594 Z M 314.285156 50.648438 \"/>\n",
       "<path style=\"fill-rule:nonzero;fill:rgb(89.411765%,91.764706%,95.294118%);fill-opacity:1;stroke-width:0.212598;stroke-linecap:butt;stroke-linejoin:round;stroke:rgb(100%,100%,100%);stroke-opacity:1;stroke-miterlimit:10;\" d=\"M 137.8125 404.28125 L 226.046875 404.28125 L 226.046875 395.441406 L 137.8125 395.441406 Z M 137.8125 404.28125 \"/>\n",
       "<path style=\"fill-rule:nonzero;fill:rgb(98.039216%,98.431373%,98.823529%);fill-opacity:1;stroke-width:0.212598;stroke-linecap:butt;stroke-linejoin:round;stroke:rgb(100%,100%,100%);stroke-opacity:1;stroke-miterlimit:10;\" d=\"M 137.8125 395.441406 L 226.046875 395.441406 L 226.046875 386.601563 L 137.8125 386.601563 Z M 137.8125 395.441406 \"/>\n",
       "<path style=\"fill-rule:nonzero;fill:rgb(98.039216%,98.431373%,99.215686%);fill-opacity:1;stroke-width:0.212598;stroke-linecap:butt;stroke-linejoin:round;stroke:rgb(100%,100%,100%);stroke-opacity:1;stroke-miterlimit:10;\" d=\"M 137.8125 386.601563 L 226.046875 386.601563 L 226.046875 377.761719 L 137.8125 377.761719 Z M 137.8125 386.601563 \"/>\n",
       "</g>\n",
       "<g style=\"fill:rgb(49.803922%,49.803922%,49.803922%);fill-opacity:1;\">\n",
       "  <use xlink:href=\"#glyph0-0\" x=\"28.328125\" y=\"465.183594\"/>\n",
       "</g>\n",
       "<g style=\"fill:rgb(49.803922%,49.803922%,49.803922%);fill-opacity:1;\">\n",
       "  <use xlink:href=\"#glyph0-0\" x=\"22.988281\" y=\"456.34375\"/>\n",
       "  <use xlink:href=\"#glyph0-1\" x=\"28.327344\" y=\"456.34375\"/>\n",
       "</g>\n",
       "<g style=\"fill:rgb(49.803922%,49.803922%,49.803922%);fill-opacity:1;\">\n",
       "  <use xlink:href=\"#glyph0-0\" x=\"22.988281\" y=\"447.5\"/>\n",
       "  <use xlink:href=\"#glyph0-0\" x=\"28.327344\" y=\"447.5\"/>\n",
       "</g>\n",
       "<g style=\"fill:rgb(49.803922%,49.803922%,49.803922%);fill-opacity:1;\">\n",
       "  <use xlink:href=\"#glyph0-0\" x=\"22.988281\" y=\"438.660156\"/>\n",
       "  <use xlink:href=\"#glyph0-2\" x=\"28.327344\" y=\"438.660156\"/>\n",
       "</g>\n",
       "<g style=\"fill:rgb(49.803922%,49.803922%,49.803922%);fill-opacity:1;\">\n",
       "  <use xlink:href=\"#glyph0-0\" x=\"22.988281\" y=\"429.820313\"/>\n",
       "  <use xlink:href=\"#glyph0-3\" x=\"28.327344\" y=\"429.820313\"/>\n",
       "</g>\n",
       "<g style=\"fill:rgb(49.803922%,49.803922%,49.803922%);fill-opacity:1;\">\n",
       "  <use xlink:href=\"#glyph0-0\" x=\"22.988281\" y=\"420.980469\"/>\n",
       "  <use xlink:href=\"#glyph0-4\" x=\"28.327344\" y=\"420.980469\"/>\n",
       "</g>\n",
       "<g style=\"fill:rgb(49.803922%,49.803922%,49.803922%);fill-opacity:1;\">\n",
       "  <use xlink:href=\"#glyph0-0\" x=\"22.988281\" y=\"412.136719\"/>\n",
       "  <use xlink:href=\"#glyph0-5\" x=\"28.327344\" y=\"412.136719\"/>\n",
       "</g>\n",
       "<g style=\"fill:rgb(49.803922%,49.803922%,49.803922%);fill-opacity:1;\">\n",
       "  <use xlink:href=\"#glyph0-0\" x=\"22.988281\" y=\"403.296875\"/>\n",
       "  <use xlink:href=\"#glyph0-6\" x=\"28.327344\" y=\"403.296875\"/>\n",
       "</g>\n",
       "<g style=\"fill:rgb(49.803922%,49.803922%,49.803922%);fill-opacity:1;\">\n",
       "  <use xlink:href=\"#glyph0-0\" x=\"22.988281\" y=\"394.457031\"/>\n",
       "  <use xlink:href=\"#glyph0-7\" x=\"28.327344\" y=\"394.457031\"/>\n",
       "</g>\n",
       "<g style=\"fill:rgb(49.803922%,49.803922%,49.803922%);fill-opacity:1;\">\n",
       "  <use xlink:href=\"#glyph0-0\" x=\"22.988281\" y=\"385.617188\"/>\n",
       "  <use xlink:href=\"#glyph0-8\" x=\"28.327344\" y=\"385.617188\"/>\n",
       "</g>\n",
       "<g style=\"fill:rgb(49.803922%,49.803922%,49.803922%);fill-opacity:1;\">\n",
       "  <use xlink:href=\"#glyph0-2\" x=\"28.328125\" y=\"376.773438\"/>\n",
       "</g>\n",
       "<g style=\"fill:rgb(49.803922%,49.803922%,49.803922%);fill-opacity:1;\">\n",
       "  <use xlink:href=\"#glyph0-2\" x=\"22.988281\" y=\"367.933594\"/>\n",
       "  <use xlink:href=\"#glyph0-1\" x=\"28.327344\" y=\"367.933594\"/>\n",
       "</g>\n",
       "<g style=\"fill:rgb(49.803922%,49.803922%,49.803922%);fill-opacity:1;\">\n",
       "  <use xlink:href=\"#glyph0-2\" x=\"22.988281\" y=\"359.09375\"/>\n",
       "  <use xlink:href=\"#glyph0-0\" x=\"28.327344\" y=\"359.09375\"/>\n",
       "</g>\n",
       "<g style=\"fill:rgb(49.803922%,49.803922%,49.803922%);fill-opacity:1;\">\n",
       "  <use xlink:href=\"#glyph0-2\" x=\"22.988281\" y=\"350.253906\"/>\n",
       "  <use xlink:href=\"#glyph0-2\" x=\"28.327344\" y=\"350.253906\"/>\n",
       "</g>\n",
       "<g style=\"fill:rgb(49.803922%,49.803922%,49.803922%);fill-opacity:1;\">\n",
       "  <use xlink:href=\"#glyph0-2\" x=\"22.988281\" y=\"341.410156\"/>\n",
       "  <use xlink:href=\"#glyph0-3\" x=\"28.327344\" y=\"341.410156\"/>\n",
       "</g>\n",
       "<g style=\"fill:rgb(49.803922%,49.803922%,49.803922%);fill-opacity:1;\">\n",
       "  <use xlink:href=\"#glyph0-2\" x=\"22.988281\" y=\"332.570313\"/>\n",
       "  <use xlink:href=\"#glyph0-9\" x=\"28.327344\" y=\"332.570313\"/>\n",
       "</g>\n",
       "<g style=\"fill:rgb(49.803922%,49.803922%,49.803922%);fill-opacity:1;\">\n",
       "  <use xlink:href=\"#glyph0-2\" x=\"22.988281\" y=\"323.730469\"/>\n",
       "  <use xlink:href=\"#glyph0-4\" x=\"28.327344\" y=\"323.730469\"/>\n",
       "</g>\n",
       "<g style=\"fill:rgb(49.803922%,49.803922%,49.803922%);fill-opacity:1;\">\n",
       "  <use xlink:href=\"#glyph0-2\" x=\"22.988281\" y=\"314.886719\"/>\n",
       "  <use xlink:href=\"#glyph0-5\" x=\"28.327344\" y=\"314.886719\"/>\n",
       "</g>\n",
       "<g style=\"fill:rgb(49.803922%,49.803922%,49.803922%);fill-opacity:1;\">\n",
       "  <use xlink:href=\"#glyph0-2\" x=\"22.988281\" y=\"306.046875\"/>\n",
       "  <use xlink:href=\"#glyph0-6\" x=\"28.327344\" y=\"306.046875\"/>\n",
       "</g>\n",
       "<g style=\"fill:rgb(49.803922%,49.803922%,49.803922%);fill-opacity:1;\">\n",
       "  <use xlink:href=\"#glyph0-2\" x=\"22.988281\" y=\"297.207031\"/>\n",
       "  <use xlink:href=\"#glyph0-7\" x=\"28.327344\" y=\"297.207031\"/>\n",
       "</g>\n",
       "<g style=\"fill:rgb(49.803922%,49.803922%,49.803922%);fill-opacity:1;\">\n",
       "  <use xlink:href=\"#glyph0-2\" x=\"22.988281\" y=\"288.367188\"/>\n",
       "  <use xlink:href=\"#glyph0-8\" x=\"28.327344\" y=\"288.367188\"/>\n",
       "</g>\n",
       "<g style=\"fill:rgb(49.803922%,49.803922%,49.803922%);fill-opacity:1;\">\n",
       "  <use xlink:href=\"#glyph0-3\" x=\"22.988281\" y=\"279.523438\"/>\n",
       "  <use xlink:href=\"#glyph0-1\" x=\"28.327344\" y=\"279.523438\"/>\n",
       "</g>\n",
       "<g style=\"fill:rgb(49.803922%,49.803922%,49.803922%);fill-opacity:1;\">\n",
       "  <use xlink:href=\"#glyph0-3\" x=\"22.988281\" y=\"270.683594\"/>\n",
       "  <use xlink:href=\"#glyph0-0\" x=\"28.327344\" y=\"270.683594\"/>\n",
       "</g>\n",
       "<g style=\"fill:rgb(49.803922%,49.803922%,49.803922%);fill-opacity:1;\">\n",
       "  <use xlink:href=\"#glyph0-3\" x=\"22.988281\" y=\"261.84375\"/>\n",
       "  <use xlink:href=\"#glyph0-2\" x=\"28.327344\" y=\"261.84375\"/>\n",
       "</g>\n",
       "<g style=\"fill:rgb(49.803922%,49.803922%,49.803922%);fill-opacity:1;\">\n",
       "  <use xlink:href=\"#glyph0-3\" x=\"22.988281\" y=\"253.003906\"/>\n",
       "  <use xlink:href=\"#glyph0-3\" x=\"28.327344\" y=\"253.003906\"/>\n",
       "</g>\n",
       "<g style=\"fill:rgb(49.803922%,49.803922%,49.803922%);fill-opacity:1;\">\n",
       "  <use xlink:href=\"#glyph0-3\" x=\"22.988281\" y=\"244.160156\"/>\n",
       "  <use xlink:href=\"#glyph0-9\" x=\"28.327344\" y=\"244.160156\"/>\n",
       "</g>\n",
       "<g style=\"fill:rgb(49.803922%,49.803922%,49.803922%);fill-opacity:1;\">\n",
       "  <use xlink:href=\"#glyph0-3\" x=\"22.988281\" y=\"235.320313\"/>\n",
       "  <use xlink:href=\"#glyph0-4\" x=\"28.327344\" y=\"235.320313\"/>\n",
       "</g>\n",
       "<g style=\"fill:rgb(49.803922%,49.803922%,49.803922%);fill-opacity:1;\">\n",
       "  <use xlink:href=\"#glyph0-3\" x=\"22.988281\" y=\"226.480469\"/>\n",
       "  <use xlink:href=\"#glyph0-5\" x=\"28.327344\" y=\"226.480469\"/>\n",
       "</g>\n",
       "<g style=\"fill:rgb(49.803922%,49.803922%,49.803922%);fill-opacity:1;\">\n",
       "  <use xlink:href=\"#glyph0-3\" x=\"22.988281\" y=\"217.640625\"/>\n",
       "  <use xlink:href=\"#glyph0-6\" x=\"28.327344\" y=\"217.640625\"/>\n",
       "</g>\n",
       "<g style=\"fill:rgb(49.803922%,49.803922%,49.803922%);fill-opacity:1;\">\n",
       "  <use xlink:href=\"#glyph0-3\" x=\"22.988281\" y=\"208.796875\"/>\n",
       "  <use xlink:href=\"#glyph0-7\" x=\"28.327344\" y=\"208.796875\"/>\n",
       "</g>\n",
       "<g style=\"fill:rgb(49.803922%,49.803922%,49.803922%);fill-opacity:1;\">\n",
       "  <use xlink:href=\"#glyph0-3\" x=\"22.988281\" y=\"199.957031\"/>\n",
       "  <use xlink:href=\"#glyph0-8\" x=\"28.327344\" y=\"199.957031\"/>\n",
       "</g>\n",
       "<g style=\"fill:rgb(49.803922%,49.803922%,49.803922%);fill-opacity:1;\">\n",
       "  <use xlink:href=\"#glyph0-9\" x=\"28.328125\" y=\"191.117188\"/>\n",
       "</g>\n",
       "<g style=\"fill:rgb(49.803922%,49.803922%,49.803922%);fill-opacity:1;\">\n",
       "  <use xlink:href=\"#glyph0-9\" x=\"22.988281\" y=\"182.277344\"/>\n",
       "  <use xlink:href=\"#glyph0-1\" x=\"28.327344\" y=\"182.277344\"/>\n",
       "</g>\n",
       "<g style=\"fill:rgb(49.803922%,49.803922%,49.803922%);fill-opacity:1;\">\n",
       "  <use xlink:href=\"#glyph0-9\" x=\"22.988281\" y=\"173.433594\"/>\n",
       "  <use xlink:href=\"#glyph0-0\" x=\"28.327344\" y=\"173.433594\"/>\n",
       "</g>\n",
       "<g style=\"fill:rgb(49.803922%,49.803922%,49.803922%);fill-opacity:1;\">\n",
       "  <use xlink:href=\"#glyph0-9\" x=\"22.988281\" y=\"164.59375\"/>\n",
       "  <use xlink:href=\"#glyph0-2\" x=\"28.327344\" y=\"164.59375\"/>\n",
       "</g>\n",
       "<g style=\"fill:rgb(49.803922%,49.803922%,49.803922%);fill-opacity:1;\">\n",
       "  <use xlink:href=\"#glyph0-9\" x=\"22.988281\" y=\"155.753906\"/>\n",
       "  <use xlink:href=\"#glyph0-9\" x=\"28.327344\" y=\"155.753906\"/>\n",
       "</g>\n",
       "<g style=\"fill:rgb(49.803922%,49.803922%,49.803922%);fill-opacity:1;\">\n",
       "  <use xlink:href=\"#glyph0-9\" x=\"22.988281\" y=\"146.914063\"/>\n",
       "  <use xlink:href=\"#glyph0-4\" x=\"28.327344\" y=\"146.914063\"/>\n",
       "</g>\n",
       "<g style=\"fill:rgb(49.803922%,49.803922%,49.803922%);fill-opacity:1;\">\n",
       "  <use xlink:href=\"#glyph0-9\" x=\"22.988281\" y=\"138.070313\"/>\n",
       "  <use xlink:href=\"#glyph0-5\" x=\"28.327344\" y=\"138.070313\"/>\n",
       "</g>\n",
       "<g style=\"fill:rgb(49.803922%,49.803922%,49.803922%);fill-opacity:1;\">\n",
       "  <use xlink:href=\"#glyph0-9\" x=\"22.988281\" y=\"129.230469\"/>\n",
       "  <use xlink:href=\"#glyph0-6\" x=\"28.327344\" y=\"129.230469\"/>\n",
       "</g>\n",
       "<g style=\"fill:rgb(49.803922%,49.803922%,49.803922%);fill-opacity:1;\">\n",
       "  <use xlink:href=\"#glyph0-9\" x=\"22.988281\" y=\"120.390625\"/>\n",
       "  <use xlink:href=\"#glyph0-7\" x=\"28.327344\" y=\"120.390625\"/>\n",
       "</g>\n",
       "<g style=\"fill:rgb(49.803922%,49.803922%,49.803922%);fill-opacity:1;\">\n",
       "  <use xlink:href=\"#glyph0-9\" x=\"22.988281\" y=\"111.550781\"/>\n",
       "  <use xlink:href=\"#glyph0-8\" x=\"28.327344\" y=\"111.550781\"/>\n",
       "</g>\n",
       "<g style=\"fill:rgb(49.803922%,49.803922%,49.803922%);fill-opacity:1;\">\n",
       "  <use xlink:href=\"#glyph0-4\" x=\"28.328125\" y=\"102.707031\"/>\n",
       "</g>\n",
       "<g style=\"fill:rgb(49.803922%,49.803922%,49.803922%);fill-opacity:1;\">\n",
       "  <use xlink:href=\"#glyph0-4\" x=\"22.988281\" y=\"93.867188\"/>\n",
       "  <use xlink:href=\"#glyph0-1\" x=\"28.327344\" y=\"93.867188\"/>\n",
       "</g>\n",
       "<g style=\"fill:rgb(49.803922%,49.803922%,49.803922%);fill-opacity:1;\">\n",
       "  <use xlink:href=\"#glyph0-4\" x=\"22.988281\" y=\"85.027344\"/>\n",
       "  <use xlink:href=\"#glyph0-0\" x=\"28.327344\" y=\"85.027344\"/>\n",
       "</g>\n",
       "<g style=\"fill:rgb(49.803922%,49.803922%,49.803922%);fill-opacity:1;\">\n",
       "  <use xlink:href=\"#glyph0-4\" x=\"22.988281\" y=\"76.1875\"/>\n",
       "  <use xlink:href=\"#glyph0-3\" x=\"28.327344\" y=\"76.1875\"/>\n",
       "</g>\n",
       "<g style=\"fill:rgb(49.803922%,49.803922%,49.803922%);fill-opacity:1;\">\n",
       "  <use xlink:href=\"#glyph0-4\" x=\"22.988281\" y=\"67.34375\"/>\n",
       "  <use xlink:href=\"#glyph0-9\" x=\"28.327344\" y=\"67.34375\"/>\n",
       "</g>\n",
       "<g style=\"fill:rgb(49.803922%,49.803922%,49.803922%);fill-opacity:1;\">\n",
       "  <use xlink:href=\"#glyph0-4\" x=\"22.988281\" y=\"58.503906\"/>\n",
       "  <use xlink:href=\"#glyph0-4\" x=\"28.327344\" y=\"58.503906\"/>\n",
       "</g>\n",
       "<g style=\"fill:rgb(49.803922%,49.803922%,49.803922%);fill-opacity:1;\">\n",
       "  <use xlink:href=\"#glyph0-4\" x=\"22.988281\" y=\"49.664063\"/>\n",
       "  <use xlink:href=\"#glyph0-5\" x=\"28.327344\" y=\"49.664063\"/>\n",
       "</g>\n",
       "<g style=\"fill:rgb(49.803922%,49.803922%,49.803922%);fill-opacity:1;\">\n",
       "  <use xlink:href=\"#glyph0-5\" x=\"28.328125\" y=\"40.820313\"/>\n",
       "</g>\n",
       "<g style=\"fill:rgb(49.803922%,49.803922%,49.803922%);fill-opacity:1;\">\n",
       "  <use xlink:href=\"#glyph0-7\" x=\"28.328125\" y=\"31.980469\"/>\n",
       "</g>\n",
       "<g style=\"fill:rgb(49.803922%,49.803922%,49.803922%);fill-opacity:1;\">\n",
       "  <use xlink:href=\"#glyph0-8\" x=\"28.328125\" y=\"23.140625\"/>\n",
       "</g>\n",
       "<path style=\"fill:none;stroke-width:1.062992;stroke-linecap:butt;stroke-linejoin:round;stroke:rgb(49.803922%,49.803922%,49.803922%);stroke-opacity:1;stroke-miterlimit:10;\" d=\"M 36.503906 461.746094 L 40.753906 461.746094 \"/>\n",
       "<path style=\"fill:none;stroke-width:1.062992;stroke-linecap:butt;stroke-linejoin:round;stroke:rgb(49.803922%,49.803922%,49.803922%);stroke-opacity:1;stroke-miterlimit:10;\" d=\"M 36.503906 452.90625 L 40.753906 452.90625 \"/>\n",
       "<path style=\"fill:none;stroke-width:1.062992;stroke-linecap:butt;stroke-linejoin:round;stroke:rgb(49.803922%,49.803922%,49.803922%);stroke-opacity:1;stroke-miterlimit:10;\" d=\"M 36.503906 444.066406 L 40.753906 444.066406 \"/>\n",
       "<path style=\"fill:none;stroke-width:1.062992;stroke-linecap:butt;stroke-linejoin:round;stroke:rgb(49.803922%,49.803922%,49.803922%);stroke-opacity:1;stroke-miterlimit:10;\" d=\"M 36.503906 435.222656 L 40.753906 435.222656 \"/>\n",
       "<path style=\"fill:none;stroke-width:1.062992;stroke-linecap:butt;stroke-linejoin:round;stroke:rgb(49.803922%,49.803922%,49.803922%);stroke-opacity:1;stroke-miterlimit:10;\" d=\"M 36.503906 426.382813 L 40.753906 426.382813 \"/>\n",
       "<path style=\"fill:none;stroke-width:1.062992;stroke-linecap:butt;stroke-linejoin:round;stroke:rgb(49.803922%,49.803922%,49.803922%);stroke-opacity:1;stroke-miterlimit:10;\" d=\"M 36.503906 417.542969 L 40.753906 417.542969 \"/>\n",
       "<path style=\"fill:none;stroke-width:1.062992;stroke-linecap:butt;stroke-linejoin:round;stroke:rgb(49.803922%,49.803922%,49.803922%);stroke-opacity:1;stroke-miterlimit:10;\" d=\"M 36.503906 408.703125 L 40.753906 408.703125 \"/>\n",
       "<path style=\"fill:none;stroke-width:1.062992;stroke-linecap:butt;stroke-linejoin:round;stroke:rgb(49.803922%,49.803922%,49.803922%);stroke-opacity:1;stroke-miterlimit:10;\" d=\"M 36.503906 399.859375 L 40.753906 399.859375 \"/>\n",
       "<path style=\"fill:none;stroke-width:1.062992;stroke-linecap:butt;stroke-linejoin:round;stroke:rgb(49.803922%,49.803922%,49.803922%);stroke-opacity:1;stroke-miterlimit:10;\" d=\"M 36.503906 391.019531 L 40.753906 391.019531 \"/>\n",
       "<path style=\"fill:none;stroke-width:1.062992;stroke-linecap:butt;stroke-linejoin:round;stroke:rgb(49.803922%,49.803922%,49.803922%);stroke-opacity:1;stroke-miterlimit:10;\" d=\"M 36.503906 382.179688 L 40.753906 382.179688 \"/>\n",
       "<path style=\"fill:none;stroke-width:1.062992;stroke-linecap:butt;stroke-linejoin:round;stroke:rgb(49.803922%,49.803922%,49.803922%);stroke-opacity:1;stroke-miterlimit:10;\" d=\"M 36.503906 373.339844 L 40.753906 373.339844 \"/>\n",
       "<path style=\"fill:none;stroke-width:1.062992;stroke-linecap:butt;stroke-linejoin:round;stroke:rgb(49.803922%,49.803922%,49.803922%);stroke-opacity:1;stroke-miterlimit:10;\" d=\"M 36.503906 364.496094 L 40.753906 364.496094 \"/>\n",
       "<path style=\"fill:none;stroke-width:1.062992;stroke-linecap:butt;stroke-linejoin:round;stroke:rgb(49.803922%,49.803922%,49.803922%);stroke-opacity:1;stroke-miterlimit:10;\" d=\"M 36.503906 355.65625 L 40.753906 355.65625 \"/>\n",
       "<path style=\"fill:none;stroke-width:1.062992;stroke-linecap:butt;stroke-linejoin:round;stroke:rgb(49.803922%,49.803922%,49.803922%);stroke-opacity:1;stroke-miterlimit:10;\" d=\"M 36.503906 346.816406 L 40.753906 346.816406 \"/>\n",
       "<path style=\"fill:none;stroke-width:1.062992;stroke-linecap:butt;stroke-linejoin:round;stroke:rgb(49.803922%,49.803922%,49.803922%);stroke-opacity:1;stroke-miterlimit:10;\" d=\"M 36.503906 337.976563 L 40.753906 337.976563 \"/>\n",
       "<path style=\"fill:none;stroke-width:1.062992;stroke-linecap:butt;stroke-linejoin:round;stroke:rgb(49.803922%,49.803922%,49.803922%);stroke-opacity:1;stroke-miterlimit:10;\" d=\"M 36.503906 329.132813 L 40.753906 329.132813 \"/>\n",
       "<path style=\"fill:none;stroke-width:1.062992;stroke-linecap:butt;stroke-linejoin:round;stroke:rgb(49.803922%,49.803922%,49.803922%);stroke-opacity:1;stroke-miterlimit:10;\" d=\"M 36.503906 320.292969 L 40.753906 320.292969 \"/>\n",
       "<path style=\"fill:none;stroke-width:1.062992;stroke-linecap:butt;stroke-linejoin:round;stroke:rgb(49.803922%,49.803922%,49.803922%);stroke-opacity:1;stroke-miterlimit:10;\" d=\"M 36.503906 311.453125 L 40.753906 311.453125 \"/>\n",
       "<path style=\"fill:none;stroke-width:1.062992;stroke-linecap:butt;stroke-linejoin:round;stroke:rgb(49.803922%,49.803922%,49.803922%);stroke-opacity:1;stroke-miterlimit:10;\" d=\"M 36.503906 302.613281 L 40.753906 302.613281 \"/>\n",
       "<path style=\"fill:none;stroke-width:1.062992;stroke-linecap:butt;stroke-linejoin:round;stroke:rgb(49.803922%,49.803922%,49.803922%);stroke-opacity:1;stroke-miterlimit:10;\" d=\"M 36.503906 293.769531 L 40.753906 293.769531 \"/>\n",
       "<path style=\"fill:none;stroke-width:1.062992;stroke-linecap:butt;stroke-linejoin:round;stroke:rgb(49.803922%,49.803922%,49.803922%);stroke-opacity:1;stroke-miterlimit:10;\" d=\"M 36.503906 284.929688 L 40.753906 284.929688 \"/>\n",
       "<path style=\"fill:none;stroke-width:1.062992;stroke-linecap:butt;stroke-linejoin:round;stroke:rgb(49.803922%,49.803922%,49.803922%);stroke-opacity:1;stroke-miterlimit:10;\" d=\"M 36.503906 276.089844 L 40.753906 276.089844 \"/>\n",
       "<path style=\"fill:none;stroke-width:1.062992;stroke-linecap:butt;stroke-linejoin:round;stroke:rgb(49.803922%,49.803922%,49.803922%);stroke-opacity:1;stroke-miterlimit:10;\" d=\"M 36.503906 267.25 L 40.753906 267.25 \"/>\n",
       "<path style=\"fill:none;stroke-width:1.062992;stroke-linecap:butt;stroke-linejoin:round;stroke:rgb(49.803922%,49.803922%,49.803922%);stroke-opacity:1;stroke-miterlimit:10;\" d=\"M 36.503906 258.40625 L 40.753906 258.40625 \"/>\n",
       "<path style=\"fill:none;stroke-width:1.062992;stroke-linecap:butt;stroke-linejoin:round;stroke:rgb(49.803922%,49.803922%,49.803922%);stroke-opacity:1;stroke-miterlimit:10;\" d=\"M 36.503906 249.566406 L 40.753906 249.566406 \"/>\n",
       "<path style=\"fill:none;stroke-width:1.062992;stroke-linecap:butt;stroke-linejoin:round;stroke:rgb(49.803922%,49.803922%,49.803922%);stroke-opacity:1;stroke-miterlimit:10;\" d=\"M 36.503906 240.726563 L 40.753906 240.726563 \"/>\n",
       "<path style=\"fill:none;stroke-width:1.062992;stroke-linecap:butt;stroke-linejoin:round;stroke:rgb(49.803922%,49.803922%,49.803922%);stroke-opacity:1;stroke-miterlimit:10;\" d=\"M 36.503906 231.886719 L 40.753906 231.886719 \"/>\n",
       "<path style=\"fill:none;stroke-width:1.062992;stroke-linecap:butt;stroke-linejoin:round;stroke:rgb(49.803922%,49.803922%,49.803922%);stroke-opacity:1;stroke-miterlimit:10;\" d=\"M 36.503906 223.042969 L 40.753906 223.042969 \"/>\n",
       "<path style=\"fill:none;stroke-width:1.062992;stroke-linecap:butt;stroke-linejoin:round;stroke:rgb(49.803922%,49.803922%,49.803922%);stroke-opacity:1;stroke-miterlimit:10;\" d=\"M 36.503906 214.203125 L 40.753906 214.203125 \"/>\n",
       "<path style=\"fill:none;stroke-width:1.062992;stroke-linecap:butt;stroke-linejoin:round;stroke:rgb(49.803922%,49.803922%,49.803922%);stroke-opacity:1;stroke-miterlimit:10;\" d=\"M 36.503906 205.363281 L 40.753906 205.363281 \"/>\n",
       "<path style=\"fill:none;stroke-width:1.062992;stroke-linecap:butt;stroke-linejoin:round;stroke:rgb(49.803922%,49.803922%,49.803922%);stroke-opacity:1;stroke-miterlimit:10;\" d=\"M 36.503906 196.523438 L 40.753906 196.523438 \"/>\n",
       "<path style=\"fill:none;stroke-width:1.062992;stroke-linecap:butt;stroke-linejoin:round;stroke:rgb(49.803922%,49.803922%,49.803922%);stroke-opacity:1;stroke-miterlimit:10;\" d=\"M 36.503906 187.679688 L 40.753906 187.679688 \"/>\n",
       "<path style=\"fill:none;stroke-width:1.062992;stroke-linecap:butt;stroke-linejoin:round;stroke:rgb(49.803922%,49.803922%,49.803922%);stroke-opacity:1;stroke-miterlimit:10;\" d=\"M 36.503906 178.839844 L 40.753906 178.839844 \"/>\n",
       "<path style=\"fill:none;stroke-width:1.062992;stroke-linecap:butt;stroke-linejoin:round;stroke:rgb(49.803922%,49.803922%,49.803922%);stroke-opacity:1;stroke-miterlimit:10;\" d=\"M 36.503906 170 L 40.753906 170 \"/>\n",
       "<path style=\"fill:none;stroke-width:1.062992;stroke-linecap:butt;stroke-linejoin:round;stroke:rgb(49.803922%,49.803922%,49.803922%);stroke-opacity:1;stroke-miterlimit:10;\" d=\"M 36.503906 161.15625 L 40.753906 161.15625 \"/>\n",
       "<path style=\"fill:none;stroke-width:1.062992;stroke-linecap:butt;stroke-linejoin:round;stroke:rgb(49.803922%,49.803922%,49.803922%);stroke-opacity:1;stroke-miterlimit:10;\" d=\"M 36.503906 152.316406 L 40.753906 152.316406 \"/>\n",
       "<path style=\"fill:none;stroke-width:1.062992;stroke-linecap:butt;stroke-linejoin:round;stroke:rgb(49.803922%,49.803922%,49.803922%);stroke-opacity:1;stroke-miterlimit:10;\" d=\"M 36.503906 143.476563 L 40.753906 143.476563 \"/>\n",
       "<path style=\"fill:none;stroke-width:1.062992;stroke-linecap:butt;stroke-linejoin:round;stroke:rgb(49.803922%,49.803922%,49.803922%);stroke-opacity:1;stroke-miterlimit:10;\" d=\"M 36.503906 134.636719 L 40.753906 134.636719 \"/>\n",
       "<path style=\"fill:none;stroke-width:1.062992;stroke-linecap:butt;stroke-linejoin:round;stroke:rgb(49.803922%,49.803922%,49.803922%);stroke-opacity:1;stroke-miterlimit:10;\" d=\"M 36.503906 125.792969 L 40.753906 125.792969 \"/>\n",
       "<path style=\"fill:none;stroke-width:1.062992;stroke-linecap:butt;stroke-linejoin:round;stroke:rgb(49.803922%,49.803922%,49.803922%);stroke-opacity:1;stroke-miterlimit:10;\" d=\"M 36.503906 116.953125 L 40.753906 116.953125 \"/>\n",
       "<path style=\"fill:none;stroke-width:1.062992;stroke-linecap:butt;stroke-linejoin:round;stroke:rgb(49.803922%,49.803922%,49.803922%);stroke-opacity:1;stroke-miterlimit:10;\" d=\"M 36.503906 108.113281 L 40.753906 108.113281 \"/>\n",
       "<path style=\"fill:none;stroke-width:1.062992;stroke-linecap:butt;stroke-linejoin:round;stroke:rgb(49.803922%,49.803922%,49.803922%);stroke-opacity:1;stroke-miterlimit:10;\" d=\"M 36.503906 99.273438 L 40.753906 99.273438 \"/>\n",
       "<path style=\"fill:none;stroke-width:1.062992;stroke-linecap:butt;stroke-linejoin:round;stroke:rgb(49.803922%,49.803922%,49.803922%);stroke-opacity:1;stroke-miterlimit:10;\" d=\"M 36.503906 90.429688 L 40.753906 90.429688 \"/>\n",
       "<path style=\"fill:none;stroke-width:1.062992;stroke-linecap:butt;stroke-linejoin:round;stroke:rgb(49.803922%,49.803922%,49.803922%);stroke-opacity:1;stroke-miterlimit:10;\" d=\"M 36.503906 81.589844 L 40.753906 81.589844 \"/>\n",
       "<path style=\"fill:none;stroke-width:1.062992;stroke-linecap:butt;stroke-linejoin:round;stroke:rgb(49.803922%,49.803922%,49.803922%);stroke-opacity:1;stroke-miterlimit:10;\" d=\"M 36.503906 72.75 L 40.753906 72.75 \"/>\n",
       "<path style=\"fill:none;stroke-width:1.062992;stroke-linecap:butt;stroke-linejoin:round;stroke:rgb(49.803922%,49.803922%,49.803922%);stroke-opacity:1;stroke-miterlimit:10;\" d=\"M 36.503906 63.910156 L 40.753906 63.910156 \"/>\n",
       "<path style=\"fill:none;stroke-width:1.062992;stroke-linecap:butt;stroke-linejoin:round;stroke:rgb(49.803922%,49.803922%,49.803922%);stroke-opacity:1;stroke-miterlimit:10;\" d=\"M 36.503906 55.066406 L 40.753906 55.066406 \"/>\n",
       "<path style=\"fill:none;stroke-width:1.062992;stroke-linecap:butt;stroke-linejoin:round;stroke:rgb(49.803922%,49.803922%,49.803922%);stroke-opacity:1;stroke-miterlimit:10;\" d=\"M 36.503906 46.226563 L 40.753906 46.226563 \"/>\n",
       "<path style=\"fill:none;stroke-width:1.062992;stroke-linecap:butt;stroke-linejoin:round;stroke:rgb(49.803922%,49.803922%,49.803922%);stroke-opacity:1;stroke-miterlimit:10;\" d=\"M 36.503906 37.386719 L 40.753906 37.386719 \"/>\n",
       "<path style=\"fill:none;stroke-width:1.062992;stroke-linecap:butt;stroke-linejoin:round;stroke:rgb(49.803922%,49.803922%,49.803922%);stroke-opacity:1;stroke-miterlimit:10;\" d=\"M 36.503906 28.546875 L 40.753906 28.546875 \"/>\n",
       "<path style=\"fill:none;stroke-width:1.062992;stroke-linecap:butt;stroke-linejoin:round;stroke:rgb(49.803922%,49.803922%,49.803922%);stroke-opacity:1;stroke-miterlimit:10;\" d=\"M 36.503906 19.703125 L 40.753906 19.703125 \"/>\n",
       "<path style=\"fill:none;stroke-width:1.062992;stroke-linecap:butt;stroke-linejoin:round;stroke:rgb(49.803922%,49.803922%,49.803922%);stroke-opacity:1;stroke-miterlimit:10;\" d=\"M 93.695313 471.304688 L 93.695313 467.050781 \"/>\n",
       "<path style=\"fill:none;stroke-width:1.062992;stroke-linecap:butt;stroke-linejoin:round;stroke:rgb(49.803922%,49.803922%,49.803922%);stroke-opacity:1;stroke-miterlimit:10;\" d=\"M 181.933594 471.304688 L 181.933594 467.050781 \"/>\n",
       "<path style=\"fill:none;stroke-width:1.062992;stroke-linecap:butt;stroke-linejoin:round;stroke:rgb(49.803922%,49.803922%,49.803922%);stroke-opacity:1;stroke-miterlimit:10;\" d=\"M 270.167969 471.304688 L 270.167969 467.050781 \"/>\n",
       "<path style=\"fill:none;stroke-width:1.062992;stroke-linecap:butt;stroke-linejoin:round;stroke:rgb(49.803922%,49.803922%,49.803922%);stroke-opacity:1;stroke-miterlimit:10;\" d=\"M 358.40625 471.304688 L 358.40625 467.050781 \"/>\n",
       "<g style=\"fill:rgb(49.803922%,49.803922%,49.803922%);fill-opacity:1;\">\n",
       "  <use xlink:href=\"#glyph0-0\" x=\"91.027344\" y=\"481.011719\"/>\n",
       "</g>\n",
       "<g style=\"fill:rgb(49.803922%,49.803922%,49.803922%);fill-opacity:1;\">\n",
       "  <use xlink:href=\"#glyph0-2\" x=\"179.265625\" y=\"481.011719\"/>\n",
       "</g>\n",
       "<g style=\"fill:rgb(49.803922%,49.803922%,49.803922%);fill-opacity:1;\">\n",
       "  <use xlink:href=\"#glyph0-3\" x=\"267.5\" y=\"481.011719\"/>\n",
       "</g>\n",
       "<g style=\"fill:rgb(49.803922%,49.803922%,49.803922%);fill-opacity:1;\">\n",
       "  <use xlink:href=\"#glyph0-9\" x=\"355.738281\" y=\"481.011719\"/>\n",
       "</g>\n",
       "<g style=\"fill:rgb(0%,0%,0%);fill-opacity:1;\">\n",
       "  <use xlink:href=\"#glyph1-0\" x=\"206.714844\" y=\"493.199219\"/>\n",
       "  <use xlink:href=\"#glyph1-1\" x=\"214.71875\" y=\"493.199219\"/>\n",
       "  <use xlink:href=\"#glyph1-2\" x=\"222.048828\" y=\"493.199219\"/>\n",
       "  <use xlink:href=\"#glyph1-1\" x=\"230.052734\" y=\"493.199219\"/>\n",
       "  <use xlink:href=\"#glyph1-3\" x=\"237.382813\" y=\"493.199219\"/>\n",
       "</g>\n",
       "<g style=\"fill:rgb(0%,0%,0%);fill-opacity:1;\">\n",
       "  <use xlink:href=\"#glyph2-0\" x=\"19.390625\" y=\"253.0625\"/>\n",
       "  <use xlink:href=\"#glyph2-1\" x=\"19.390625\" y=\"245.058594\"/>\n",
       "  <use xlink:href=\"#glyph2-2\" x=\"19.390625\" y=\"236.392578\"/>\n",
       "</g>\n",
       "<path style=\" stroke:none;fill-rule:nonzero;fill:rgb(100%,100%,100%);fill-opacity:1;\" d=\"M 421.382813 293.929688 L 479.566406 293.929688 L 479.566406 187.527344 L 421.382813 187.527344 Z M 421.382813 293.929688 \"/>\n",
       "<g clip-path=\"url(#clip2)\" clip-rule=\"nonzero\">\n",
       "<rect x=\"0\" y=\"0\" width=\"504\" height=\"504\" style=\"fill:url(#pattern0);stroke:none;\"/>\n",
       "</g>\n",
       "<g style=\"fill:rgb(0%,0%,0%);fill-opacity:1;\">\n",
       "  <use xlink:href=\"#glyph0-2\" x=\"447.234375\" y=\"281.101563\"/>\n",
       "  <use xlink:href=\"#glyph0-10\" x=\"452.573438\" y=\"281.101563\"/>\n",
       "  <use xlink:href=\"#glyph0-11\" x=\"457.9125\" y=\"281.101563\"/>\n",
       "  <use xlink:href=\"#glyph0-1\" x=\"463.51875\" y=\"281.101563\"/>\n",
       "  <use xlink:href=\"#glyph0-4\" x=\"468.857813\" y=\"281.101563\"/>\n",
       "</g>\n",
       "<g style=\"fill:rgb(0%,0%,0%);fill-opacity:1;\">\n",
       "  <use xlink:href=\"#glyph0-3\" x=\"447.234375\" y=\"264.6875\"/>\n",
       "  <use xlink:href=\"#glyph0-10\" x=\"452.573438\" y=\"264.6875\"/>\n",
       "  <use xlink:href=\"#glyph0-11\" x=\"457.9125\" y=\"264.6875\"/>\n",
       "  <use xlink:href=\"#glyph0-1\" x=\"463.51875\" y=\"264.6875\"/>\n",
       "  <use xlink:href=\"#glyph0-4\" x=\"468.857813\" y=\"264.6875\"/>\n",
       "</g>\n",
       "<g style=\"fill:rgb(0%,0%,0%);fill-opacity:1;\">\n",
       "  <use xlink:href=\"#glyph0-9\" x=\"447.234375\" y=\"248.269531\"/>\n",
       "  <use xlink:href=\"#glyph0-10\" x=\"452.573438\" y=\"248.269531\"/>\n",
       "  <use xlink:href=\"#glyph0-11\" x=\"457.9125\" y=\"248.269531\"/>\n",
       "  <use xlink:href=\"#glyph0-1\" x=\"463.51875\" y=\"248.269531\"/>\n",
       "  <use xlink:href=\"#glyph0-4\" x=\"468.857813\" y=\"248.269531\"/>\n",
       "</g>\n",
       "<g style=\"fill:rgb(0%,0%,0%);fill-opacity:1;\">\n",
       "  <use xlink:href=\"#glyph0-4\" x=\"447.234375\" y=\"231.855469\"/>\n",
       "  <use xlink:href=\"#glyph0-10\" x=\"452.573438\" y=\"231.855469\"/>\n",
       "  <use xlink:href=\"#glyph0-11\" x=\"457.9125\" y=\"231.855469\"/>\n",
       "  <use xlink:href=\"#glyph0-1\" x=\"463.51875\" y=\"231.855469\"/>\n",
       "  <use xlink:href=\"#glyph0-4\" x=\"468.857813\" y=\"231.855469\"/>\n",
       "</g>\n",
       "<g style=\"fill:rgb(0%,0%,0%);fill-opacity:1;\">\n",
       "  <use xlink:href=\"#glyph0-5\" x=\"447.234375\" y=\"215.4375\"/>\n",
       "  <use xlink:href=\"#glyph0-10\" x=\"452.573438\" y=\"215.4375\"/>\n",
       "  <use xlink:href=\"#glyph0-11\" x=\"457.9125\" y=\"215.4375\"/>\n",
       "  <use xlink:href=\"#glyph0-1\" x=\"463.51875\" y=\"215.4375\"/>\n",
       "  <use xlink:href=\"#glyph0-4\" x=\"468.857813\" y=\"215.4375\"/>\n",
       "</g>\n",
       "<g style=\"fill:rgb(0%,0%,0%);fill-opacity:1;\">\n",
       "  <use xlink:href=\"#glyph3-0\" x=\"425.632813\" y=\"198.800781\"/>\n",
       "  <use xlink:href=\"#glyph3-1\" x=\"432.565625\" y=\"198.800781\"/>\n",
       "  <use xlink:href=\"#glyph3-2\" x=\"437.904688\" y=\"198.800781\"/>\n",
       "  <use xlink:href=\"#glyph3-3\" x=\"443.76875\" y=\"198.800781\"/>\n",
       "  <use xlink:href=\"#glyph3-4\" x=\"450.171875\" y=\"198.800781\"/>\n",
       "  <use xlink:href=\"#glyph3-5\" x=\"453.907812\" y=\"198.800781\"/>\n",
       "  <use xlink:href=\"#glyph3-6\" x=\"456.575\" y=\"198.800781\"/>\n",
       "  <use xlink:href=\"#glyph3-7\" x=\"461.914063\" y=\"198.800781\"/>\n",
       "</g>\n",
       "<path style=\"fill:none;stroke-width:0.375;stroke-linecap:butt;stroke-linejoin:round;stroke:rgb(100%,100%,100%);stroke-opacity:1;stroke-miterlimit:10;\" d=\"M 425.632813 277.667969 L 429.089844 277.667969 \"/>\n",
       "<path style=\"fill:none;stroke-width:0.375;stroke-linecap:butt;stroke-linejoin:round;stroke:rgb(100%,100%,100%);stroke-opacity:1;stroke-miterlimit:10;\" d=\"M 425.632813 261.25 L 429.089844 261.25 \"/>\n",
       "<path style=\"fill:none;stroke-width:0.375;stroke-linecap:butt;stroke-linejoin:round;stroke:rgb(100%,100%,100%);stroke-opacity:1;stroke-miterlimit:10;\" d=\"M 425.632813 244.835938 L 429.089844 244.835938 \"/>\n",
       "<path style=\"fill:none;stroke-width:0.375;stroke-linecap:butt;stroke-linejoin:round;stroke:rgb(100%,100%,100%);stroke-opacity:1;stroke-miterlimit:10;\" d=\"M 425.632813 228.417969 L 429.089844 228.417969 \"/>\n",
       "<path style=\"fill:none;stroke-width:0.375;stroke-linecap:butt;stroke-linejoin:round;stroke:rgb(100%,100%,100%);stroke-opacity:1;stroke-miterlimit:10;\" d=\"M 425.632813 212.003906 L 429.089844 212.003906 \"/>\n",
       "<path style=\"fill:none;stroke-width:0.375;stroke-linecap:butt;stroke-linejoin:round;stroke:rgb(100%,100%,100%);stroke-opacity:1;stroke-miterlimit:10;\" d=\"M 439.457031 277.667969 L 442.914063 277.667969 \"/>\n",
       "<path style=\"fill:none;stroke-width:0.375;stroke-linecap:butt;stroke-linejoin:round;stroke:rgb(100%,100%,100%);stroke-opacity:1;stroke-miterlimit:10;\" d=\"M 439.457031 261.25 L 442.914063 261.25 \"/>\n",
       "<path style=\"fill:none;stroke-width:0.375;stroke-linecap:butt;stroke-linejoin:round;stroke:rgb(100%,100%,100%);stroke-opacity:1;stroke-miterlimit:10;\" d=\"M 439.457031 244.835938 L 442.914063 244.835938 \"/>\n",
       "<path style=\"fill:none;stroke-width:0.375;stroke-linecap:butt;stroke-linejoin:round;stroke:rgb(100%,100%,100%);stroke-opacity:1;stroke-miterlimit:10;\" d=\"M 439.457031 228.417969 L 442.914063 228.417969 \"/>\n",
       "<path style=\"fill:none;stroke-width:0.375;stroke-linecap:butt;stroke-linejoin:round;stroke:rgb(100%,100%,100%);stroke-opacity:1;stroke-miterlimit:10;\" d=\"M 439.457031 212.003906 L 442.914063 212.003906 \"/>\n",
       "</g>\n",
       "</svg>\n"
      ],
      "text/plain": [
       "plot without title"
      ]
     },
     "metadata": {
      "image/svg+xml": {
       "isolated": true
      }
     },
     "output_type": "display_data"
    }
   ],
   "source": [
    "aggDF %>%  \n",
    "  ggplot(aes(STATE, SUB, fill = AvgPrice)) +\n",
    "  geom_tile(colour = \"white\") +\n",
    "  scale_fill_gradient(low = \"white\", high = \"steelblue\")"
   ]
  },
  {
   "cell_type": "code",
   "execution_count": 40,
   "metadata": {
    "collapsed": true
   },
   "outputs": [],
   "source": [
    "sparkR.stop()"
   ]
  },
  {
   "cell_type": "code",
   "execution_count": null,
   "metadata": {
    "collapsed": true
   },
   "outputs": [],
   "source": []
  }
 ],
 "metadata": {
  "kernelspec": {
   "display_name": "R",
   "language": "R",
   "name": "ir"
  },
  "language_info": {
   "codemirror_mode": "r",
   "file_extension": ".r",
   "mimetype": "text/x-r-source",
   "name": "R",
   "pygments_lexer": "r",
   "version": "3.2.0"
  }
 },
 "nbformat": 4,
 "nbformat_minor": 0
}
